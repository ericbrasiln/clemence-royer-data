{
 "cells": [
  {
   "cell_type": "code",
   "execution_count": 1,
   "metadata": {},
   "outputs": [],
   "source": [
    "# import pandas and plotly modules\n",
    "import pandas as pd\n",
    "import plotly.express as px\n",
    "# import module for dealing with your OS\n",
    "import os"
   ]
  },
  {
   "cell_type": "code",
   "execution_count": 23,
   "metadata": {},
   "outputs": [],
   "source": [
    "# input CSV path\n",
    "csv_path = input(\"Enter CSV path: \")\n",
    "# input name of output file\n",
    "output_file = input(\"Enter output file name: \")\n",
    "# upper case the output file name\n",
    "output_file = output_file.upper()"
   ]
  },
  {
   "cell_type": "code",
   "execution_count": 24,
   "metadata": {},
   "outputs": [],
   "source": [
    "# Create dataframe using pandas `pd.read_csv(<path to csv>)`\n",
    "df = pd.read_csv(f'{csv_path}', sep=',', index_col=0)"
   ]
  },
  {
   "cell_type": "code",
   "execution_count": 25,
   "metadata": {},
   "outputs": [],
   "source": [
    "# use regex to find the pattern of date and remove it\n",
    "df['Acervo'] = df['Acervo'].str.replace('- \\d{4} a \\d{4}', '', regex=True)\n",
    "df['Acervo'] = df['Acervo'].str.replace('- \\d{4}', '', regex=True)"
   ]
  },
  {
   "cell_type": "code",
   "execution_count": 26,
   "metadata": {},
   "outputs": [],
   "source": [
    "# find NA in 'Ano' and delete them\n",
    "df = df[df['Ano'].isna() == False]\n",
    "df['Ano'] = df['Ano'].astype('int64')"
   ]
  },
  {
   "cell_type": "code",
   "execution_count": 27,
   "metadata": {},
   "outputs": [],
   "source": [
    "# iterate over 'Acervo' column and if the value is longer than 40 characters,\n",
    "# replace the last 50 characters with '...'\n",
    "for index, row in df.iterrows():\n",
    "    if len(row['Acervo']) > 40:\n",
    "        df.at[index, 'Acervo'] = row['Acervo'][:40] + '...'"
   ]
  },
  {
   "cell_type": "code",
   "execution_count": 28,
   "metadata": {},
   "outputs": [],
   "source": [
    "# df_ano_acervo = df filtered by 'Ano' and 'Acervo'\n",
    "df_ano_acervo = df.filter(items=['Ano', 'Acervo'])\\\n",
    "    .groupby(['Ano', 'Acervo'])\\\n",
    "    .size()"
   ]
  },
  {
   "cell_type": "code",
   "execution_count": 29,
   "metadata": {},
   "outputs": [],
   "source": [
    "# use reset_index() to reset the index \n",
    "df_ano_acervo = df_ano_acervo.reset_index(name='quant_oco_ano').sort_values(by=['Ano'])"
   ]
  },
  {
   "cell_type": "code",
   "execution_count": 30,
   "metadata": {},
   "outputs": [],
   "source": [
    "# df_acervos = df grouped by 'Acervo'\n",
    "df_acervos = df.groupby('Acervo').size().reset_index(name='Total de Ocorrências').sort_values(by=['Total de Ocorrências'], ascending=False)\n",
    "# limit df_acervos to 20 rows\n",
    "df_acervos = df_acervos.head(20)"
   ]
  },
  {
   "cell_type": "code",
   "execution_count": 31,
   "metadata": {},
   "outputs": [],
   "source": [
    "# df_ano_page = df filtered by 'Ano' and 'Página'\n",
    "df_ano_pg = df.filter(items=['Ano', 'Página'])\\\n",
    "    .groupby(['Ano', 'Página'])\\\n",
    "    .size()\n",
    "df_ano_pg = df_ano_pg.reset_index(name='quant_oco_ano').sort_values(by=['Ano'])\n",
    "df_ano_pg_filter = df_ano_pg.query('Página <=20')\n",
    "df_ano_pg_filter = df_ano_pg_filter.query('Ano >=1877')"
   ]
  },
  {
   "cell_type": "code",
   "execution_count": 32,
   "metadata": {},
   "outputs": [],
   "source": [
    "# df_years = df filtered by 'Ano' and count number of occurrences\n",
    "df_filter = df[(df['Ano'] >= 1877) & (df['Ano'] <= 1954)]\n",
    "df_years = df_filter['Ano'].value_counts()\n",
    "df_years = df_years.reset_index().rename(columns={'index': 'Ano', 'Ano': 'Quantidade'}).sort_values(by=['Ano'])\n"
   ]
  },
  {
   "cell_type": "code",
   "execution_count": 33,
   "metadata": {},
   "outputs": [
    {
     "data": {
      "application/vnd.plotly.v1+json": {
       "config": {
        "plotlyServerURL": "https://plot.ly"
       },
       "data": [
        {
         "customdata": [
          [
           1
          ],
          [
           1
          ],
          [
           2
          ],
          [
           1
          ],
          [
           2
          ],
          [
           2
          ],
          [
           1
          ],
          [
           2
          ],
          [
           1
          ],
          [
           1
          ],
          [
           1
          ],
          [
           1
          ],
          [
           1
          ],
          [
           1
          ],
          [
           2
          ],
          [
           1
          ],
          [
           1
          ],
          [
           2
          ],
          [
           1
          ],
          [
           3
          ],
          [
           2
          ],
          [
           1
          ],
          [
           1
          ],
          [
           1
          ],
          [
           2
          ],
          [
           2
          ],
          [
           1
          ],
          [
           1
          ],
          [
           1
          ],
          [
           2
          ],
          [
           1
          ],
          [
           1
          ],
          [
           3
          ],
          [
           1
          ],
          [
           1
          ],
          [
           1
          ],
          [
           2
          ],
          [
           1
          ],
          [
           1
          ],
          [
           1
          ],
          [
           1
          ],
          [
           1
          ],
          [
           1
          ],
          [
           1
          ],
          [
           1
          ],
          [
           1
          ],
          [
           1
          ],
          [
           1
          ],
          [
           1
          ],
          [
           1
          ],
          [
           1
          ],
          [
           1
          ],
          [
           1
          ],
          [
           1
          ],
          [
           1
          ],
          [
           1
          ],
          [
           1
          ],
          [
           1
          ],
          [
           1
          ],
          [
           1
          ],
          [
           1
          ],
          [
           1
          ],
          [
           1
          ]
         ],
         "hovertemplate": "Ano=%{x}<br>Página=%{y}<br>quant_oco_ano=%{marker.color}<extra></extra>",
         "legendgroup": "",
         "marker": {
          "color": [
           1,
           1,
           2,
           1,
           2,
           2,
           1,
           2,
           1,
           1,
           1,
           1,
           1,
           1,
           2,
           1,
           1,
           2,
           1,
           3,
           2,
           1,
           1,
           1,
           2,
           2,
           1,
           1,
           1,
           2,
           1,
           1,
           3,
           1,
           1,
           1,
           2,
           1,
           1,
           1,
           1,
           1,
           1,
           1,
           1,
           1,
           1,
           1,
           1,
           1,
           1,
           1,
           1,
           1,
           1,
           1,
           1,
           1,
           1,
           1,
           1,
           1,
           1
          ],
          "coloraxis": "coloraxis",
          "size": [
           1,
           1,
           2,
           1,
           2,
           2,
           1,
           2,
           1,
           1,
           1,
           1,
           1,
           1,
           2,
           1,
           1,
           2,
           1,
           3,
           2,
           1,
           1,
           1,
           2,
           2,
           1,
           1,
           1,
           2,
           1,
           1,
           3,
           1,
           1,
           1,
           2,
           1,
           1,
           1,
           1,
           1,
           1,
           1,
           1,
           1,
           1,
           1,
           1,
           1,
           1,
           1,
           1,
           1,
           1,
           1,
           1,
           1,
           1,
           1,
           1,
           1,
           1
          ],
          "sizemode": "area",
          "sizeref": 0.0075,
          "symbol": "circle"
         },
         "mode": "markers",
         "name": "",
         "orientation": "v",
         "showlegend": false,
         "type": "scatter",
         "x": [
          1877,
          1881,
          1881,
          1886,
          1887,
          1888,
          1888,
          1890,
          1892,
          1893,
          1893,
          1894,
          1896,
          1897,
          1897,
          1899,
          1900,
          1900,
          1901,
          1902,
          1902,
          1904,
          1905,
          1905,
          1907,
          1907,
          1908,
          1908,
          1908,
          1909,
          1909,
          1910,
          1911,
          1911,
          1913,
          1917,
          1920,
          1920,
          1920,
          1922,
          1922,
          1923,
          1925,
          1926,
          1927,
          1927,
          1930,
          1930,
          1931,
          1931,
          1931,
          1931,
          1932,
          1934,
          1936,
          1936,
          1937,
          1940,
          1951,
          1952,
          1953,
          1954,
          1954
         ],
         "xaxis": "x",
         "y": [
          1,
          1,
          3,
          2,
          2,
          1,
          2,
          2,
          2,
          2,
          4,
          2,
          2,
          2,
          3,
          1,
          3,
          2,
          3,
          1,
          2,
          1,
          1,
          2,
          1,
          2,
          8,
          2,
          1,
          1,
          3,
          4,
          1,
          20,
          2,
          1,
          1,
          4,
          2,
          2,
          5,
          17,
          6,
          2,
          8,
          5,
          2,
          6,
          1,
          6,
          9,
          20,
          2,
          5,
          16,
          19,
          12,
          12,
          8,
          9,
          9,
          4,
          10
         ],
         "yaxis": "y"
        }
       ],
       "layout": {
        "autosize": true,
        "coloraxis": {
         "colorbar": {
          "title": {
           "text": "quant_oco_ano"
          }
         },
         "colorscale": [
          [
           0,
           "#0d0887"
          ],
          [
           0.1111111111111111,
           "#46039f"
          ],
          [
           0.2222222222222222,
           "#7201a8"
          ],
          [
           0.3333333333333333,
           "#9c179e"
          ],
          [
           0.4444444444444444,
           "#bd3786"
          ],
          [
           0.5555555555555556,
           "#d8576b"
          ],
          [
           0.6666666666666666,
           "#ed7953"
          ],
          [
           0.7777777777777778,
           "#fb9f3a"
          ],
          [
           0.8888888888888888,
           "#fdca26"
          ],
          [
           1,
           "#f0f921"
          ]
         ]
        },
        "height": 1000,
        "hovermode": "closest",
        "legend": {
         "itemsizing": "constant",
         "orientation": "v",
         "tracegroupgap": 0
        },
        "showlegend": false,
        "template": {
         "data": {
          "bar": [
           {
            "error_x": {
             "color": "#2a3f5f"
            },
            "error_y": {
             "color": "#2a3f5f"
            },
            "marker": {
             "line": {
              "color": "#E5ECF6",
              "width": 0.5
             },
             "pattern": {
              "fillmode": "overlay",
              "size": 10,
              "solidity": 0.2
             }
            },
            "type": "bar"
           }
          ],
          "barpolar": [
           {
            "marker": {
             "line": {
              "color": "#E5ECF6",
              "width": 0.5
             },
             "pattern": {
              "fillmode": "overlay",
              "size": 10,
              "solidity": 0.2
             }
            },
            "type": "barpolar"
           }
          ],
          "carpet": [
           {
            "aaxis": {
             "endlinecolor": "#2a3f5f",
             "gridcolor": "white",
             "linecolor": "white",
             "minorgridcolor": "white",
             "startlinecolor": "#2a3f5f"
            },
            "baxis": {
             "endlinecolor": "#2a3f5f",
             "gridcolor": "white",
             "linecolor": "white",
             "minorgridcolor": "white",
             "startlinecolor": "#2a3f5f"
            },
            "type": "carpet"
           }
          ],
          "choropleth": [
           {
            "colorbar": {
             "outlinewidth": 0,
             "ticks": ""
            },
            "type": "choropleth"
           }
          ],
          "contour": [
           {
            "colorbar": {
             "outlinewidth": 0,
             "ticks": ""
            },
            "colorscale": [
             [
              0,
              "#0d0887"
             ],
             [
              0.1111111111111111,
              "#46039f"
             ],
             [
              0.2222222222222222,
              "#7201a8"
             ],
             [
              0.3333333333333333,
              "#9c179e"
             ],
             [
              0.4444444444444444,
              "#bd3786"
             ],
             [
              0.5555555555555556,
              "#d8576b"
             ],
             [
              0.6666666666666666,
              "#ed7953"
             ],
             [
              0.7777777777777778,
              "#fb9f3a"
             ],
             [
              0.8888888888888888,
              "#fdca26"
             ],
             [
              1,
              "#f0f921"
             ]
            ],
            "type": "contour"
           }
          ],
          "contourcarpet": [
           {
            "colorbar": {
             "outlinewidth": 0,
             "ticks": ""
            },
            "type": "contourcarpet"
           }
          ],
          "heatmap": [
           {
            "colorbar": {
             "outlinewidth": 0,
             "ticks": ""
            },
            "colorscale": [
             [
              0,
              "#0d0887"
             ],
             [
              0.1111111111111111,
              "#46039f"
             ],
             [
              0.2222222222222222,
              "#7201a8"
             ],
             [
              0.3333333333333333,
              "#9c179e"
             ],
             [
              0.4444444444444444,
              "#bd3786"
             ],
             [
              0.5555555555555556,
              "#d8576b"
             ],
             [
              0.6666666666666666,
              "#ed7953"
             ],
             [
              0.7777777777777778,
              "#fb9f3a"
             ],
             [
              0.8888888888888888,
              "#fdca26"
             ],
             [
              1,
              "#f0f921"
             ]
            ],
            "type": "heatmap"
           }
          ],
          "heatmapgl": [
           {
            "colorbar": {
             "outlinewidth": 0,
             "ticks": ""
            },
            "colorscale": [
             [
              0,
              "#0d0887"
             ],
             [
              0.1111111111111111,
              "#46039f"
             ],
             [
              0.2222222222222222,
              "#7201a8"
             ],
             [
              0.3333333333333333,
              "#9c179e"
             ],
             [
              0.4444444444444444,
              "#bd3786"
             ],
             [
              0.5555555555555556,
              "#d8576b"
             ],
             [
              0.6666666666666666,
              "#ed7953"
             ],
             [
              0.7777777777777778,
              "#fb9f3a"
             ],
             [
              0.8888888888888888,
              "#fdca26"
             ],
             [
              1,
              "#f0f921"
             ]
            ],
            "type": "heatmapgl"
           }
          ],
          "histogram": [
           {
            "marker": {
             "pattern": {
              "fillmode": "overlay",
              "size": 10,
              "solidity": 0.2
             }
            },
            "type": "histogram"
           }
          ],
          "histogram2d": [
           {
            "colorbar": {
             "outlinewidth": 0,
             "ticks": ""
            },
            "colorscale": [
             [
              0,
              "#0d0887"
             ],
             [
              0.1111111111111111,
              "#46039f"
             ],
             [
              0.2222222222222222,
              "#7201a8"
             ],
             [
              0.3333333333333333,
              "#9c179e"
             ],
             [
              0.4444444444444444,
              "#bd3786"
             ],
             [
              0.5555555555555556,
              "#d8576b"
             ],
             [
              0.6666666666666666,
              "#ed7953"
             ],
             [
              0.7777777777777778,
              "#fb9f3a"
             ],
             [
              0.8888888888888888,
              "#fdca26"
             ],
             [
              1,
              "#f0f921"
             ]
            ],
            "type": "histogram2d"
           }
          ],
          "histogram2dcontour": [
           {
            "colorbar": {
             "outlinewidth": 0,
             "ticks": ""
            },
            "colorscale": [
             [
              0,
              "#0d0887"
             ],
             [
              0.1111111111111111,
              "#46039f"
             ],
             [
              0.2222222222222222,
              "#7201a8"
             ],
             [
              0.3333333333333333,
              "#9c179e"
             ],
             [
              0.4444444444444444,
              "#bd3786"
             ],
             [
              0.5555555555555556,
              "#d8576b"
             ],
             [
              0.6666666666666666,
              "#ed7953"
             ],
             [
              0.7777777777777778,
              "#fb9f3a"
             ],
             [
              0.8888888888888888,
              "#fdca26"
             ],
             [
              1,
              "#f0f921"
             ]
            ],
            "type": "histogram2dcontour"
           }
          ],
          "mesh3d": [
           {
            "colorbar": {
             "outlinewidth": 0,
             "ticks": ""
            },
            "type": "mesh3d"
           }
          ],
          "parcoords": [
           {
            "line": {
             "colorbar": {
              "outlinewidth": 0,
              "ticks": ""
             }
            },
            "type": "parcoords"
           }
          ],
          "pie": [
           {
            "automargin": true,
            "type": "pie"
           }
          ],
          "scatter": [
           {
            "fillpattern": {
             "fillmode": "overlay",
             "size": 10,
             "solidity": 0.2
            },
            "type": "scatter"
           }
          ],
          "scatter3d": [
           {
            "line": {
             "colorbar": {
              "outlinewidth": 0,
              "ticks": ""
             }
            },
            "marker": {
             "colorbar": {
              "outlinewidth": 0,
              "ticks": ""
             }
            },
            "type": "scatter3d"
           }
          ],
          "scattercarpet": [
           {
            "marker": {
             "colorbar": {
              "outlinewidth": 0,
              "ticks": ""
             }
            },
            "type": "scattercarpet"
           }
          ],
          "scattergeo": [
           {
            "marker": {
             "colorbar": {
              "outlinewidth": 0,
              "ticks": ""
             }
            },
            "type": "scattergeo"
           }
          ],
          "scattergl": [
           {
            "marker": {
             "colorbar": {
              "outlinewidth": 0,
              "ticks": ""
             }
            },
            "type": "scattergl"
           }
          ],
          "scattermapbox": [
           {
            "marker": {
             "colorbar": {
              "outlinewidth": 0,
              "ticks": ""
             }
            },
            "type": "scattermapbox"
           }
          ],
          "scatterpolar": [
           {
            "marker": {
             "colorbar": {
              "outlinewidth": 0,
              "ticks": ""
             }
            },
            "type": "scatterpolar"
           }
          ],
          "scatterpolargl": [
           {
            "marker": {
             "colorbar": {
              "outlinewidth": 0,
              "ticks": ""
             }
            },
            "type": "scatterpolargl"
           }
          ],
          "scatterternary": [
           {
            "marker": {
             "colorbar": {
              "outlinewidth": 0,
              "ticks": ""
             }
            },
            "type": "scatterternary"
           }
          ],
          "surface": [
           {
            "colorbar": {
             "outlinewidth": 0,
             "ticks": ""
            },
            "colorscale": [
             [
              0,
              "#0d0887"
             ],
             [
              0.1111111111111111,
              "#46039f"
             ],
             [
              0.2222222222222222,
              "#7201a8"
             ],
             [
              0.3333333333333333,
              "#9c179e"
             ],
             [
              0.4444444444444444,
              "#bd3786"
             ],
             [
              0.5555555555555556,
              "#d8576b"
             ],
             [
              0.6666666666666666,
              "#ed7953"
             ],
             [
              0.7777777777777778,
              "#fb9f3a"
             ],
             [
              0.8888888888888888,
              "#fdca26"
             ],
             [
              1,
              "#f0f921"
             ]
            ],
            "type": "surface"
           }
          ],
          "table": [
           {
            "cells": {
             "fill": {
              "color": "#EBF0F8"
             },
             "line": {
              "color": "white"
             }
            },
            "header": {
             "fill": {
              "color": "#C8D4E3"
             },
             "line": {
              "color": "white"
             }
            },
            "type": "table"
           }
          ]
         },
         "layout": {
          "annotationdefaults": {
           "arrowcolor": "#2a3f5f",
           "arrowhead": 0,
           "arrowwidth": 1
          },
          "autotypenumbers": "strict",
          "coloraxis": {
           "colorbar": {
            "outlinewidth": 0,
            "ticks": ""
           }
          },
          "colorscale": {
           "diverging": [
            [
             0,
             "#8e0152"
            ],
            [
             0.1,
             "#c51b7d"
            ],
            [
             0.2,
             "#de77ae"
            ],
            [
             0.3,
             "#f1b6da"
            ],
            [
             0.4,
             "#fde0ef"
            ],
            [
             0.5,
             "#f7f7f7"
            ],
            [
             0.6,
             "#e6f5d0"
            ],
            [
             0.7,
             "#b8e186"
            ],
            [
             0.8,
             "#7fbc41"
            ],
            [
             0.9,
             "#4d9221"
            ],
            [
             1,
             "#276419"
            ]
           ],
           "sequential": [
            [
             0,
             "#0d0887"
            ],
            [
             0.1111111111111111,
             "#46039f"
            ],
            [
             0.2222222222222222,
             "#7201a8"
            ],
            [
             0.3333333333333333,
             "#9c179e"
            ],
            [
             0.4444444444444444,
             "#bd3786"
            ],
            [
             0.5555555555555556,
             "#d8576b"
            ],
            [
             0.6666666666666666,
             "#ed7953"
            ],
            [
             0.7777777777777778,
             "#fb9f3a"
            ],
            [
             0.8888888888888888,
             "#fdca26"
            ],
            [
             1,
             "#f0f921"
            ]
           ],
           "sequentialminus": [
            [
             0,
             "#0d0887"
            ],
            [
             0.1111111111111111,
             "#46039f"
            ],
            [
             0.2222222222222222,
             "#7201a8"
            ],
            [
             0.3333333333333333,
             "#9c179e"
            ],
            [
             0.4444444444444444,
             "#bd3786"
            ],
            [
             0.5555555555555556,
             "#d8576b"
            ],
            [
             0.6666666666666666,
             "#ed7953"
            ],
            [
             0.7777777777777778,
             "#fb9f3a"
            ],
            [
             0.8888888888888888,
             "#fdca26"
            ],
            [
             1,
             "#f0f921"
            ]
           ]
          },
          "colorway": [
           "#636efa",
           "#EF553B",
           "#00cc96",
           "#ab63fa",
           "#FFA15A",
           "#19d3f3",
           "#FF6692",
           "#B6E880",
           "#FF97FF",
           "#FECB52"
          ],
          "font": {
           "color": "#2a3f5f"
          },
          "geo": {
           "bgcolor": "white",
           "lakecolor": "white",
           "landcolor": "#E5ECF6",
           "showlakes": true,
           "showland": true,
           "subunitcolor": "white"
          },
          "hoverlabel": {
           "align": "left"
          },
          "hovermode": "closest",
          "mapbox": {
           "style": "light"
          },
          "paper_bgcolor": "white",
          "plot_bgcolor": "#E5ECF6",
          "polar": {
           "angularaxis": {
            "gridcolor": "white",
            "linecolor": "white",
            "ticks": ""
           },
           "bgcolor": "#E5ECF6",
           "radialaxis": {
            "gridcolor": "white",
            "linecolor": "white",
            "ticks": ""
           }
          },
          "scene": {
           "xaxis": {
            "backgroundcolor": "#E5ECF6",
            "gridcolor": "white",
            "gridwidth": 2,
            "linecolor": "white",
            "showbackground": true,
            "ticks": "",
            "zerolinecolor": "white"
           },
           "yaxis": {
            "backgroundcolor": "#E5ECF6",
            "gridcolor": "white",
            "gridwidth": 2,
            "linecolor": "white",
            "showbackground": true,
            "ticks": "",
            "zerolinecolor": "white"
           },
           "zaxis": {
            "backgroundcolor": "#E5ECF6",
            "gridcolor": "white",
            "gridwidth": 2,
            "linecolor": "white",
            "showbackground": true,
            "ticks": "",
            "zerolinecolor": "white"
           }
          },
          "shapedefaults": {
           "line": {
            "color": "#2a3f5f"
           }
          },
          "ternary": {
           "aaxis": {
            "gridcolor": "white",
            "linecolor": "white",
            "ticks": ""
           },
           "baxis": {
            "gridcolor": "white",
            "linecolor": "white",
            "ticks": ""
           },
           "bgcolor": "#E5ECF6",
           "caxis": {
            "gridcolor": "white",
            "linecolor": "white",
            "ticks": ""
           }
          },
          "title": {
           "x": 0.05
          },
          "xaxis": {
           "automargin": true,
           "gridcolor": "white",
           "linecolor": "white",
           "ticks": "",
           "title": {
            "standoff": 15
           },
           "zerolinecolor": "white",
           "zerolinewidth": 2
          },
          "yaxis": {
           "automargin": true,
           "gridcolor": "white",
           "linecolor": "white",
           "ticks": "",
           "title": {
            "standoff": 15
           },
           "zerolinecolor": "white",
           "zerolinewidth": 2
          }
         }
        },
        "title": {
         "font": {
          "size": 20
         },
         "pad": {
          "b": 0,
          "l": 300,
          "r": 0,
          "t": 0
         },
         "text": "CLEMENCE ROYER NA HDB - Ano X Página"
        },
        "width": 1200,
        "xaxis": {
         "anchor": "y",
         "domain": [
          0,
          1
         ],
         "nticks": 20,
         "tickangle": 60,
         "tickfont": {
          "size": 10
         },
         "ticklen": 5,
         "ticks": "outside",
         "tickwidth": 1,
         "title": {
          "standoff": 25,
          "text": "Difusão das ocorrências nas páginas ao longo do tempo"
         }
        },
        "yaxis": {
         "anchor": "x",
         "domain": [
          0,
          1
         ],
         "tickfont": {
          "size": 10
         },
         "ticklen": 5,
         "ticks": "outside",
         "tickwidth": 1,
         "title": {
          "text": "Páginas"
         }
        }
       }
      }
     },
     "metadata": {},
     "output_type": "display_data"
    }
   ],
   "source": [
    "###############################################################################\n",
    "# Graph 1: Difusão de Ocorrências por Página\n",
    "###############################################################################\n",
    "# scatter plot with plotly express using the count of the number of times the 'Acervo' was repeated\n",
    "fig = px.scatter(df_ano_pg_filter, x= 'Ano' , y='Página', color='quant_oco_ano', height=1000, width=1200,\n",
    "                 hover_data=[df_ano_pg_filter['Ano'], df_ano_pg_filter['Página'], df_ano_pg_filter['quant_oco_ano']],\n",
    "                 title=f\"{output_file} - Ano X Página\",\n",
    "                 size='quant_oco_ano',\n",
    "                 )\n",
    "# config the layout\n",
    "fig.update_layout(\n",
    "    autosize=True,\n",
    "    hovermode=\"closest\",\n",
    "    legend=dict(orientation=\"v\"),\n",
    "    showlegend=False,\n",
    "    xaxis=dict(title=\"Difusão das ocorrências nas páginas ao longo do tempo\"),\n",
    "    yaxis=dict(title=\"Páginas\"),\n",
    "    title_font_size=20,\n",
    "    title_pad=dict(l=300, r=0, t=0, b=0),\n",
    ")\n",
    "# update xaxes\n",
    "fig.update_xaxes(\n",
    "        tickangle = 60,\n",
    "        title_standoff = 25,\n",
    "        nticks=20, tickfont_size=10,\n",
    "        ticks=\"outside\", tickwidth=1,\n",
    "        ticklen=5,\n",
    "        )\n",
    "fig.update_yaxes(\n",
    "        tickfont_size=10,\n",
    "        ticks=\"outside\", tickwidth=1,\n",
    "        ticklen=5,\n",
    "        )\n",
    "fig.show()\n",
    "#save the figure as a html file\n",
    "fig.write_html(f'{output_file}_scatter_pages.html')\n",
    "fig.write_image(f'{output_file}_scatter_pages.png')\n"
   ]
  },
  {
   "cell_type": "code",
   "execution_count": 34,
   "metadata": {},
   "outputs": [
    {
     "data": {
      "application/vnd.plotly.v1+json": {
       "config": {
        "plotlyServerURL": "https://plot.ly"
       },
       "data": [
        {
         "alignmentgroup": "True",
         "hovertemplate": "Acervo=%{x}<br>Total de Ocorrências=%{y}<extra></extra>",
         "legendgroup": "Jornal de Recife (PE) ",
         "marker": {
          "color": "#636efa",
          "pattern": {
           "shape": ""
          }
         },
         "name": "Jornal de Recife (PE) ",
         "offsetgroup": "Jornal de Recife (PE) ",
         "orientation": "v",
         "showlegend": true,
         "textposition": "outside",
         "texttemplate": "%{y:.1s}",
         "type": "bar",
         "x": [
          "Jornal de Recife (PE) "
         ],
         "xaxis": "x",
         "y": [
          8
         ],
         "yaxis": "y"
        },
        {
         "alignmentgroup": "True",
         "hovertemplate": "Acervo=%{x}<br>Total de Ocorrências=%{y}<extra></extra>",
         "legendgroup": "Correio Paulistano (SP) ",
         "marker": {
          "color": "#EF553B",
          "pattern": {
           "shape": ""
          }
         },
         "name": "Correio Paulistano (SP) ",
         "offsetgroup": "Correio Paulistano (SP) ",
         "orientation": "v",
         "showlegend": true,
         "textposition": "outside",
         "texttemplate": "%{y:.1s}",
         "type": "bar",
         "x": [
          "Correio Paulistano (SP) "
         ],
         "xaxis": "x",
         "y": [
          6
         ],
         "yaxis": "y"
        },
        {
         "alignmentgroup": "True",
         "hovertemplate": "Acervo=%{x}<br>Total de Ocorrências=%{y}<extra></extra>",
         "legendgroup": "Jornal do Brasil (RJ) ",
         "marker": {
          "color": "#00cc96",
          "pattern": {
           "shape": ""
          }
         },
         "name": "Jornal do Brasil (RJ) ",
         "offsetgroup": "Jornal do Brasil (RJ) ",
         "orientation": "v",
         "showlegend": true,
         "textposition": "outside",
         "texttemplate": "%{y:.1s}",
         "type": "bar",
         "x": [
          "Jornal do Brasil (RJ) "
         ],
         "xaxis": "x",
         "y": [
          4
         ],
         "yaxis": "y"
        },
        {
         "alignmentgroup": "True",
         "hovertemplate": "Acervo=%{x}<br>Total de Ocorrências=%{y}<extra></extra>",
         "legendgroup": "Pacotilha (MA) ",
         "marker": {
          "color": "#ab63fa",
          "pattern": {
           "shape": ""
          }
         },
         "name": "Pacotilha (MA) ",
         "offsetgroup": "Pacotilha (MA) ",
         "orientation": "v",
         "showlegend": true,
         "textposition": "outside",
         "texttemplate": "%{y:.1s}",
         "type": "bar",
         "x": [
          "Pacotilha (MA) "
         ],
         "xaxis": "x",
         "y": [
          4
         ],
         "yaxis": "y"
        },
        {
         "alignmentgroup": "True",
         "hovertemplate": "Acervo=%{x}<br>Total de Ocorrências=%{y}<extra></extra>",
         "legendgroup": "Annaes da Camara dos Deputados (RJ) ",
         "marker": {
          "color": "#FFA15A",
          "pattern": {
           "shape": ""
          }
         },
         "name": "Annaes da Camara dos Deputados (RJ) ",
         "offsetgroup": "Annaes da Camara dos Deputados (RJ) ",
         "orientation": "v",
         "showlegend": true,
         "textposition": "outside",
         "texttemplate": "%{y:.1s}",
         "type": "bar",
         "x": [
          "Annaes da Camara dos Deputados (RJ) "
         ],
         "xaxis": "x",
         "y": [
          4
         ],
         "yaxis": "y"
        },
        {
         "alignmentgroup": "True",
         "hovertemplate": "Acervo=%{x}<br>Total de Ocorrências=%{y}<extra></extra>",
         "legendgroup": "Jornal do Commercio (RJ) ",
         "marker": {
          "color": "#19d3f3",
          "pattern": {
           "shape": ""
          }
         },
         "name": "Jornal do Commercio (RJ) ",
         "offsetgroup": "Jornal do Commercio (RJ) ",
         "orientation": "v",
         "showlegend": true,
         "textposition": "outside",
         "texttemplate": "%{y:.1s}",
         "type": "bar",
         "x": [
          "Jornal do Commercio (RJ) "
         ],
         "xaxis": "x",
         "y": [
          3
         ],
         "yaxis": "y"
        },
        {
         "alignmentgroup": "True",
         "hovertemplate": "Acervo=%{x}<br>Total de Ocorrências=%{y}<extra></extra>",
         "legendgroup": "Pequeno Jornal : Jornal Pequeno (PE) ",
         "marker": {
          "color": "#FF6692",
          "pattern": {
           "shape": ""
          }
         },
         "name": "Pequeno Jornal : Jornal Pequeno (PE) ",
         "offsetgroup": "Pequeno Jornal : Jornal Pequeno (PE) ",
         "orientation": "v",
         "showlegend": true,
         "textposition": "outside",
         "texttemplate": "%{y:.1s}",
         "type": "bar",
         "x": [
          "Pequeno Jornal : Jornal Pequeno (PE) "
         ],
         "xaxis": "x",
         "y": [
          3
         ],
         "yaxis": "y"
        },
        {
         "alignmentgroup": "True",
         "hovertemplate": "Acervo=%{x}<br>Total de Ocorrências=%{y}<extra></extra>",
         "legendgroup": "A Federação : Orgam do Partido Republica...",
         "marker": {
          "color": "#B6E880",
          "pattern": {
           "shape": ""
          }
         },
         "name": "A Federação : Orgam do Partido Republica...",
         "offsetgroup": "A Federação : Orgam do Partido Republica...",
         "orientation": "v",
         "showlegend": true,
         "textposition": "outside",
         "texttemplate": "%{y:.1s}",
         "type": "bar",
         "x": [
          "A Federação : Orgam do Partido Republica..."
         ],
         "xaxis": "x",
         "y": [
          3
         ],
         "yaxis": "y"
        },
        {
         "alignmentgroup": "True",
         "hovertemplate": "Acervo=%{x}<br>Total de Ocorrências=%{y}<extra></extra>",
         "legendgroup": "Gazeta do Norte : Orgão Liberal (CE) ",
         "marker": {
          "color": "#FF97FF",
          "pattern": {
           "shape": ""
          }
         },
         "name": "Gazeta do Norte : Orgão Liberal (CE) ",
         "offsetgroup": "Gazeta do Norte : Orgão Liberal (CE) ",
         "orientation": "v",
         "showlegend": true,
         "textposition": "outside",
         "texttemplate": "%{y:.1s}",
         "type": "bar",
         "x": [
          "Gazeta do Norte : Orgão Liberal (CE) "
         ],
         "xaxis": "x",
         "y": [
          3
         ],
         "yaxis": "y"
        },
        {
         "alignmentgroup": "True",
         "hovertemplate": "Acervo=%{x}<br>Total de Ocorrências=%{y}<extra></extra>",
         "legendgroup": "Máscara (RS) ",
         "marker": {
          "color": "#FECB52",
          "pattern": {
           "shape": ""
          }
         },
         "name": "Máscara (RS) ",
         "offsetgroup": "Máscara (RS) ",
         "orientation": "v",
         "showlegend": true,
         "textposition": "outside",
         "texttemplate": "%{y:.1s}",
         "type": "bar",
         "x": [
          "Máscara (RS) "
         ],
         "xaxis": "x",
         "y": [
          2
         ],
         "yaxis": "y"
        },
        {
         "alignmentgroup": "True",
         "hovertemplate": "Acervo=%{x}<br>Total de Ocorrências=%{y}<extra></extra>",
         "legendgroup": "Mascara (RS) ",
         "marker": {
          "color": "#636efa",
          "pattern": {
           "shape": ""
          }
         },
         "name": "Mascara (RS) ",
         "offsetgroup": "Mascara (RS) ",
         "orientation": "v",
         "showlegend": true,
         "textposition": "outside",
         "texttemplate": "%{y:.1s}",
         "type": "bar",
         "x": [
          "Mascara (RS) "
         ],
         "xaxis": "x",
         "y": [
          2
         ],
         "yaxis": "y"
        },
        {
         "alignmentgroup": "True",
         "hovertemplate": "Acervo=%{x}<br>Total de Ocorrências=%{y}<extra></extra>",
         "legendgroup": "O Paiz (RJ) ",
         "marker": {
          "color": "#EF553B",
          "pattern": {
           "shape": ""
          }
         },
         "name": "O Paiz (RJ) ",
         "offsetgroup": "O Paiz (RJ) ",
         "orientation": "v",
         "showlegend": true,
         "textposition": "outside",
         "texttemplate": "%{y:.1s}",
         "type": "bar",
         "x": [
          "O Paiz (RJ) "
         ],
         "xaxis": "x",
         "y": [
          2
         ],
         "yaxis": "y"
        },
        {
         "alignmentgroup": "True",
         "hovertemplate": "Acervo=%{x}<br>Total de Ocorrências=%{y}<extra></extra>",
         "legendgroup": "Diario do Maranhão (MA) ",
         "marker": {
          "color": "#00cc96",
          "pattern": {
           "shape": ""
          }
         },
         "name": "Diario do Maranhão (MA) ",
         "offsetgroup": "Diario do Maranhão (MA) ",
         "orientation": "v",
         "showlegend": true,
         "textposition": "outside",
         "texttemplate": "%{y:.1s}",
         "type": "bar",
         "x": [
          "Diario do Maranhão (MA) "
         ],
         "xaxis": "x",
         "y": [
          2
         ],
         "yaxis": "y"
        },
        {
         "alignmentgroup": "True",
         "hovertemplate": "Acervo=%{x}<br>Total de Ocorrências=%{y}<extra></extra>",
         "legendgroup": "Diario de Noticias (RJ) ",
         "marker": {
          "color": "#ab63fa",
          "pattern": {
           "shape": ""
          }
         },
         "name": "Diario de Noticias (RJ) ",
         "offsetgroup": "Diario de Noticias (RJ) ",
         "orientation": "v",
         "showlegend": true,
         "textposition": "outside",
         "texttemplate": "%{y:.1s}",
         "type": "bar",
         "x": [
          "Diario de Noticias (RJ) "
         ],
         "xaxis": "x",
         "y": [
          2
         ],
         "yaxis": "y"
        },
        {
         "alignmentgroup": "True",
         "hovertemplate": "Acervo=%{x}<br>Total de Ocorrências=%{y}<extra></extra>",
         "legendgroup": "Diario de Pernambuco (PE) ",
         "marker": {
          "color": "#FFA15A",
          "pattern": {
           "shape": ""
          }
         },
         "name": "Diario de Pernambuco (PE) ",
         "offsetgroup": "Diario de Pernambuco (PE) ",
         "orientation": "v",
         "showlegend": true,
         "textposition": "outside",
         "texttemplate": "%{y:.1s}",
         "type": "bar",
         "x": [
          "Diario de Pernambuco (PE) "
         ],
         "xaxis": "x",
         "y": [
          2
         ],
         "yaxis": "y"
        },
        {
         "alignmentgroup": "True",
         "hovertemplate": "Acervo=%{x}<br>Total de Ocorrências=%{y}<extra></extra>",
         "legendgroup": "Correio da Manhã (RJ) ",
         "marker": {
          "color": "#19d3f3",
          "pattern": {
           "shape": ""
          }
         },
         "name": "Correio da Manhã (RJ) ",
         "offsetgroup": "Correio da Manhã (RJ) ",
         "orientation": "v",
         "showlegend": true,
         "textposition": "outside",
         "texttemplate": "%{y:.1s}",
         "type": "bar",
         "x": [
          "Correio da Manhã (RJ) "
         ],
         "xaxis": "x",
         "y": [
          2
         ],
         "yaxis": "y"
        },
        {
         "alignmentgroup": "True",
         "hovertemplate": "Acervo=%{x}<br>Total de Ocorrências=%{y}<extra></extra>",
         "legendgroup": "A Provincia (PE) ",
         "marker": {
          "color": "#FF6692",
          "pattern": {
           "shape": ""
          }
         },
         "name": "A Provincia (PE) ",
         "offsetgroup": "A Provincia (PE) ",
         "orientation": "v",
         "showlegend": true,
         "textposition": "outside",
         "texttemplate": "%{y:.1s}",
         "type": "bar",
         "x": [
          "A Provincia (PE) "
         ],
         "xaxis": "x",
         "y": [
          2
         ],
         "yaxis": "y"
        },
        {
         "alignmentgroup": "True",
         "hovertemplate": "Acervo=%{x}<br>Total de Ocorrências=%{y}<extra></extra>",
         "legendgroup": "A Tribuna (SP)  e 1939",
         "marker": {
          "color": "#B6E880",
          "pattern": {
           "shape": ""
          }
         },
         "name": "A Tribuna (SP)  e 1939",
         "offsetgroup": "A Tribuna (SP)  e 1939",
         "orientation": "v",
         "showlegend": true,
         "textposition": "outside",
         "texttemplate": "%{y:.1s}",
         "type": "bar",
         "x": [
          "A Tribuna (SP)  e 1939"
         ],
         "xaxis": "x",
         "y": [
          2
         ],
         "yaxis": "y"
        },
        {
         "alignmentgroup": "True",
         "hovertemplate": "Acervo=%{x}<br>Total de Ocorrências=%{y}<extra></extra>",
         "legendgroup": "Pharol (MG) ",
         "marker": {
          "color": "#FF97FF",
          "pattern": {
           "shape": ""
          }
         },
         "name": "Pharol (MG) ",
         "offsetgroup": "Pharol (MG) ",
         "orientation": "v",
         "showlegend": true,
         "textposition": "outside",
         "texttemplate": "%{y:.1s}",
         "type": "bar",
         "x": [
          "Pharol (MG) "
         ],
         "xaxis": "x",
         "y": [
          2
         ],
         "yaxis": "y"
        },
        {
         "alignmentgroup": "True",
         "hovertemplate": "Acervo=%{x}<br>Total de Ocorrências=%{y}<extra></extra>",
         "legendgroup": "O Jornal (MA) ",
         "marker": {
          "color": "#FECB52",
          "pattern": {
           "shape": ""
          }
         },
         "name": "O Jornal (MA) ",
         "offsetgroup": "O Jornal (MA) ",
         "orientation": "v",
         "showlegend": true,
         "textposition": "outside",
         "texttemplate": "%{y:.1s}",
         "type": "bar",
         "x": [
          "O Jornal (MA) "
         ],
         "xaxis": "x",
         "y": [
          1
         ],
         "yaxis": "y"
        }
       ],
       "layout": {
        "autosize": true,
        "barmode": "relative",
        "height": 800,
        "hovermode": "closest",
        "legend": {
         "orientation": "v",
         "title": {
          "text": "Acervo"
         },
         "tracegroupgap": 0
        },
        "showlegend": false,
        "template": {
         "data": {
          "bar": [
           {
            "error_x": {
             "color": "#2a3f5f"
            },
            "error_y": {
             "color": "#2a3f5f"
            },
            "marker": {
             "line": {
              "color": "#E5ECF6",
              "width": 0.5
             },
             "pattern": {
              "fillmode": "overlay",
              "size": 10,
              "solidity": 0.2
             }
            },
            "type": "bar"
           }
          ],
          "barpolar": [
           {
            "marker": {
             "line": {
              "color": "#E5ECF6",
              "width": 0.5
             },
             "pattern": {
              "fillmode": "overlay",
              "size": 10,
              "solidity": 0.2
             }
            },
            "type": "barpolar"
           }
          ],
          "carpet": [
           {
            "aaxis": {
             "endlinecolor": "#2a3f5f",
             "gridcolor": "white",
             "linecolor": "white",
             "minorgridcolor": "white",
             "startlinecolor": "#2a3f5f"
            },
            "baxis": {
             "endlinecolor": "#2a3f5f",
             "gridcolor": "white",
             "linecolor": "white",
             "minorgridcolor": "white",
             "startlinecolor": "#2a3f5f"
            },
            "type": "carpet"
           }
          ],
          "choropleth": [
           {
            "colorbar": {
             "outlinewidth": 0,
             "ticks": ""
            },
            "type": "choropleth"
           }
          ],
          "contour": [
           {
            "colorbar": {
             "outlinewidth": 0,
             "ticks": ""
            },
            "colorscale": [
             [
              0,
              "#0d0887"
             ],
             [
              0.1111111111111111,
              "#46039f"
             ],
             [
              0.2222222222222222,
              "#7201a8"
             ],
             [
              0.3333333333333333,
              "#9c179e"
             ],
             [
              0.4444444444444444,
              "#bd3786"
             ],
             [
              0.5555555555555556,
              "#d8576b"
             ],
             [
              0.6666666666666666,
              "#ed7953"
             ],
             [
              0.7777777777777778,
              "#fb9f3a"
             ],
             [
              0.8888888888888888,
              "#fdca26"
             ],
             [
              1,
              "#f0f921"
             ]
            ],
            "type": "contour"
           }
          ],
          "contourcarpet": [
           {
            "colorbar": {
             "outlinewidth": 0,
             "ticks": ""
            },
            "type": "contourcarpet"
           }
          ],
          "heatmap": [
           {
            "colorbar": {
             "outlinewidth": 0,
             "ticks": ""
            },
            "colorscale": [
             [
              0,
              "#0d0887"
             ],
             [
              0.1111111111111111,
              "#46039f"
             ],
             [
              0.2222222222222222,
              "#7201a8"
             ],
             [
              0.3333333333333333,
              "#9c179e"
             ],
             [
              0.4444444444444444,
              "#bd3786"
             ],
             [
              0.5555555555555556,
              "#d8576b"
             ],
             [
              0.6666666666666666,
              "#ed7953"
             ],
             [
              0.7777777777777778,
              "#fb9f3a"
             ],
             [
              0.8888888888888888,
              "#fdca26"
             ],
             [
              1,
              "#f0f921"
             ]
            ],
            "type": "heatmap"
           }
          ],
          "heatmapgl": [
           {
            "colorbar": {
             "outlinewidth": 0,
             "ticks": ""
            },
            "colorscale": [
             [
              0,
              "#0d0887"
             ],
             [
              0.1111111111111111,
              "#46039f"
             ],
             [
              0.2222222222222222,
              "#7201a8"
             ],
             [
              0.3333333333333333,
              "#9c179e"
             ],
             [
              0.4444444444444444,
              "#bd3786"
             ],
             [
              0.5555555555555556,
              "#d8576b"
             ],
             [
              0.6666666666666666,
              "#ed7953"
             ],
             [
              0.7777777777777778,
              "#fb9f3a"
             ],
             [
              0.8888888888888888,
              "#fdca26"
             ],
             [
              1,
              "#f0f921"
             ]
            ],
            "type": "heatmapgl"
           }
          ],
          "histogram": [
           {
            "marker": {
             "pattern": {
              "fillmode": "overlay",
              "size": 10,
              "solidity": 0.2
             }
            },
            "type": "histogram"
           }
          ],
          "histogram2d": [
           {
            "colorbar": {
             "outlinewidth": 0,
             "ticks": ""
            },
            "colorscale": [
             [
              0,
              "#0d0887"
             ],
             [
              0.1111111111111111,
              "#46039f"
             ],
             [
              0.2222222222222222,
              "#7201a8"
             ],
             [
              0.3333333333333333,
              "#9c179e"
             ],
             [
              0.4444444444444444,
              "#bd3786"
             ],
             [
              0.5555555555555556,
              "#d8576b"
             ],
             [
              0.6666666666666666,
              "#ed7953"
             ],
             [
              0.7777777777777778,
              "#fb9f3a"
             ],
             [
              0.8888888888888888,
              "#fdca26"
             ],
             [
              1,
              "#f0f921"
             ]
            ],
            "type": "histogram2d"
           }
          ],
          "histogram2dcontour": [
           {
            "colorbar": {
             "outlinewidth": 0,
             "ticks": ""
            },
            "colorscale": [
             [
              0,
              "#0d0887"
             ],
             [
              0.1111111111111111,
              "#46039f"
             ],
             [
              0.2222222222222222,
              "#7201a8"
             ],
             [
              0.3333333333333333,
              "#9c179e"
             ],
             [
              0.4444444444444444,
              "#bd3786"
             ],
             [
              0.5555555555555556,
              "#d8576b"
             ],
             [
              0.6666666666666666,
              "#ed7953"
             ],
             [
              0.7777777777777778,
              "#fb9f3a"
             ],
             [
              0.8888888888888888,
              "#fdca26"
             ],
             [
              1,
              "#f0f921"
             ]
            ],
            "type": "histogram2dcontour"
           }
          ],
          "mesh3d": [
           {
            "colorbar": {
             "outlinewidth": 0,
             "ticks": ""
            },
            "type": "mesh3d"
           }
          ],
          "parcoords": [
           {
            "line": {
             "colorbar": {
              "outlinewidth": 0,
              "ticks": ""
             }
            },
            "type": "parcoords"
           }
          ],
          "pie": [
           {
            "automargin": true,
            "type": "pie"
           }
          ],
          "scatter": [
           {
            "fillpattern": {
             "fillmode": "overlay",
             "size": 10,
             "solidity": 0.2
            },
            "type": "scatter"
           }
          ],
          "scatter3d": [
           {
            "line": {
             "colorbar": {
              "outlinewidth": 0,
              "ticks": ""
             }
            },
            "marker": {
             "colorbar": {
              "outlinewidth": 0,
              "ticks": ""
             }
            },
            "type": "scatter3d"
           }
          ],
          "scattercarpet": [
           {
            "marker": {
             "colorbar": {
              "outlinewidth": 0,
              "ticks": ""
             }
            },
            "type": "scattercarpet"
           }
          ],
          "scattergeo": [
           {
            "marker": {
             "colorbar": {
              "outlinewidth": 0,
              "ticks": ""
             }
            },
            "type": "scattergeo"
           }
          ],
          "scattergl": [
           {
            "marker": {
             "colorbar": {
              "outlinewidth": 0,
              "ticks": ""
             }
            },
            "type": "scattergl"
           }
          ],
          "scattermapbox": [
           {
            "marker": {
             "colorbar": {
              "outlinewidth": 0,
              "ticks": ""
             }
            },
            "type": "scattermapbox"
           }
          ],
          "scatterpolar": [
           {
            "marker": {
             "colorbar": {
              "outlinewidth": 0,
              "ticks": ""
             }
            },
            "type": "scatterpolar"
           }
          ],
          "scatterpolargl": [
           {
            "marker": {
             "colorbar": {
              "outlinewidth": 0,
              "ticks": ""
             }
            },
            "type": "scatterpolargl"
           }
          ],
          "scatterternary": [
           {
            "marker": {
             "colorbar": {
              "outlinewidth": 0,
              "ticks": ""
             }
            },
            "type": "scatterternary"
           }
          ],
          "surface": [
           {
            "colorbar": {
             "outlinewidth": 0,
             "ticks": ""
            },
            "colorscale": [
             [
              0,
              "#0d0887"
             ],
             [
              0.1111111111111111,
              "#46039f"
             ],
             [
              0.2222222222222222,
              "#7201a8"
             ],
             [
              0.3333333333333333,
              "#9c179e"
             ],
             [
              0.4444444444444444,
              "#bd3786"
             ],
             [
              0.5555555555555556,
              "#d8576b"
             ],
             [
              0.6666666666666666,
              "#ed7953"
             ],
             [
              0.7777777777777778,
              "#fb9f3a"
             ],
             [
              0.8888888888888888,
              "#fdca26"
             ],
             [
              1,
              "#f0f921"
             ]
            ],
            "type": "surface"
           }
          ],
          "table": [
           {
            "cells": {
             "fill": {
              "color": "#EBF0F8"
             },
             "line": {
              "color": "white"
             }
            },
            "header": {
             "fill": {
              "color": "#C8D4E3"
             },
             "line": {
              "color": "white"
             }
            },
            "type": "table"
           }
          ]
         },
         "layout": {
          "annotationdefaults": {
           "arrowcolor": "#2a3f5f",
           "arrowhead": 0,
           "arrowwidth": 1
          },
          "autotypenumbers": "strict",
          "coloraxis": {
           "colorbar": {
            "outlinewidth": 0,
            "ticks": ""
           }
          },
          "colorscale": {
           "diverging": [
            [
             0,
             "#8e0152"
            ],
            [
             0.1,
             "#c51b7d"
            ],
            [
             0.2,
             "#de77ae"
            ],
            [
             0.3,
             "#f1b6da"
            ],
            [
             0.4,
             "#fde0ef"
            ],
            [
             0.5,
             "#f7f7f7"
            ],
            [
             0.6,
             "#e6f5d0"
            ],
            [
             0.7,
             "#b8e186"
            ],
            [
             0.8,
             "#7fbc41"
            ],
            [
             0.9,
             "#4d9221"
            ],
            [
             1,
             "#276419"
            ]
           ],
           "sequential": [
            [
             0,
             "#0d0887"
            ],
            [
             0.1111111111111111,
             "#46039f"
            ],
            [
             0.2222222222222222,
             "#7201a8"
            ],
            [
             0.3333333333333333,
             "#9c179e"
            ],
            [
             0.4444444444444444,
             "#bd3786"
            ],
            [
             0.5555555555555556,
             "#d8576b"
            ],
            [
             0.6666666666666666,
             "#ed7953"
            ],
            [
             0.7777777777777778,
             "#fb9f3a"
            ],
            [
             0.8888888888888888,
             "#fdca26"
            ],
            [
             1,
             "#f0f921"
            ]
           ],
           "sequentialminus": [
            [
             0,
             "#0d0887"
            ],
            [
             0.1111111111111111,
             "#46039f"
            ],
            [
             0.2222222222222222,
             "#7201a8"
            ],
            [
             0.3333333333333333,
             "#9c179e"
            ],
            [
             0.4444444444444444,
             "#bd3786"
            ],
            [
             0.5555555555555556,
             "#d8576b"
            ],
            [
             0.6666666666666666,
             "#ed7953"
            ],
            [
             0.7777777777777778,
             "#fb9f3a"
            ],
            [
             0.8888888888888888,
             "#fdca26"
            ],
            [
             1,
             "#f0f921"
            ]
           ]
          },
          "colorway": [
           "#636efa",
           "#EF553B",
           "#00cc96",
           "#ab63fa",
           "#FFA15A",
           "#19d3f3",
           "#FF6692",
           "#B6E880",
           "#FF97FF",
           "#FECB52"
          ],
          "font": {
           "color": "#2a3f5f"
          },
          "geo": {
           "bgcolor": "white",
           "lakecolor": "white",
           "landcolor": "#E5ECF6",
           "showlakes": true,
           "showland": true,
           "subunitcolor": "white"
          },
          "hoverlabel": {
           "align": "left"
          },
          "hovermode": "closest",
          "mapbox": {
           "style": "light"
          },
          "paper_bgcolor": "white",
          "plot_bgcolor": "#E5ECF6",
          "polar": {
           "angularaxis": {
            "gridcolor": "white",
            "linecolor": "white",
            "ticks": ""
           },
           "bgcolor": "#E5ECF6",
           "radialaxis": {
            "gridcolor": "white",
            "linecolor": "white",
            "ticks": ""
           }
          },
          "scene": {
           "xaxis": {
            "backgroundcolor": "#E5ECF6",
            "gridcolor": "white",
            "gridwidth": 2,
            "linecolor": "white",
            "showbackground": true,
            "ticks": "",
            "zerolinecolor": "white"
           },
           "yaxis": {
            "backgroundcolor": "#E5ECF6",
            "gridcolor": "white",
            "gridwidth": 2,
            "linecolor": "white",
            "showbackground": true,
            "ticks": "",
            "zerolinecolor": "white"
           },
           "zaxis": {
            "backgroundcolor": "#E5ECF6",
            "gridcolor": "white",
            "gridwidth": 2,
            "linecolor": "white",
            "showbackground": true,
            "ticks": "",
            "zerolinecolor": "white"
           }
          },
          "shapedefaults": {
           "line": {
            "color": "#2a3f5f"
           }
          },
          "ternary": {
           "aaxis": {
            "gridcolor": "white",
            "linecolor": "white",
            "ticks": ""
           },
           "baxis": {
            "gridcolor": "white",
            "linecolor": "white",
            "ticks": ""
           },
           "bgcolor": "#E5ECF6",
           "caxis": {
            "gridcolor": "white",
            "linecolor": "white",
            "ticks": ""
           }
          },
          "title": {
           "x": 0.05
          },
          "xaxis": {
           "automargin": true,
           "gridcolor": "white",
           "linecolor": "white",
           "ticks": "",
           "title": {
            "standoff": 15
           },
           "zerolinecolor": "white",
           "zerolinewidth": 2
          },
          "yaxis": {
           "automargin": true,
           "gridcolor": "white",
           "linecolor": "white",
           "ticks": "",
           "title": {
            "standoff": 15
           },
           "zerolinecolor": "white",
           "zerolinewidth": 2
          }
         }
        },
        "title": {
         "font": {
          "size": 16
         },
         "pad": {
          "b": 0,
          "l": 150,
          "r": 0,
          "t": 0
         },
         "text": "CLEMENCE ROYER NA HDB - Jornal X Total de ocorrências (20+)"
        },
        "width": 1000,
        "xaxis": {
         "anchor": "y",
         "categoryarray": [
          "Jornal de Recife (PE) ",
          "Correio Paulistano (SP) ",
          "Jornal do Brasil (RJ) ",
          "Pacotilha (MA) ",
          "Annaes da Camara dos Deputados (RJ) ",
          "Jornal do Commercio (RJ) ",
          "Pequeno Jornal : Jornal Pequeno (PE) ",
          "A Federação : Orgam do Partido Republica...",
          "Gazeta do Norte : Orgão Liberal (CE) ",
          "Máscara (RS) ",
          "Mascara (RS) ",
          "O Paiz (RJ) ",
          "Diario do Maranhão (MA) ",
          "Diario de Noticias (RJ) ",
          "Diario de Pernambuco (PE) ",
          "Correio da Manhã (RJ) ",
          "A Provincia (PE) ",
          "A Tribuna (SP)  e 1939",
          "Pharol (MG) ",
          "O Jornal (MA) "
         ],
         "categoryorder": "array",
         "domain": [
          0,
          1
         ],
         "nticks": 20,
         "tickangle": 60,
         "tickfont": {
          "size": 10
         },
         "ticklen": 5,
         "ticks": "outside",
         "tickwidth": 1,
         "title": {
          "standoff": 25,
          "text": "Acervos"
         }
        },
        "yaxis": {
         "anchor": "x",
         "domain": [
          0,
          1
         ],
         "tickfont": {
          "size": 10
         },
         "ticklen": 5,
         "ticks": "outside",
         "tickwidth": 1,
         "title": {
          "text": "Total de Ocorrências"
         }
        }
       }
      }
     },
     "metadata": {},
     "output_type": "display_data"
    }
   ],
   "source": [
    "###############################################################################\n",
    "# Graph 2: Gráfico de Barras de Ocorrências em cada Acervo\n",
    "###############################################################################\n",
    "# create a bar chart with the df_acervos dataframe\n",
    "fig = px.bar(df_acervos, x='Acervo', y='Total de Ocorrências', color= 'Acervo', height=800, width=1000,\n",
    "                 hover_data=[df_acervos['Acervo'], df_acervos['Total de Ocorrências']],\n",
    "                 title=f'{output_file} - Jornal X Total de ocorrências (20+)',\n",
    "                 )\n",
    "fig.update_layout(\n",
    "    autosize=True,\n",
    "    hovermode=\"closest\",\n",
    "    legend=dict(orientation=\"v\"),\n",
    "    showlegend=False,\n",
    "    xaxis=dict(title=\"Acervos\"),\n",
    "    yaxis=dict(title=\"Total de Ocorrências\"),\n",
    "    title_font_size=16,\n",
    "    title_pad=dict(l=150, r=0, t=0, b=0),\n",
    ")\n",
    "# show values on the bars\n",
    "fig.update_traces(textposition='outside', texttemplate='%{y:.1s}')\n",
    "fig.update_xaxes(\n",
    "        tickangle = 60,\n",
    "        title_standoff = 25,\n",
    "        nticks=20, tickfont_size=10,\n",
    "        ticks=\"outside\", tickwidth=1,\n",
    "        ticklen=5,\n",
    "        )\n",
    "fig.update_yaxes(\n",
    "        tickfont_size=10,\n",
    "        ticks=\"outside\", tickwidth=1,\n",
    "        ticklen=5,\n",
    "        )\n",
    "fig.show()\n",
    "#save the figure as a html and png file\n",
    "fig.write_html(f'{output_file}_bar_acervos.html')\n",
    "fig.write_image(f'{output_file}_bar_acervos.png')"
   ]
  },
  {
   "cell_type": "code",
   "execution_count": 35,
   "metadata": {},
   "outputs": [
    {
     "data": {
      "application/vnd.plotly.v1+json": {
       "config": {
        "plotlyServerURL": "https://plot.ly"
       },
       "data": [
        {
         "customdata": [
          [
           1
          ]
         ],
         "hovertemplate": "Acervo=%{y}<br>Ano=%{x}<br>quant_oco_ano=%{customdata[0]}<extra></extra>",
         "legendgroup": "Boletim do Grande Oriente Unido e Suprem...",
         "marker": {
          "color": "#636efa",
          "size": [
           1
          ],
          "sizemode": "area",
          "sizeref": 0.01,
          "symbol": "circle"
         },
         "mode": "markers",
         "name": "Boletim do Grande Oriente Unido e Suprem...",
         "orientation": "h",
         "showlegend": true,
         "type": "scatter",
         "x": [
          1874
         ],
         "xaxis": "x",
         "y": [
          "Boletim do Grande Oriente Unido e Suprem..."
         ],
         "yaxis": "y"
        },
        {
         "customdata": [
          [
           1
          ],
          [
           1
          ],
          [
           1
          ],
          [
           1
          ],
          [
           1
          ],
          [
           2
          ],
          [
           1
          ]
         ],
         "hovertemplate": "Acervo=%{y}<br>Ano=%{x}<br>quant_oco_ano=%{customdata[0]}<extra></extra>",
         "legendgroup": "Jornal de Recife (PE) ",
         "marker": {
          "color": "#EF553B",
          "size": [
           1,
           1,
           1,
           1,
           1,
           2,
           1
          ],
          "sizemode": "area",
          "sizeref": 0.01,
          "symbol": "circle"
         },
         "mode": "markers",
         "name": "Jornal de Recife (PE) ",
         "orientation": "h",
         "showlegend": true,
         "type": "scatter",
         "x": [
          1876,
          1894,
          1897,
          1899,
          1917,
          1920,
          1932
         ],
         "xaxis": "x",
         "y": [
          "Jornal de Recife (PE) ",
          "Jornal de Recife (PE) ",
          "Jornal de Recife (PE) ",
          "Jornal de Recife (PE) ",
          "Jornal de Recife (PE) ",
          "Jornal de Recife (PE) ",
          "Jornal de Recife (PE) "
         ],
         "yaxis": "y"
        },
        {
         "customdata": [
          [
           1
          ]
         ],
         "hovertemplate": "Acervo=%{y}<br>Ano=%{x}<br>quant_oco_ano=%{customdata[0]}<extra></extra>",
         "legendgroup": "O Cearense (CE) ",
         "marker": {
          "color": "#00cc96",
          "size": [
           1
          ],
          "sizemode": "area",
          "sizeref": 0.01,
          "symbol": "circle"
         },
         "mode": "markers",
         "name": "O Cearense (CE) ",
         "orientation": "h",
         "showlegend": true,
         "type": "scatter",
         "x": [
          1877
         ],
         "xaxis": "x",
         "y": [
          "O Cearense (CE) "
         ],
         "yaxis": "y"
        },
        {
         "customdata": [
          [
           3
          ]
         ],
         "hovertemplate": "Acervo=%{y}<br>Ano=%{x}<br>quant_oco_ano=%{customdata[0]}<extra></extra>",
         "legendgroup": "Gazeta do Norte : Orgão Liberal (CE) ",
         "marker": {
          "color": "#ab63fa",
          "size": [
           3
          ],
          "sizemode": "area",
          "sizeref": 0.01,
          "symbol": "circle"
         },
         "mode": "markers",
         "name": "Gazeta do Norte : Orgão Liberal (CE) ",
         "orientation": "h",
         "showlegend": true,
         "type": "scatter",
         "x": [
          1881
         ],
         "xaxis": "x",
         "y": [
          "Gazeta do Norte : Orgão Liberal (CE) "
         ],
         "yaxis": "y"
        },
        {
         "customdata": [
          [
           1
          ]
         ],
         "hovertemplate": "Acervo=%{y}<br>Ano=%{x}<br>quant_oco_ano=%{customdata[0]}<extra></extra>",
         "legendgroup": "L'italia : In Continuazione Del \"Cosmopo...",
         "marker": {
          "color": "#FFA15A",
          "size": [
           1
          ],
          "sizemode": "area",
          "sizeref": 0.01,
          "symbol": "circle"
         },
         "mode": "markers",
         "name": "L'italia : In Continuazione Del \"Cosmopo...",
         "orientation": "h",
         "showlegend": true,
         "type": "scatter",
         "x": [
          1886
         ],
         "xaxis": "x",
         "y": [
          "L'italia : In Continuazione Del \"Cosmopo..."
         ],
         "yaxis": "y"
        },
        {
         "customdata": [
          [
           1
          ]
         ],
         "hovertemplate": "Acervo=%{y}<br>Ano=%{x}<br>quant_oco_ano=%{customdata[0]}<extra></extra>",
         "legendgroup": "Gazeta de Noticias (RJ) ",
         "marker": {
          "color": "#19d3f3",
          "size": [
           1
          ],
          "sizemode": "area",
          "sizeref": 0.01,
          "symbol": "circle"
         },
         "mode": "markers",
         "name": "Gazeta de Noticias (RJ) ",
         "orientation": "h",
         "showlegend": true,
         "type": "scatter",
         "x": [
          1887
         ],
         "xaxis": "x",
         "y": [
          "Gazeta de Noticias (RJ) "
         ],
         "yaxis": "y"
        },
        {
         "customdata": [
          [
           1
          ],
          [
           1
          ]
         ],
         "hovertemplate": "Acervo=%{y}<br>Ano=%{x}<br>quant_oco_ano=%{customdata[0]}<extra></extra>",
         "legendgroup": "O Paiz (RJ) ",
         "marker": {
          "color": "#FF6692",
          "size": [
           1,
           1
          ],
          "sizemode": "area",
          "sizeref": 0.01,
          "symbol": "circle"
         },
         "mode": "markers",
         "name": "O Paiz (RJ) ",
         "orientation": "h",
         "showlegend": true,
         "type": "scatter",
         "x": [
          1887,
          1900
         ],
         "xaxis": "x",
         "y": [
          "O Paiz (RJ) ",
          "O Paiz (RJ) "
         ],
         "yaxis": "y"
        },
        {
         "customdata": [
          [
           1
          ]
         ],
         "hovertemplate": "Acervo=%{y}<br>Ano=%{x}<br>quant_oco_ano=%{customdata[0]}<extra></extra>",
         "legendgroup": "O Apostolo : Periodico religioso  moral ...",
         "marker": {
          "color": "#B6E880",
          "size": [
           1
          ],
          "sizemode": "area",
          "sizeref": 0.01,
          "symbol": "circle"
         },
         "mode": "markers",
         "name": "O Apostolo : Periodico religioso  moral ...",
         "orientation": "h",
         "showlegend": true,
         "type": "scatter",
         "x": [
          1888
         ],
         "xaxis": "x",
         "y": [
          "O Apostolo : Periodico religioso  moral ..."
         ],
         "yaxis": "y"
        },
        {
         "customdata": [
          [
           1
          ],
          [
           1
          ]
         ],
         "hovertemplate": "Acervo=%{y}<br>Ano=%{x}<br>quant_oco_ano=%{customdata[0]}<extra></extra>",
         "legendgroup": "Pharol (MG) ",
         "marker": {
          "color": "#FF97FF",
          "size": [
           1,
           1
          ],
          "sizemode": "area",
          "sizeref": 0.01,
          "symbol": "circle"
         },
         "mode": "markers",
         "name": "Pharol (MG) ",
         "orientation": "h",
         "showlegend": true,
         "type": "scatter",
         "x": [
          1888,
          1905
         ],
         "xaxis": "x",
         "y": [
          "Pharol (MG) ",
          "Pharol (MG) "
         ],
         "yaxis": "y"
        },
        {
         "customdata": [
          [
           1
          ],
          [
           1
          ],
          [
           1
          ],
          [
           1
          ],
          [
           1
          ],
          [
           1
          ]
         ],
         "hovertemplate": "Acervo=%{y}<br>Ano=%{x}<br>quant_oco_ano=%{customdata[0]}<extra></extra>",
         "legendgroup": "Correio Paulistano (SP) ",
         "marker": {
          "color": "#FECB52",
          "size": [
           1,
           1,
           1,
           1,
           1,
           1
          ],
          "sizemode": "area",
          "sizeref": 0.01,
          "symbol": "circle"
         },
         "mode": "markers",
         "name": "Correio Paulistano (SP) ",
         "orientation": "h",
         "showlegend": true,
         "type": "scatter",
         "x": [
          1888,
          1908,
          1951,
          1952,
          1953,
          1954
         ],
         "xaxis": "x",
         "y": [
          "Correio Paulistano (SP) ",
          "Correio Paulistano (SP) ",
          "Correio Paulistano (SP) ",
          "Correio Paulistano (SP) ",
          "Correio Paulistano (SP) ",
          "Correio Paulistano (SP) "
         ],
         "yaxis": "y"
        },
        {
         "customdata": [
          [
           1
          ]
         ],
         "hovertemplate": "Acervo=%{y}<br>Ano=%{x}<br>quant_oco_ano=%{customdata[0]}<extra></extra>",
         "legendgroup": "O Brazil (RJ) ",
         "marker": {
          "color": "#636efa",
          "size": [
           1
          ],
          "sizemode": "area",
          "sizeref": 0.01,
          "symbol": "circle"
         },
         "mode": "markers",
         "name": "O Brazil (RJ) ",
         "orientation": "h",
         "showlegend": true,
         "type": "scatter",
         "x": [
          1890
         ],
         "xaxis": "x",
         "y": [
          "O Brazil (RJ) "
         ],
         "yaxis": "y"
        },
        {
         "customdata": [
          [
           1
          ]
         ],
         "hovertemplate": "Acervo=%{y}<br>Ano=%{x}<br>quant_oco_ano=%{customdata[0]}<extra></extra>",
         "legendgroup": "Reformador (RJ) ",
         "marker": {
          "color": "#EF553B",
          "size": [
           1
          ],
          "sizemode": "area",
          "sizeref": 0.01,
          "symbol": "circle"
         },
         "mode": "markers",
         "name": "Reformador (RJ) ",
         "orientation": "h",
         "showlegend": true,
         "type": "scatter",
         "x": [
          1890
         ],
         "xaxis": "x",
         "y": [
          "Reformador (RJ) "
         ],
         "yaxis": "y"
        },
        {
         "customdata": [
          [
           1
          ],
          [
           1
          ],
          [
           2
          ]
         ],
         "hovertemplate": "Acervo=%{y}<br>Ano=%{x}<br>quant_oco_ano=%{customdata[0]}<extra></extra>",
         "legendgroup": "Jornal do Brasil (RJ) ",
         "marker": {
          "color": "#00cc96",
          "size": [
           1,
           1,
           2
          ],
          "sizemode": "area",
          "sizeref": 0.01,
          "symbol": "circle"
         },
         "mode": "markers",
         "name": "Jornal do Brasil (RJ) ",
         "orientation": "h",
         "showlegend": true,
         "type": "scatter",
         "x": [
          1892,
          1900,
          1936
         ],
         "xaxis": "x",
         "y": [
          "Jornal do Brasil (RJ) ",
          "Jornal do Brasil (RJ) ",
          "Jornal do Brasil (RJ) "
         ],
         "yaxis": "y"
        },
        {
         "customdata": [
          [
           1
          ]
         ],
         "hovertemplate": "Acervo=%{y}<br>Ano=%{x}<br>quant_oco_ano=%{customdata[0]}<extra></extra>",
         "legendgroup": "A Familia : jornal litterario dedicado a...",
         "marker": {
          "color": "#ab63fa",
          "size": [
           1
          ],
          "sizemode": "area",
          "sizeref": 0.01,
          "symbol": "circle"
         },
         "mode": "markers",
         "name": "A Familia : jornal litterario dedicado a...",
         "orientation": "h",
         "showlegend": true,
         "type": "scatter",
         "x": [
          1893
         ],
         "xaxis": "x",
         "y": [
          "A Familia : jornal litterario dedicado a..."
         ],
         "yaxis": "y"
        },
        {
         "customdata": [
          [
           1
          ]
         ],
         "hovertemplate": "Acervo=%{y}<br>Ano=%{x}<br>quant_oco_ano=%{customdata[0]}<extra></extra>",
         "legendgroup": "A Republica: Orgão do Club Republicano (...",
         "marker": {
          "color": "#FFA15A",
          "size": [
           1
          ],
          "sizemode": "area",
          "sizeref": 0.01,
          "symbol": "circle"
         },
         "mode": "markers",
         "name": "A Republica: Orgão do Club Republicano (...",
         "orientation": "h",
         "showlegend": true,
         "type": "scatter",
         "x": [
          1893
         ],
         "xaxis": "x",
         "y": [
          "A Republica: Orgão do Club Republicano (..."
         ],
         "yaxis": "y"
        },
        {
         "customdata": [
          [
           1
          ]
         ],
         "hovertemplate": "Acervo=%{y}<br>Ano=%{x}<br>quant_oco_ano=%{customdata[0]}<extra></extra>",
         "legendgroup": "Amasonas (AM) ",
         "marker": {
          "color": "#19d3f3",
          "size": [
           1
          ],
          "sizemode": "area",
          "sizeref": 0.01,
          "symbol": "circle"
         },
         "mode": "markers",
         "name": "Amasonas (AM) ",
         "orientation": "h",
         "showlegend": true,
         "type": "scatter",
         "x": [
          1896
         ],
         "xaxis": "x",
         "y": [
          "Amasonas (AM) "
         ],
         "yaxis": "y"
        },
        {
         "customdata": [
          [
           1
          ]
         ],
         "hovertemplate": "Acervo=%{y}<br>Ano=%{x}<br>quant_oco_ano=%{customdata[0]}<extra></extra>",
         "legendgroup": "A Noticia (RJ) ",
         "marker": {
          "color": "#FF6692",
          "size": [
           1
          ],
          "sizemode": "area",
          "sizeref": 0.01,
          "symbol": "circle"
         },
         "mode": "markers",
         "name": "A Noticia (RJ) ",
         "orientation": "h",
         "showlegend": true,
         "type": "scatter",
         "x": [
          1897
         ],
         "xaxis": "x",
         "y": [
          "A Noticia (RJ) "
         ],
         "yaxis": "y"
        },
        {
         "customdata": [
          [
           1
          ],
          [
           1
          ],
          [
           1
          ]
         ],
         "hovertemplate": "Acervo=%{y}<br>Ano=%{x}<br>quant_oco_ano=%{customdata[0]}<extra></extra>",
         "legendgroup": "Jornal do Commercio (RJ) ",
         "marker": {
          "color": "#B6E880",
          "size": [
           1,
           1,
           1
          ],
          "sizemode": "area",
          "sizeref": 0.01,
          "symbol": "circle"
         },
         "mode": "markers",
         "name": "Jornal do Commercio (RJ) ",
         "orientation": "h",
         "showlegend": true,
         "type": "scatter",
         "x": [
          1897,
          1902,
          1923
         ],
         "xaxis": "x",
         "y": [
          "Jornal do Commercio (RJ) ",
          "Jornal do Commercio (RJ) ",
          "Jornal do Commercio (RJ) "
         ],
         "yaxis": "y"
        },
        {
         "customdata": [
          [
           1
          ]
         ],
         "hovertemplate": "Acervo=%{y}<br>Ano=%{x}<br>quant_oco_ano=%{customdata[0]}<extra></extra>",
         "legendgroup": "Revista Moderna (RJ) ",
         "marker": {
          "color": "#FF97FF",
          "size": [
           1
          ],
          "sizemode": "area",
          "sizeref": 0.01,
          "symbol": "circle"
         },
         "mode": "markers",
         "name": "Revista Moderna (RJ) ",
         "orientation": "h",
         "showlegend": true,
         "type": "scatter",
         "x": [
          1898
         ],
         "xaxis": "x",
         "y": [
          "Revista Moderna (RJ) "
         ],
         "yaxis": "y"
        },
        {
         "customdata": [
          [
           1
          ]
         ],
         "hovertemplate": "Acervo=%{y}<br>Ano=%{x}<br>quant_oco_ano=%{customdata[0]}<extra></extra>",
         "legendgroup": "O Estado do Espirito-Santo : Ordem e Pro...",
         "marker": {
          "color": "#FECB52",
          "size": [
           1
          ],
          "sizemode": "area",
          "sizeref": 0.01,
          "symbol": "circle"
         },
         "mode": "markers",
         "name": "O Estado do Espirito-Santo : Ordem e Pro...",
         "orientation": "h",
         "showlegend": true,
         "type": "scatter",
         "x": [
          1900
         ],
         "xaxis": "x",
         "y": [
          "O Estado do Espirito-Santo : Ordem e Pro..."
         ],
         "yaxis": "y"
        },
        {
         "customdata": [
          [
           1
          ]
         ],
         "hovertemplate": "Acervo=%{y}<br>Ano=%{x}<br>quant_oco_ano=%{customdata[0]}<extra></extra>",
         "legendgroup": "O Pharol (SP) ",
         "marker": {
          "color": "#636efa",
          "size": [
           1
          ],
          "sizemode": "area",
          "sizeref": 0.01,
          "symbol": "circle"
         },
         "mode": "markers",
         "name": "O Pharol (SP) ",
         "orientation": "h",
         "showlegend": true,
         "type": "scatter",
         "x": [
          1901
         ],
         "xaxis": "x",
         "y": [
          "O Pharol (SP) "
         ],
         "yaxis": "y"
        },
        {
         "customdata": [
          [
           1
          ],
          [
           1
          ]
         ],
         "hovertemplate": "Acervo=%{y}<br>Ano=%{x}<br>quant_oco_ano=%{customdata[0]}<extra></extra>",
         "legendgroup": "Diario do Maranhão (MA) ",
         "marker": {
          "color": "#EF553B",
          "size": [
           1,
           1
          ],
          "sizemode": "area",
          "sizeref": 0.01,
          "symbol": "circle"
         },
         "mode": "markers",
         "name": "Diario do Maranhão (MA) ",
         "orientation": "h",
         "showlegend": true,
         "type": "scatter",
         "x": [
          1902,
          1909
         ],
         "xaxis": "x",
         "y": [
          "Diario do Maranhão (MA) ",
          "Diario do Maranhão (MA) "
         ],
         "yaxis": "y"
        },
        {
         "customdata": [
          [
           1
          ]
         ],
         "hovertemplate": "Acervo=%{y}<br>Ano=%{x}<br>quant_oco_ano=%{customdata[0]}<extra></extra>",
         "legendgroup": "O Commercio de São Paulo (SP) ",
         "marker": {
          "color": "#00cc96",
          "size": [
           1
          ],
          "sizemode": "area",
          "sizeref": 0.01,
          "symbol": "circle"
         },
         "mode": "markers",
         "name": "O Commercio de São Paulo (SP) ",
         "orientation": "h",
         "showlegend": true,
         "type": "scatter",
         "x": [
          1902
         ],
         "xaxis": "x",
         "y": [
          "O Commercio de São Paulo (SP) "
         ],
         "yaxis": "y"
        },
        {
         "customdata": [
          [
           1
          ]
         ],
         "hovertemplate": "Acervo=%{y}<br>Ano=%{x}<br>quant_oco_ano=%{customdata[0]}<extra></extra>",
         "legendgroup": "A Provincia : Orgão do Partido Liberal (...",
         "marker": {
          "color": "#ab63fa",
          "size": [
           1
          ],
          "sizemode": "area",
          "sizeref": 0.01,
          "symbol": "circle"
         },
         "mode": "markers",
         "name": "A Provincia : Orgão do Partido Liberal (...",
         "orientation": "h",
         "showlegend": true,
         "type": "scatter",
         "x": [
          1902
         ],
         "xaxis": "x",
         "y": [
          "A Provincia : Orgão do Partido Liberal (..."
         ],
         "yaxis": "y"
        },
        {
         "customdata": [
          [
           1
          ]
         ],
         "hovertemplate": "Acervo=%{y}<br>Ano=%{x}<br>quant_oco_ano=%{customdata[0]}<extra></extra>",
         "legendgroup": "A Republica : orgão do Partido Republica...",
         "marker": {
          "color": "#FFA15A",
          "size": [
           1
          ],
          "sizemode": "area",
          "sizeref": 0.01,
          "symbol": "circle"
         },
         "mode": "markers",
         "name": "A Republica : orgão do Partido Republica...",
         "orientation": "h",
         "showlegend": true,
         "type": "scatter",
         "x": [
          1902
         ],
         "xaxis": "x",
         "y": [
          "A Republica : orgão do Partido Republica..."
         ],
         "yaxis": "y"
        },
        {
         "customdata": [
          [
           1
          ],
          [
           2
          ],
          [
           1
          ]
         ],
         "hovertemplate": "Acervo=%{y}<br>Ano=%{x}<br>quant_oco_ano=%{customdata[0]}<extra></extra>",
         "legendgroup": "Pacotilha (MA) ",
         "marker": {
          "color": "#19d3f3",
          "size": [
           1,
           2,
           1
          ],
          "sizemode": "area",
          "sizeref": 0.01,
          "symbol": "circle"
         },
         "mode": "markers",
         "name": "Pacotilha (MA) ",
         "orientation": "h",
         "showlegend": true,
         "type": "scatter",
         "x": [
          1904,
          1907,
          1913
         ],
         "xaxis": "x",
         "y": [
          "Pacotilha (MA) ",
          "Pacotilha (MA) ",
          "Pacotilha (MA) "
         ],
         "yaxis": "y"
        },
        {
         "customdata": [
          [
           1
          ],
          [
           1
          ]
         ],
         "hovertemplate": "Acervo=%{y}<br>Ano=%{x}<br>quant_oco_ano=%{customdata[0]}<extra></extra>",
         "legendgroup": "Correio da Manhã (RJ) ",
         "marker": {
          "color": "#FF6692",
          "size": [
           1,
           1
          ],
          "sizemode": "area",
          "sizeref": 0.01,
          "symbol": "circle"
         },
         "mode": "markers",
         "name": "Correio da Manhã (RJ) ",
         "orientation": "h",
         "showlegend": true,
         "type": "scatter",
         "x": [
          1905,
          1930
         ],
         "xaxis": "x",
         "y": [
          "Correio da Manhã (RJ) ",
          "Correio da Manhã (RJ) "
         ],
         "yaxis": "y"
        },
        {
         "customdata": [
          [
           1
          ],
          [
           1
          ],
          [
           1
          ]
         ],
         "hovertemplate": "Acervo=%{y}<br>Ano=%{x}<br>quant_oco_ano=%{customdata[0]}<extra></extra>",
         "legendgroup": "A Federação : Orgam do Partido Republica...",
         "marker": {
          "color": "#B6E880",
          "size": [
           1,
           1,
           1
          ],
          "sizemode": "area",
          "sizeref": 0.01,
          "symbol": "circle"
         },
         "mode": "markers",
         "name": "A Federação : Orgam do Partido Republica...",
         "orientation": "h",
         "showlegend": true,
         "type": "scatter",
         "x": [
          1907,
          1911,
          1927
         ],
         "xaxis": "x",
         "y": [
          "A Federação : Orgam do Partido Republica...",
          "A Federação : Orgam do Partido Republica...",
          "A Federação : Orgam do Partido Republica..."
         ],
         "yaxis": "y"
        },
        {
         "customdata": [
          [
           1
          ]
         ],
         "hovertemplate": "Acervo=%{y}<br>Ano=%{x}<br>quant_oco_ano=%{customdata[0]}<extra></extra>",
         "legendgroup": "O Fluminense (RJ) ",
         "marker": {
          "color": "#FF97FF",
          "size": [
           1
          ],
          "sizemode": "area",
          "sizeref": 0.01,
          "symbol": "circle"
         },
         "mode": "markers",
         "name": "O Fluminense (RJ) ",
         "orientation": "h",
         "showlegend": true,
         "type": "scatter",
         "x": [
          1907
         ],
         "xaxis": "x",
         "y": [
          "O Fluminense (RJ) "
         ],
         "yaxis": "y"
        },
        {
         "customdata": [
          [
           1
          ]
         ],
         "hovertemplate": "Acervo=%{y}<br>Ano=%{x}<br>quant_oco_ano=%{customdata[0]}<extra></extra>",
         "legendgroup": "Jornal do Commercio (AM) ",
         "marker": {
          "color": "#FECB52",
          "size": [
           1
          ],
          "sizemode": "area",
          "sizeref": 0.01,
          "symbol": "circle"
         },
         "mode": "markers",
         "name": "Jornal do Commercio (AM) ",
         "orientation": "h",
         "showlegend": true,
         "type": "scatter",
         "x": [
          1908
         ],
         "xaxis": "x",
         "y": [
          "Jornal do Commercio (AM) "
         ],
         "yaxis": "y"
        },
        {
         "customdata": [
          [
           1
          ],
          [
           1
          ]
         ],
         "hovertemplate": "Acervo=%{y}<br>Ano=%{x}<br>quant_oco_ano=%{customdata[0]}<extra></extra>",
         "legendgroup": "A Tribuna (SP)  e 1939",
         "marker": {
          "color": "#636efa",
          "size": [
           1,
           1
          ],
          "sizemode": "area",
          "sizeref": 0.01,
          "symbol": "circle"
         },
         "mode": "markers",
         "name": "A Tribuna (SP)  e 1939",
         "orientation": "h",
         "showlegend": true,
         "type": "scatter",
         "x": [
          1908,
          1909
         ],
         "xaxis": "x",
         "y": [
          "A Tribuna (SP)  e 1939",
          "A Tribuna (SP)  e 1939"
         ],
         "yaxis": "y"
        },
        {
         "customdata": [
          [
           1
          ]
         ],
         "hovertemplate": "Acervo=%{y}<br>Ano=%{x}<br>quant_oco_ano=%{customdata[0]}<extra></extra>",
         "legendgroup": "Gutenberg : Orgão da Associação Typograp...",
         "marker": {
          "color": "#EF553B",
          "size": [
           1
          ],
          "sizemode": "area",
          "sizeref": 0.01,
          "symbol": "circle"
         },
         "mode": "markers",
         "name": "Gutenberg : Orgão da Associação Typograp...",
         "orientation": "h",
         "showlegend": true,
         "type": "scatter",
         "x": [
          1909
         ],
         "xaxis": "x",
         "y": [
          "Gutenberg : Orgão da Associação Typograp..."
         ],
         "yaxis": "y"
        },
        {
         "customdata": [
          [
           1
          ]
         ],
         "hovertemplate": "Acervo=%{y}<br>Ano=%{x}<br>quant_oco_ano=%{customdata[0]}<extra></extra>",
         "legendgroup": "Fon Fon : Semanario Alegre  Politico  Cr...",
         "marker": {
          "color": "#00cc96",
          "size": [
           1
          ],
          "sizemode": "area",
          "sizeref": 0.01,
          "symbol": "circle"
         },
         "mode": "markers",
         "name": "Fon Fon : Semanario Alegre  Politico  Cr...",
         "orientation": "h",
         "showlegend": true,
         "type": "scatter",
         "x": [
          1910
         ],
         "xaxis": "x",
         "y": [
          "Fon Fon : Semanario Alegre  Politico  Cr..."
         ],
         "yaxis": "y"
        },
        {
         "customdata": [
          [
           2
          ],
          [
           1
          ]
         ],
         "hovertemplate": "Acervo=%{y}<br>Ano=%{x}<br>quant_oco_ano=%{customdata[0]}<extra></extra>",
         "legendgroup": "Pequeno Jornal : Jornal Pequeno (PE) ",
         "marker": {
          "color": "#ab63fa",
          "size": [
           2,
           1
          ],
          "sizemode": "area",
          "sizeref": 0.01,
          "symbol": "circle"
         },
         "mode": "markers",
         "name": "Pequeno Jornal : Jornal Pequeno (PE) ",
         "orientation": "h",
         "showlegend": true,
         "type": "scatter",
         "x": [
          1911,
          1931
         ],
         "xaxis": "x",
         "y": [
          "Pequeno Jornal : Jornal Pequeno (PE) ",
          "Pequeno Jornal : Jornal Pequeno (PE) "
         ],
         "yaxis": "y"
        },
        {
         "customdata": [
          [
           1
          ]
         ],
         "hovertemplate": "Acervo=%{y}<br>Ano=%{x}<br>quant_oco_ano=%{customdata[0]}<extra></extra>",
         "legendgroup": "Ramo de Acacia (PR) ",
         "marker": {
          "color": "#FFA15A",
          "size": [
           1
          ],
          "sizemode": "area",
          "sizeref": 0.01,
          "symbol": "circle"
         },
         "mode": "markers",
         "name": "Ramo de Acacia (PR) ",
         "orientation": "h",
         "showlegend": true,
         "type": "scatter",
         "x": [
          1911
         ],
         "xaxis": "x",
         "y": [
          "Ramo de Acacia (PR) "
         ],
         "yaxis": "y"
        },
        {
         "customdata": [
          [
           1
          ]
         ],
         "hovertemplate": "Acervo=%{y}<br>Ano=%{x}<br>quant_oco_ano=%{customdata[0]}<extra></extra>",
         "legendgroup": "Revista Americana (RJ) ",
         "marker": {
          "color": "#19d3f3",
          "size": [
           1
          ],
          "sizemode": "area",
          "sizeref": 0.01,
          "symbol": "circle"
         },
         "mode": "markers",
         "name": "Revista Americana (RJ) ",
         "orientation": "h",
         "showlegend": true,
         "type": "scatter",
         "x": [
          1912
         ],
         "xaxis": "x",
         "y": [
          "Revista Americana (RJ) "
         ],
         "yaxis": "y"
        },
        {
         "customdata": [
          [
           4
          ]
         ],
         "hovertemplate": "Acervo=%{y}<br>Ano=%{x}<br>quant_oco_ano=%{customdata[0]}<extra></extra>",
         "legendgroup": "Annaes da Camara dos Deputados (RJ) ",
         "marker": {
          "color": "#FF6692",
          "size": [
           4
          ],
          "sizemode": "area",
          "sizeref": 0.01,
          "symbol": "circle"
         },
         "mode": "markers",
         "name": "Annaes da Camara dos Deputados (RJ) ",
         "orientation": "h",
         "showlegend": true,
         "type": "scatter",
         "x": [
          1913
         ],
         "xaxis": "x",
         "y": [
          "Annaes da Camara dos Deputados (RJ) "
         ],
         "yaxis": "y"
        },
        {
         "customdata": [
          [
           1
          ]
         ],
         "hovertemplate": "Acervo=%{y}<br>Ano=%{x}<br>quant_oco_ano=%{customdata[0]}<extra></extra>",
         "legendgroup": "Myrto e Acacia : Orgam do Instituto neo-...",
         "marker": {
          "color": "#B6E880",
          "size": [
           1
          ],
          "sizemode": "area",
          "sizeref": 0.01,
          "symbol": "circle"
         },
         "mode": "markers",
         "name": "Myrto e Acacia : Orgam do Instituto neo-...",
         "orientation": "h",
         "showlegend": true,
         "type": "scatter",
         "x": [
          1916
         ],
         "xaxis": "x",
         "y": [
          "Myrto e Acacia : Orgam do Instituto neo-..."
         ],
         "yaxis": "y"
        },
        {
         "customdata": [
          [
           2
          ]
         ],
         "hovertemplate": "Acervo=%{y}<br>Ano=%{x}<br>quant_oco_ano=%{customdata[0]}<extra></extra>",
         "legendgroup": "Mascara (RS) ",
         "marker": {
          "color": "#FF97FF",
          "size": [
           2
          ],
          "sizemode": "area",
          "sizeref": 0.01,
          "symbol": "circle"
         },
         "mode": "markers",
         "name": "Mascara (RS) ",
         "orientation": "h",
         "showlegend": true,
         "type": "scatter",
         "x": [
          1919
         ],
         "xaxis": "x",
         "y": [
          "Mascara (RS) "
         ],
         "yaxis": "y"
        },
        {
         "customdata": [
          [
           2
          ]
         ],
         "hovertemplate": "Acervo=%{y}<br>Ano=%{x}<br>quant_oco_ano=%{customdata[0]}<extra></extra>",
         "legendgroup": "Máscara (RS) ",
         "marker": {
          "color": "#FECB52",
          "size": [
           2
          ],
          "sizemode": "area",
          "sizeref": 0.01,
          "symbol": "circle"
         },
         "mode": "markers",
         "name": "Máscara (RS) ",
         "orientation": "h",
         "showlegend": true,
         "type": "scatter",
         "x": [
          1919
         ],
         "xaxis": "x",
         "y": [
          "Máscara (RS) "
         ],
         "yaxis": "y"
        },
        {
         "customdata": [
          [
           2
          ]
         ],
         "hovertemplate": "Acervo=%{y}<br>Ano=%{x}<br>quant_oco_ano=%{customdata[0]}<extra></extra>",
         "legendgroup": "A Provincia (PE) ",
         "marker": {
          "color": "#636efa",
          "size": [
           2
          ],
          "sizemode": "area",
          "sizeref": 0.01,
          "symbol": "circle"
         },
         "mode": "markers",
         "name": "A Provincia (PE) ",
         "orientation": "h",
         "showlegend": true,
         "type": "scatter",
         "x": [
          1920
         ],
         "xaxis": "x",
         "y": [
          "A Provincia (PE) "
         ],
         "yaxis": "y"
        },
        {
         "customdata": [
          [
           1
          ]
         ],
         "hovertemplate": "Acervo=%{y}<br>Ano=%{x}<br>quant_oco_ano=%{customdata[0]}<extra></extra>",
         "legendgroup": "Almofadaka (AM) ",
         "marker": {
          "color": "#EF553B",
          "size": [
           1
          ],
          "sizemode": "area",
          "sizeref": 0.01,
          "symbol": "circle"
         },
         "mode": "markers",
         "name": "Almofadaka (AM) ",
         "orientation": "h",
         "showlegend": true,
         "type": "scatter",
         "x": [
          1922
         ],
         "xaxis": "x",
         "y": [
          "Almofadaka (AM) "
         ],
         "yaxis": "y"
        },
        {
         "customdata": [
          [
           1
          ]
         ],
         "hovertemplate": "Acervo=%{y}<br>Ano=%{x}<br>quant_oco_ano=%{customdata[0]}<extra></extra>",
         "legendgroup": "O Jornal (MA) ",
         "marker": {
          "color": "#00cc96",
          "size": [
           1
          ],
          "sizemode": "area",
          "sizeref": 0.01,
          "symbol": "circle"
         },
         "mode": "markers",
         "name": "O Jornal (MA) ",
         "orientation": "h",
         "showlegend": true,
         "type": "scatter",
         "x": [
          1922
         ],
         "xaxis": "x",
         "y": [
          "O Jornal (MA) "
         ],
         "yaxis": "y"
        },
        {
         "customdata": [
          [
           1
          ]
         ],
         "hovertemplate": "Acervo=%{y}<br>Ano=%{x}<br>quant_oco_ano=%{customdata[0]}<extra></extra>",
         "legendgroup": "O Imparcial (RJ) ",
         "marker": {
          "color": "#ab63fa",
          "size": [
           1
          ],
          "sizemode": "area",
          "sizeref": 0.01,
          "symbol": "circle"
         },
         "mode": "markers",
         "name": "O Imparcial (RJ) ",
         "orientation": "h",
         "showlegend": true,
         "type": "scatter",
         "x": [
          1925
         ],
         "xaxis": "x",
         "y": [
          "O Imparcial (RJ) "
         ],
         "yaxis": "y"
        },
        {
         "customdata": [
          [
           1
          ],
          [
           1
          ]
         ],
         "hovertemplate": "Acervo=%{y}<br>Ano=%{x}<br>quant_oco_ano=%{customdata[0]}<extra></extra>",
         "legendgroup": "Diario de Pernambuco (PE) ",
         "marker": {
          "color": "#FFA15A",
          "size": [
           1,
           1
          ],
          "sizemode": "area",
          "sizeref": 0.01,
          "symbol": "circle"
         },
         "mode": "markers",
         "name": "Diario de Pernambuco (PE) ",
         "orientation": "h",
         "showlegend": true,
         "type": "scatter",
         "x": [
          1926,
          1934
         ],
         "xaxis": "x",
         "y": [
          "Diario de Pernambuco (PE) ",
          "Diario de Pernambuco (PE) "
         ],
         "yaxis": "y"
        },
        {
         "customdata": [
          [
           1
          ]
         ],
         "hovertemplate": "Acervo=%{y}<br>Ano=%{x}<br>quant_oco_ano=%{customdata[0]}<extra></extra>",
         "legendgroup": "Revista da Semana (RJ) ",
         "marker": {
          "color": "#19d3f3",
          "size": [
           1
          ],
          "sizemode": "area",
          "sizeref": 0.01,
          "symbol": "circle"
         },
         "mode": "markers",
         "name": "Revista da Semana (RJ) ",
         "orientation": "h",
         "showlegend": true,
         "type": "scatter",
         "x": [
          1927
         ],
         "xaxis": "x",
         "y": [
          "Revista da Semana (RJ) "
         ],
         "yaxis": "y"
        },
        {
         "customdata": [
          [
           1
          ]
         ],
         "hovertemplate": "Acervo=%{y}<br>Ano=%{x}<br>quant_oco_ano=%{customdata[0]}<extra></extra>",
         "legendgroup": "A Cruz : Orgão da Parochia de S. João Ba...",
         "marker": {
          "color": "#FF6692",
          "size": [
           1
          ],
          "sizemode": "area",
          "sizeref": 0.01,
          "symbol": "circle"
         },
         "mode": "markers",
         "name": "A Cruz : Orgão da Parochia de S. João Ba...",
         "orientation": "h",
         "showlegend": true,
         "type": "scatter",
         "x": [
          1930
         ],
         "xaxis": "x",
         "y": [
          "A Cruz : Orgão da Parochia de S. João Ba..."
         ],
         "yaxis": "y"
        },
        {
         "customdata": [
          [
           1
          ]
         ],
         "hovertemplate": "Acervo=%{y}<br>Ano=%{x}<br>quant_oco_ano=%{customdata[0]}<extra></extra>",
         "legendgroup": "Lusitania : Revista Illustrada de actual...",
         "marker": {
          "color": "#B6E880",
          "size": [
           1
          ],
          "sizemode": "area",
          "sizeref": 0.01,
          "symbol": "circle"
         },
         "mode": "markers",
         "name": "Lusitania : Revista Illustrada de actual...",
         "orientation": "h",
         "showlegend": true,
         "type": "scatter",
         "x": [
          1930
         ],
         "xaxis": "x",
         "y": [
          "Lusitania : Revista Illustrada de actual..."
         ],
         "yaxis": "y"
        },
        {
         "customdata": [
          [
           1
          ]
         ],
         "hovertemplate": "Acervo=%{y}<br>Ano=%{x}<br>quant_oco_ano=%{customdata[0]}<extra></extra>",
         "legendgroup": "Diario Carioca (RJ) ",
         "marker": {
          "color": "#FF97FF",
          "size": [
           1
          ],
          "sizemode": "area",
          "sizeref": 0.01,
          "symbol": "circle"
         },
         "mode": "markers",
         "name": "Diario Carioca (RJ) ",
         "orientation": "h",
         "showlegend": true,
         "type": "scatter",
         "x": [
          1931
         ],
         "xaxis": "x",
         "y": [
          "Diario Carioca (RJ) "
         ],
         "yaxis": "y"
        },
        {
         "customdata": [
          [
           1
          ],
          [
           1
          ]
         ],
         "hovertemplate": "Acervo=%{y}<br>Ano=%{x}<br>quant_oco_ano=%{customdata[0]}<extra></extra>",
         "legendgroup": "Diario de Noticias (RJ) ",
         "marker": {
          "color": "#FECB52",
          "size": [
           1,
           1
          ],
          "sizemode": "area",
          "sizeref": 0.01,
          "symbol": "circle"
         },
         "mode": "markers",
         "name": "Diario de Noticias (RJ) ",
         "orientation": "h",
         "showlegend": true,
         "type": "scatter",
         "x": [
          1931,
          1940
         ],
         "xaxis": "x",
         "y": [
          "Diario de Noticias (RJ) ",
          "Diario de Noticias (RJ) "
         ],
         "yaxis": "y"
        },
        {
         "customdata": [
          [
           1
          ]
         ],
         "hovertemplate": "Acervo=%{y}<br>Ano=%{x}<br>quant_oco_ano=%{customdata[0]}<extra></extra>",
         "legendgroup": "O Jornal (RJ) ",
         "marker": {
          "color": "#636efa",
          "size": [
           1
          ],
          "sizemode": "area",
          "sizeref": 0.01,
          "symbol": "circle"
         },
         "mode": "markers",
         "name": "O Jornal (RJ) ",
         "orientation": "h",
         "showlegend": true,
         "type": "scatter",
         "x": [
          1931
         ],
         "xaxis": "x",
         "y": [
          "O Jornal (RJ) "
         ],
         "yaxis": "y"
        },
        {
         "customdata": [
          [
           1
          ]
         ],
         "hovertemplate": "Acervo=%{y}<br>Ano=%{x}<br>quant_oco_ano=%{customdata[0]}<extra></extra>",
         "legendgroup": "Vida Capichaba (ES) ",
         "marker": {
          "color": "#EF553B",
          "size": [
           1
          ],
          "sizemode": "area",
          "sizeref": 0.01,
          "symbol": "circle"
         },
         "mode": "markers",
         "name": "Vida Capichaba (ES) ",
         "orientation": "h",
         "showlegend": true,
         "type": "scatter",
         "x": [
          1934
         ],
         "xaxis": "x",
         "y": [
          "Vida Capichaba (ES) "
         ],
         "yaxis": "y"
        },
        {
         "customdata": [
          [
           1
          ]
         ],
         "hovertemplate": "Acervo=%{y}<br>Ano=%{x}<br>quant_oco_ano=%{customdata[0]}<extra></extra>",
         "legendgroup": "Diário da Manhã (PE) ",
         "marker": {
          "color": "#00cc96",
          "size": [
           1
          ],
          "sizemode": "area",
          "sizeref": 0.01,
          "symbol": "circle"
         },
         "mode": "markers",
         "name": "Diário da Manhã (PE) ",
         "orientation": "h",
         "showlegend": true,
         "type": "scatter",
         "x": [
          1937
         ],
         "xaxis": "x",
         "y": [
          "Diário da Manhã (PE) "
         ],
         "yaxis": "y"
        },
        {
         "customdata": [
          [
           1
          ]
         ],
         "hovertemplate": "Acervo=%{y}<br>Ano=%{x}<br>quant_oco_ano=%{customdata[0]}<extra></extra>",
         "legendgroup": "Tribuna da Imprensa (RJ) ",
         "marker": {
          "color": "#ab63fa",
          "size": [
           1
          ],
          "sizemode": "area",
          "sizeref": 0.01,
          "symbol": "circle"
         },
         "mode": "markers",
         "name": "Tribuna da Imprensa (RJ) ",
         "orientation": "h",
         "showlegend": true,
         "type": "scatter",
         "x": [
          1954
         ],
         "xaxis": "x",
         "y": [
          "Tribuna da Imprensa (RJ) "
         ],
         "yaxis": "y"
        }
       ],
       "layout": {
        "autosize": true,
        "height": 1000,
        "hovermode": "closest",
        "legend": {
         "itemsizing": "constant",
         "orientation": "v",
         "title": {
          "text": "Acervo"
         },
         "tracegroupgap": 0
        },
        "showlegend": false,
        "template": {
         "data": {
          "bar": [
           {
            "error_x": {
             "color": "#2a3f5f"
            },
            "error_y": {
             "color": "#2a3f5f"
            },
            "marker": {
             "line": {
              "color": "#E5ECF6",
              "width": 0.5
             },
             "pattern": {
              "fillmode": "overlay",
              "size": 10,
              "solidity": 0.2
             }
            },
            "type": "bar"
           }
          ],
          "barpolar": [
           {
            "marker": {
             "line": {
              "color": "#E5ECF6",
              "width": 0.5
             },
             "pattern": {
              "fillmode": "overlay",
              "size": 10,
              "solidity": 0.2
             }
            },
            "type": "barpolar"
           }
          ],
          "carpet": [
           {
            "aaxis": {
             "endlinecolor": "#2a3f5f",
             "gridcolor": "white",
             "linecolor": "white",
             "minorgridcolor": "white",
             "startlinecolor": "#2a3f5f"
            },
            "baxis": {
             "endlinecolor": "#2a3f5f",
             "gridcolor": "white",
             "linecolor": "white",
             "minorgridcolor": "white",
             "startlinecolor": "#2a3f5f"
            },
            "type": "carpet"
           }
          ],
          "choropleth": [
           {
            "colorbar": {
             "outlinewidth": 0,
             "ticks": ""
            },
            "type": "choropleth"
           }
          ],
          "contour": [
           {
            "colorbar": {
             "outlinewidth": 0,
             "ticks": ""
            },
            "colorscale": [
             [
              0,
              "#0d0887"
             ],
             [
              0.1111111111111111,
              "#46039f"
             ],
             [
              0.2222222222222222,
              "#7201a8"
             ],
             [
              0.3333333333333333,
              "#9c179e"
             ],
             [
              0.4444444444444444,
              "#bd3786"
             ],
             [
              0.5555555555555556,
              "#d8576b"
             ],
             [
              0.6666666666666666,
              "#ed7953"
             ],
             [
              0.7777777777777778,
              "#fb9f3a"
             ],
             [
              0.8888888888888888,
              "#fdca26"
             ],
             [
              1,
              "#f0f921"
             ]
            ],
            "type": "contour"
           }
          ],
          "contourcarpet": [
           {
            "colorbar": {
             "outlinewidth": 0,
             "ticks": ""
            },
            "type": "contourcarpet"
           }
          ],
          "heatmap": [
           {
            "colorbar": {
             "outlinewidth": 0,
             "ticks": ""
            },
            "colorscale": [
             [
              0,
              "#0d0887"
             ],
             [
              0.1111111111111111,
              "#46039f"
             ],
             [
              0.2222222222222222,
              "#7201a8"
             ],
             [
              0.3333333333333333,
              "#9c179e"
             ],
             [
              0.4444444444444444,
              "#bd3786"
             ],
             [
              0.5555555555555556,
              "#d8576b"
             ],
             [
              0.6666666666666666,
              "#ed7953"
             ],
             [
              0.7777777777777778,
              "#fb9f3a"
             ],
             [
              0.8888888888888888,
              "#fdca26"
             ],
             [
              1,
              "#f0f921"
             ]
            ],
            "type": "heatmap"
           }
          ],
          "heatmapgl": [
           {
            "colorbar": {
             "outlinewidth": 0,
             "ticks": ""
            },
            "colorscale": [
             [
              0,
              "#0d0887"
             ],
             [
              0.1111111111111111,
              "#46039f"
             ],
             [
              0.2222222222222222,
              "#7201a8"
             ],
             [
              0.3333333333333333,
              "#9c179e"
             ],
             [
              0.4444444444444444,
              "#bd3786"
             ],
             [
              0.5555555555555556,
              "#d8576b"
             ],
             [
              0.6666666666666666,
              "#ed7953"
             ],
             [
              0.7777777777777778,
              "#fb9f3a"
             ],
             [
              0.8888888888888888,
              "#fdca26"
             ],
             [
              1,
              "#f0f921"
             ]
            ],
            "type": "heatmapgl"
           }
          ],
          "histogram": [
           {
            "marker": {
             "pattern": {
              "fillmode": "overlay",
              "size": 10,
              "solidity": 0.2
             }
            },
            "type": "histogram"
           }
          ],
          "histogram2d": [
           {
            "colorbar": {
             "outlinewidth": 0,
             "ticks": ""
            },
            "colorscale": [
             [
              0,
              "#0d0887"
             ],
             [
              0.1111111111111111,
              "#46039f"
             ],
             [
              0.2222222222222222,
              "#7201a8"
             ],
             [
              0.3333333333333333,
              "#9c179e"
             ],
             [
              0.4444444444444444,
              "#bd3786"
             ],
             [
              0.5555555555555556,
              "#d8576b"
             ],
             [
              0.6666666666666666,
              "#ed7953"
             ],
             [
              0.7777777777777778,
              "#fb9f3a"
             ],
             [
              0.8888888888888888,
              "#fdca26"
             ],
             [
              1,
              "#f0f921"
             ]
            ],
            "type": "histogram2d"
           }
          ],
          "histogram2dcontour": [
           {
            "colorbar": {
             "outlinewidth": 0,
             "ticks": ""
            },
            "colorscale": [
             [
              0,
              "#0d0887"
             ],
             [
              0.1111111111111111,
              "#46039f"
             ],
             [
              0.2222222222222222,
              "#7201a8"
             ],
             [
              0.3333333333333333,
              "#9c179e"
             ],
             [
              0.4444444444444444,
              "#bd3786"
             ],
             [
              0.5555555555555556,
              "#d8576b"
             ],
             [
              0.6666666666666666,
              "#ed7953"
             ],
             [
              0.7777777777777778,
              "#fb9f3a"
             ],
             [
              0.8888888888888888,
              "#fdca26"
             ],
             [
              1,
              "#f0f921"
             ]
            ],
            "type": "histogram2dcontour"
           }
          ],
          "mesh3d": [
           {
            "colorbar": {
             "outlinewidth": 0,
             "ticks": ""
            },
            "type": "mesh3d"
           }
          ],
          "parcoords": [
           {
            "line": {
             "colorbar": {
              "outlinewidth": 0,
              "ticks": ""
             }
            },
            "type": "parcoords"
           }
          ],
          "pie": [
           {
            "automargin": true,
            "type": "pie"
           }
          ],
          "scatter": [
           {
            "fillpattern": {
             "fillmode": "overlay",
             "size": 10,
             "solidity": 0.2
            },
            "type": "scatter"
           }
          ],
          "scatter3d": [
           {
            "line": {
             "colorbar": {
              "outlinewidth": 0,
              "ticks": ""
             }
            },
            "marker": {
             "colorbar": {
              "outlinewidth": 0,
              "ticks": ""
             }
            },
            "type": "scatter3d"
           }
          ],
          "scattercarpet": [
           {
            "marker": {
             "colorbar": {
              "outlinewidth": 0,
              "ticks": ""
             }
            },
            "type": "scattercarpet"
           }
          ],
          "scattergeo": [
           {
            "marker": {
             "colorbar": {
              "outlinewidth": 0,
              "ticks": ""
             }
            },
            "type": "scattergeo"
           }
          ],
          "scattergl": [
           {
            "marker": {
             "colorbar": {
              "outlinewidth": 0,
              "ticks": ""
             }
            },
            "type": "scattergl"
           }
          ],
          "scattermapbox": [
           {
            "marker": {
             "colorbar": {
              "outlinewidth": 0,
              "ticks": ""
             }
            },
            "type": "scattermapbox"
           }
          ],
          "scatterpolar": [
           {
            "marker": {
             "colorbar": {
              "outlinewidth": 0,
              "ticks": ""
             }
            },
            "type": "scatterpolar"
           }
          ],
          "scatterpolargl": [
           {
            "marker": {
             "colorbar": {
              "outlinewidth": 0,
              "ticks": ""
             }
            },
            "type": "scatterpolargl"
           }
          ],
          "scatterternary": [
           {
            "marker": {
             "colorbar": {
              "outlinewidth": 0,
              "ticks": ""
             }
            },
            "type": "scatterternary"
           }
          ],
          "surface": [
           {
            "colorbar": {
             "outlinewidth": 0,
             "ticks": ""
            },
            "colorscale": [
             [
              0,
              "#0d0887"
             ],
             [
              0.1111111111111111,
              "#46039f"
             ],
             [
              0.2222222222222222,
              "#7201a8"
             ],
             [
              0.3333333333333333,
              "#9c179e"
             ],
             [
              0.4444444444444444,
              "#bd3786"
             ],
             [
              0.5555555555555556,
              "#d8576b"
             ],
             [
              0.6666666666666666,
              "#ed7953"
             ],
             [
              0.7777777777777778,
              "#fb9f3a"
             ],
             [
              0.8888888888888888,
              "#fdca26"
             ],
             [
              1,
              "#f0f921"
             ]
            ],
            "type": "surface"
           }
          ],
          "table": [
           {
            "cells": {
             "fill": {
              "color": "#EBF0F8"
             },
             "line": {
              "color": "white"
             }
            },
            "header": {
             "fill": {
              "color": "#C8D4E3"
             },
             "line": {
              "color": "white"
             }
            },
            "type": "table"
           }
          ]
         },
         "layout": {
          "annotationdefaults": {
           "arrowcolor": "#2a3f5f",
           "arrowhead": 0,
           "arrowwidth": 1
          },
          "autotypenumbers": "strict",
          "coloraxis": {
           "colorbar": {
            "outlinewidth": 0,
            "ticks": ""
           }
          },
          "colorscale": {
           "diverging": [
            [
             0,
             "#8e0152"
            ],
            [
             0.1,
             "#c51b7d"
            ],
            [
             0.2,
             "#de77ae"
            ],
            [
             0.3,
             "#f1b6da"
            ],
            [
             0.4,
             "#fde0ef"
            ],
            [
             0.5,
             "#f7f7f7"
            ],
            [
             0.6,
             "#e6f5d0"
            ],
            [
             0.7,
             "#b8e186"
            ],
            [
             0.8,
             "#7fbc41"
            ],
            [
             0.9,
             "#4d9221"
            ],
            [
             1,
             "#276419"
            ]
           ],
           "sequential": [
            [
             0,
             "#0d0887"
            ],
            [
             0.1111111111111111,
             "#46039f"
            ],
            [
             0.2222222222222222,
             "#7201a8"
            ],
            [
             0.3333333333333333,
             "#9c179e"
            ],
            [
             0.4444444444444444,
             "#bd3786"
            ],
            [
             0.5555555555555556,
             "#d8576b"
            ],
            [
             0.6666666666666666,
             "#ed7953"
            ],
            [
             0.7777777777777778,
             "#fb9f3a"
            ],
            [
             0.8888888888888888,
             "#fdca26"
            ],
            [
             1,
             "#f0f921"
            ]
           ],
           "sequentialminus": [
            [
             0,
             "#0d0887"
            ],
            [
             0.1111111111111111,
             "#46039f"
            ],
            [
             0.2222222222222222,
             "#7201a8"
            ],
            [
             0.3333333333333333,
             "#9c179e"
            ],
            [
             0.4444444444444444,
             "#bd3786"
            ],
            [
             0.5555555555555556,
             "#d8576b"
            ],
            [
             0.6666666666666666,
             "#ed7953"
            ],
            [
             0.7777777777777778,
             "#fb9f3a"
            ],
            [
             0.8888888888888888,
             "#fdca26"
            ],
            [
             1,
             "#f0f921"
            ]
           ]
          },
          "colorway": [
           "#636efa",
           "#EF553B",
           "#00cc96",
           "#ab63fa",
           "#FFA15A",
           "#19d3f3",
           "#FF6692",
           "#B6E880",
           "#FF97FF",
           "#FECB52"
          ],
          "font": {
           "color": "#2a3f5f"
          },
          "geo": {
           "bgcolor": "white",
           "lakecolor": "white",
           "landcolor": "#E5ECF6",
           "showlakes": true,
           "showland": true,
           "subunitcolor": "white"
          },
          "hoverlabel": {
           "align": "left"
          },
          "hovermode": "closest",
          "mapbox": {
           "style": "light"
          },
          "paper_bgcolor": "white",
          "plot_bgcolor": "#E5ECF6",
          "polar": {
           "angularaxis": {
            "gridcolor": "white",
            "linecolor": "white",
            "ticks": ""
           },
           "bgcolor": "#E5ECF6",
           "radialaxis": {
            "gridcolor": "white",
            "linecolor": "white",
            "ticks": ""
           }
          },
          "scene": {
           "xaxis": {
            "backgroundcolor": "#E5ECF6",
            "gridcolor": "white",
            "gridwidth": 2,
            "linecolor": "white",
            "showbackground": true,
            "ticks": "",
            "zerolinecolor": "white"
           },
           "yaxis": {
            "backgroundcolor": "#E5ECF6",
            "gridcolor": "white",
            "gridwidth": 2,
            "linecolor": "white",
            "showbackground": true,
            "ticks": "",
            "zerolinecolor": "white"
           },
           "zaxis": {
            "backgroundcolor": "#E5ECF6",
            "gridcolor": "white",
            "gridwidth": 2,
            "linecolor": "white",
            "showbackground": true,
            "ticks": "",
            "zerolinecolor": "white"
           }
          },
          "shapedefaults": {
           "line": {
            "color": "#2a3f5f"
           }
          },
          "ternary": {
           "aaxis": {
            "gridcolor": "white",
            "linecolor": "white",
            "ticks": ""
           },
           "baxis": {
            "gridcolor": "white",
            "linecolor": "white",
            "ticks": ""
           },
           "bgcolor": "#E5ECF6",
           "caxis": {
            "gridcolor": "white",
            "linecolor": "white",
            "ticks": ""
           }
          },
          "title": {
           "x": 0.05
          },
          "xaxis": {
           "automargin": true,
           "gridcolor": "white",
           "linecolor": "white",
           "ticks": "",
           "title": {
            "standoff": 15
           },
           "zerolinecolor": "white",
           "zerolinewidth": 2
          },
          "yaxis": {
           "automargin": true,
           "gridcolor": "white",
           "linecolor": "white",
           "ticks": "",
           "title": {
            "standoff": 15
           },
           "zerolinecolor": "white",
           "zerolinewidth": 2
          }
         }
        },
        "title": {
         "font": {
          "size": 20
         },
         "pad": {
          "b": 0,
          "l": 300,
          "r": 0,
          "t": 0
         },
         "text": "CLEMENCE ROYER NA HDB - Ano X Acervo"
        },
        "width": 1200,
        "xaxis": {
         "anchor": "y",
         "domain": [
          0,
          1
         ],
         "nticks": 20,
         "tickangle": 60,
         "tickfont": {
          "size": 10
         },
         "ticklen": 5,
         "ticks": "outside",
         "tickwidth": 1,
         "title": {
          "standoff": 25,
          "text": "Anos em que há ao menos uma ocorrência"
         }
        },
        "yaxis": {
         "anchor": "x",
         "categoryarray": [
          "Tribuna da Imprensa (RJ) ",
          "Diário da Manhã (PE) ",
          "Vida Capichaba (ES) ",
          "O Jornal (RJ) ",
          "Diario de Noticias (RJ) ",
          "Diario Carioca (RJ) ",
          "Lusitania : Revista Illustrada de actual...",
          "A Cruz : Orgão da Parochia de S. João Ba...",
          "Revista da Semana (RJ) ",
          "Diario de Pernambuco (PE) ",
          "O Imparcial (RJ) ",
          "O Jornal (MA) ",
          "Almofadaka (AM) ",
          "A Provincia (PE) ",
          "Máscara (RS) ",
          "Mascara (RS) ",
          "Myrto e Acacia : Orgam do Instituto neo-...",
          "Annaes da Camara dos Deputados (RJ) ",
          "Revista Americana (RJ) ",
          "Ramo de Acacia (PR) ",
          "Pequeno Jornal : Jornal Pequeno (PE) ",
          "Fon Fon : Semanario Alegre  Politico  Cr...",
          "Gutenberg : Orgão da Associação Typograp...",
          "A Tribuna (SP)  e 1939",
          "Jornal do Commercio (AM) ",
          "O Fluminense (RJ) ",
          "A Federação : Orgam do Partido Republica...",
          "Correio da Manhã (RJ) ",
          "Pacotilha (MA) ",
          "A Republica : orgão do Partido Republica...",
          "A Provincia : Orgão do Partido Liberal (...",
          "O Commercio de São Paulo (SP) ",
          "Diario do Maranhão (MA) ",
          "O Pharol (SP) ",
          "O Estado do Espirito-Santo : Ordem e Pro...",
          "Revista Moderna (RJ) ",
          "Jornal do Commercio (RJ) ",
          "A Noticia (RJ) ",
          "Amasonas (AM) ",
          "A Republica: Orgão do Club Republicano (...",
          "A Familia : jornal litterario dedicado a...",
          "Jornal do Brasil (RJ) ",
          "Reformador (RJ) ",
          "O Brazil (RJ) ",
          "Correio Paulistano (SP) ",
          "Pharol (MG) ",
          "O Apostolo : Periodico religioso  moral ...",
          "O Paiz (RJ) ",
          "Gazeta de Noticias (RJ) ",
          "L'italia : In Continuazione Del \"Cosmopo...",
          "Gazeta do Norte : Orgão Liberal (CE) ",
          "O Cearense (CE) ",
          "Jornal de Recife (PE) ",
          "Boletim do Grande Oriente Unido e Suprem..."
         ],
         "categoryorder": "array",
         "domain": [
          0,
          1
         ],
         "tickfont": {
          "size": 10
         },
         "ticklen": 5,
         "ticks": "outside",
         "tickwidth": 1,
         "title": {
          "text": "Jornais"
         }
        }
       }
      }
     },
     "metadata": {},
     "output_type": "display_data"
    }
   ],
   "source": [
    "###############################################################################\n",
    "# Graph 3: Scatter plot de Ocorrências por Ano em cada Acervo\n",
    "###############################################################################\n",
    "# scatter plot with plotly express using the count of the number of times the 'Acervo' was repeated\n",
    "fig = px.scatter(df_ano_acervo, x= 'Ano' , y='Acervo', color='Acervo', height=1000, width=1200,\n",
    "                 hover_data=[df_ano_acervo['Ano'], df_ano_acervo['Acervo'], df_ano_acervo['quant_oco_ano']],\n",
    "                 title=f\"{output_file} - Ano X Acervo\",\n",
    "                 size='quant_oco_ano',\n",
    "                 )\n",
    "# config the layout\n",
    "fig.update_layout(\n",
    "    autosize=True,\n",
    "    hovermode=\"closest\",\n",
    "    legend=dict(orientation=\"v\"),\n",
    "    showlegend=False,\n",
    "    xaxis=dict(title=\"Anos em que há ao menos uma ocorrência\"),\n",
    "    yaxis=dict(title=\"Jornais\"),\n",
    "    title_font_size=20,\n",
    "    title_pad=dict(l=300, r=0, t=0, b=0),\n",
    ")\n",
    "fig.update_xaxes(\n",
    "        tickangle = 60,\n",
    "        title_standoff = 25,\n",
    "        nticks=20, tickfont_size=10,\n",
    "        ticks=\"outside\", tickwidth=1,\n",
    "        ticklen=5,\n",
    "        )\n",
    "fig.update_yaxes(\n",
    "        tickfont_size=10,\n",
    "        ticks=\"outside\", tickwidth=1,\n",
    "        ticklen=5,\n",
    "        )\n",
    "fig.show()\n",
    "#save the figure as a html and png file\n",
    "fig.write_html(f'{output_file}_scatter_anos.html')\n",
    "fig.write_image(f'{output_file}_scatter_anos.png')\n"
   ]
  },
  {
   "cell_type": "code",
   "execution_count": 36,
   "metadata": {},
   "outputs": [
    {
     "data": {
      "application/vnd.plotly.v1+json": {
       "config": {
        "plotlyServerURL": "https://plot.ly"
       },
       "data": [
        {
         "customdata": [
          [
           "Boletim do Grande Oriente Unido e Suprem..."
          ]
         ],
         "hovertemplate": "Acervo=%{customdata[0]}<br>Ano=%{x}<br>quant_oco_ano=%{y}<extra></extra>",
         "legendgroup": "Boletim do Grande Oriente Unido e Suprem...",
         "line": {
          "color": "#636efa",
          "dash": "solid"
         },
         "marker": {
          "symbol": "circle"
         },
         "mode": "markers+lines",
         "name": "Boletim do Grande Oriente Unido e Suprem...",
         "orientation": "v",
         "showlegend": true,
         "type": "scatter",
         "x": [
          1874
         ],
         "xaxis": "x",
         "y": [
          1
         ],
         "yaxis": "y"
        },
        {
         "customdata": [
          [
           "Jornal de Recife (PE) "
          ],
          [
           "Jornal de Recife (PE) "
          ],
          [
           "Jornal de Recife (PE) "
          ],
          [
           "Jornal de Recife (PE) "
          ],
          [
           "Jornal de Recife (PE) "
          ],
          [
           "Jornal de Recife (PE) "
          ],
          [
           "Jornal de Recife (PE) "
          ]
         ],
         "hovertemplate": "Acervo=%{customdata[0]}<br>Ano=%{x}<br>quant_oco_ano=%{y}<extra></extra>",
         "legendgroup": "Jornal de Recife (PE) ",
         "line": {
          "color": "#EF553B",
          "dash": "solid"
         },
         "marker": {
          "symbol": "circle"
         },
         "mode": "markers+lines",
         "name": "Jornal de Recife (PE) ",
         "orientation": "v",
         "showlegend": true,
         "type": "scatter",
         "x": [
          1876,
          1894,
          1897,
          1899,
          1917,
          1920,
          1932
         ],
         "xaxis": "x",
         "y": [
          1,
          1,
          1,
          1,
          1,
          2,
          1
         ],
         "yaxis": "y"
        },
        {
         "customdata": [
          [
           "O Cearense (CE) "
          ]
         ],
         "hovertemplate": "Acervo=%{customdata[0]}<br>Ano=%{x}<br>quant_oco_ano=%{y}<extra></extra>",
         "legendgroup": "O Cearense (CE) ",
         "line": {
          "color": "#00cc96",
          "dash": "solid"
         },
         "marker": {
          "symbol": "circle"
         },
         "mode": "markers+lines",
         "name": "O Cearense (CE) ",
         "orientation": "v",
         "showlegend": true,
         "type": "scatter",
         "x": [
          1877
         ],
         "xaxis": "x",
         "y": [
          1
         ],
         "yaxis": "y"
        },
        {
         "customdata": [
          [
           "Gazeta do Norte : Orgão Liberal (CE) "
          ]
         ],
         "hovertemplate": "Acervo=%{customdata[0]}<br>Ano=%{x}<br>quant_oco_ano=%{y}<extra></extra>",
         "legendgroup": "Gazeta do Norte : Orgão Liberal (CE) ",
         "line": {
          "color": "#ab63fa",
          "dash": "solid"
         },
         "marker": {
          "symbol": "circle"
         },
         "mode": "markers+lines",
         "name": "Gazeta do Norte : Orgão Liberal (CE) ",
         "orientation": "v",
         "showlegend": true,
         "type": "scatter",
         "x": [
          1881
         ],
         "xaxis": "x",
         "y": [
          3
         ],
         "yaxis": "y"
        },
        {
         "customdata": [
          [
           "L'italia : In Continuazione Del \"Cosmopo..."
          ]
         ],
         "hovertemplate": "Acervo=%{customdata[0]}<br>Ano=%{x}<br>quant_oco_ano=%{y}<extra></extra>",
         "legendgroup": "L'italia : In Continuazione Del \"Cosmopo...",
         "line": {
          "color": "#FFA15A",
          "dash": "solid"
         },
         "marker": {
          "symbol": "circle"
         },
         "mode": "markers+lines",
         "name": "L'italia : In Continuazione Del \"Cosmopo...",
         "orientation": "v",
         "showlegend": true,
         "type": "scatter",
         "x": [
          1886
         ],
         "xaxis": "x",
         "y": [
          1
         ],
         "yaxis": "y"
        },
        {
         "customdata": [
          [
           "Gazeta de Noticias (RJ) "
          ]
         ],
         "hovertemplate": "Acervo=%{customdata[0]}<br>Ano=%{x}<br>quant_oco_ano=%{y}<extra></extra>",
         "legendgroup": "Gazeta de Noticias (RJ) ",
         "line": {
          "color": "#19d3f3",
          "dash": "solid"
         },
         "marker": {
          "symbol": "circle"
         },
         "mode": "markers+lines",
         "name": "Gazeta de Noticias (RJ) ",
         "orientation": "v",
         "showlegend": true,
         "type": "scatter",
         "x": [
          1887
         ],
         "xaxis": "x",
         "y": [
          1
         ],
         "yaxis": "y"
        },
        {
         "customdata": [
          [
           "O Paiz (RJ) "
          ],
          [
           "O Paiz (RJ) "
          ]
         ],
         "hovertemplate": "Acervo=%{customdata[0]}<br>Ano=%{x}<br>quant_oco_ano=%{y}<extra></extra>",
         "legendgroup": "O Paiz (RJ) ",
         "line": {
          "color": "#FF6692",
          "dash": "solid"
         },
         "marker": {
          "symbol": "circle"
         },
         "mode": "markers+lines",
         "name": "O Paiz (RJ) ",
         "orientation": "v",
         "showlegend": true,
         "type": "scatter",
         "x": [
          1887,
          1900
         ],
         "xaxis": "x",
         "y": [
          1,
          1
         ],
         "yaxis": "y"
        },
        {
         "customdata": [
          [
           "O Apostolo : Periodico religioso  moral ..."
          ]
         ],
         "hovertemplate": "Acervo=%{customdata[0]}<br>Ano=%{x}<br>quant_oco_ano=%{y}<extra></extra>",
         "legendgroup": "O Apostolo : Periodico religioso  moral ...",
         "line": {
          "color": "#B6E880",
          "dash": "solid"
         },
         "marker": {
          "symbol": "circle"
         },
         "mode": "markers+lines",
         "name": "O Apostolo : Periodico religioso  moral ...",
         "orientation": "v",
         "showlegend": true,
         "type": "scatter",
         "x": [
          1888
         ],
         "xaxis": "x",
         "y": [
          1
         ],
         "yaxis": "y"
        },
        {
         "customdata": [
          [
           "Pharol (MG) "
          ],
          [
           "Pharol (MG) "
          ]
         ],
         "hovertemplate": "Acervo=%{customdata[0]}<br>Ano=%{x}<br>quant_oco_ano=%{y}<extra></extra>",
         "legendgroup": "Pharol (MG) ",
         "line": {
          "color": "#FF97FF",
          "dash": "solid"
         },
         "marker": {
          "symbol": "circle"
         },
         "mode": "markers+lines",
         "name": "Pharol (MG) ",
         "orientation": "v",
         "showlegend": true,
         "type": "scatter",
         "x": [
          1888,
          1905
         ],
         "xaxis": "x",
         "y": [
          1,
          1
         ],
         "yaxis": "y"
        },
        {
         "customdata": [
          [
           "Correio Paulistano (SP) "
          ],
          [
           "Correio Paulistano (SP) "
          ],
          [
           "Correio Paulistano (SP) "
          ],
          [
           "Correio Paulistano (SP) "
          ],
          [
           "Correio Paulistano (SP) "
          ],
          [
           "Correio Paulistano (SP) "
          ]
         ],
         "hovertemplate": "Acervo=%{customdata[0]}<br>Ano=%{x}<br>quant_oco_ano=%{y}<extra></extra>",
         "legendgroup": "Correio Paulistano (SP) ",
         "line": {
          "color": "#FECB52",
          "dash": "solid"
         },
         "marker": {
          "symbol": "circle"
         },
         "mode": "markers+lines",
         "name": "Correio Paulistano (SP) ",
         "orientation": "v",
         "showlegend": true,
         "type": "scatter",
         "x": [
          1888,
          1908,
          1951,
          1952,
          1953,
          1954
         ],
         "xaxis": "x",
         "y": [
          1,
          1,
          1,
          1,
          1,
          1
         ],
         "yaxis": "y"
        },
        {
         "customdata": [
          [
           "O Brazil (RJ) "
          ]
         ],
         "hovertemplate": "Acervo=%{customdata[0]}<br>Ano=%{x}<br>quant_oco_ano=%{y}<extra></extra>",
         "legendgroup": "O Brazil (RJ) ",
         "line": {
          "color": "#636efa",
          "dash": "solid"
         },
         "marker": {
          "symbol": "circle"
         },
         "mode": "markers+lines",
         "name": "O Brazil (RJ) ",
         "orientation": "v",
         "showlegend": true,
         "type": "scatter",
         "x": [
          1890
         ],
         "xaxis": "x",
         "y": [
          1
         ],
         "yaxis": "y"
        },
        {
         "customdata": [
          [
           "Reformador (RJ) "
          ]
         ],
         "hovertemplate": "Acervo=%{customdata[0]}<br>Ano=%{x}<br>quant_oco_ano=%{y}<extra></extra>",
         "legendgroup": "Reformador (RJ) ",
         "line": {
          "color": "#EF553B",
          "dash": "solid"
         },
         "marker": {
          "symbol": "circle"
         },
         "mode": "markers+lines",
         "name": "Reformador (RJ) ",
         "orientation": "v",
         "showlegend": true,
         "type": "scatter",
         "x": [
          1890
         ],
         "xaxis": "x",
         "y": [
          1
         ],
         "yaxis": "y"
        },
        {
         "customdata": [
          [
           "Jornal do Brasil (RJ) "
          ],
          [
           "Jornal do Brasil (RJ) "
          ],
          [
           "Jornal do Brasil (RJ) "
          ]
         ],
         "hovertemplate": "Acervo=%{customdata[0]}<br>Ano=%{x}<br>quant_oco_ano=%{y}<extra></extra>",
         "legendgroup": "Jornal do Brasil (RJ) ",
         "line": {
          "color": "#00cc96",
          "dash": "solid"
         },
         "marker": {
          "symbol": "circle"
         },
         "mode": "markers+lines",
         "name": "Jornal do Brasil (RJ) ",
         "orientation": "v",
         "showlegend": true,
         "type": "scatter",
         "x": [
          1892,
          1900,
          1936
         ],
         "xaxis": "x",
         "y": [
          1,
          1,
          2
         ],
         "yaxis": "y"
        },
        {
         "customdata": [
          [
           "A Familia : jornal litterario dedicado a..."
          ]
         ],
         "hovertemplate": "Acervo=%{customdata[0]}<br>Ano=%{x}<br>quant_oco_ano=%{y}<extra></extra>",
         "legendgroup": "A Familia : jornal litterario dedicado a...",
         "line": {
          "color": "#ab63fa",
          "dash": "solid"
         },
         "marker": {
          "symbol": "circle"
         },
         "mode": "markers+lines",
         "name": "A Familia : jornal litterario dedicado a...",
         "orientation": "v",
         "showlegend": true,
         "type": "scatter",
         "x": [
          1893
         ],
         "xaxis": "x",
         "y": [
          1
         ],
         "yaxis": "y"
        },
        {
         "customdata": [
          [
           "A Republica: Orgão do Club Republicano (..."
          ]
         ],
         "hovertemplate": "Acervo=%{customdata[0]}<br>Ano=%{x}<br>quant_oco_ano=%{y}<extra></extra>",
         "legendgroup": "A Republica: Orgão do Club Republicano (...",
         "line": {
          "color": "#FFA15A",
          "dash": "solid"
         },
         "marker": {
          "symbol": "circle"
         },
         "mode": "markers+lines",
         "name": "A Republica: Orgão do Club Republicano (...",
         "orientation": "v",
         "showlegend": true,
         "type": "scatter",
         "x": [
          1893
         ],
         "xaxis": "x",
         "y": [
          1
         ],
         "yaxis": "y"
        },
        {
         "customdata": [
          [
           "Amasonas (AM) "
          ]
         ],
         "hovertemplate": "Acervo=%{customdata[0]}<br>Ano=%{x}<br>quant_oco_ano=%{y}<extra></extra>",
         "legendgroup": "Amasonas (AM) ",
         "line": {
          "color": "#19d3f3",
          "dash": "solid"
         },
         "marker": {
          "symbol": "circle"
         },
         "mode": "markers+lines",
         "name": "Amasonas (AM) ",
         "orientation": "v",
         "showlegend": true,
         "type": "scatter",
         "x": [
          1896
         ],
         "xaxis": "x",
         "y": [
          1
         ],
         "yaxis": "y"
        },
        {
         "customdata": [
          [
           "A Noticia (RJ) "
          ]
         ],
         "hovertemplate": "Acervo=%{customdata[0]}<br>Ano=%{x}<br>quant_oco_ano=%{y}<extra></extra>",
         "legendgroup": "A Noticia (RJ) ",
         "line": {
          "color": "#FF6692",
          "dash": "solid"
         },
         "marker": {
          "symbol": "circle"
         },
         "mode": "markers+lines",
         "name": "A Noticia (RJ) ",
         "orientation": "v",
         "showlegend": true,
         "type": "scatter",
         "x": [
          1897
         ],
         "xaxis": "x",
         "y": [
          1
         ],
         "yaxis": "y"
        },
        {
         "customdata": [
          [
           "Jornal do Commercio (RJ) "
          ],
          [
           "Jornal do Commercio (RJ) "
          ],
          [
           "Jornal do Commercio (RJ) "
          ]
         ],
         "hovertemplate": "Acervo=%{customdata[0]}<br>Ano=%{x}<br>quant_oco_ano=%{y}<extra></extra>",
         "legendgroup": "Jornal do Commercio (RJ) ",
         "line": {
          "color": "#B6E880",
          "dash": "solid"
         },
         "marker": {
          "symbol": "circle"
         },
         "mode": "markers+lines",
         "name": "Jornal do Commercio (RJ) ",
         "orientation": "v",
         "showlegend": true,
         "type": "scatter",
         "x": [
          1897,
          1902,
          1923
         ],
         "xaxis": "x",
         "y": [
          1,
          1,
          1
         ],
         "yaxis": "y"
        },
        {
         "customdata": [
          [
           "Revista Moderna (RJ) "
          ]
         ],
         "hovertemplate": "Acervo=%{customdata[0]}<br>Ano=%{x}<br>quant_oco_ano=%{y}<extra></extra>",
         "legendgroup": "Revista Moderna (RJ) ",
         "line": {
          "color": "#FF97FF",
          "dash": "solid"
         },
         "marker": {
          "symbol": "circle"
         },
         "mode": "markers+lines",
         "name": "Revista Moderna (RJ) ",
         "orientation": "v",
         "showlegend": true,
         "type": "scatter",
         "x": [
          1898
         ],
         "xaxis": "x",
         "y": [
          1
         ],
         "yaxis": "y"
        },
        {
         "customdata": [
          [
           "O Estado do Espirito-Santo : Ordem e Pro..."
          ]
         ],
         "hovertemplate": "Acervo=%{customdata[0]}<br>Ano=%{x}<br>quant_oco_ano=%{y}<extra></extra>",
         "legendgroup": "O Estado do Espirito-Santo : Ordem e Pro...",
         "line": {
          "color": "#FECB52",
          "dash": "solid"
         },
         "marker": {
          "symbol": "circle"
         },
         "mode": "markers+lines",
         "name": "O Estado do Espirito-Santo : Ordem e Pro...",
         "orientation": "v",
         "showlegend": true,
         "type": "scatter",
         "x": [
          1900
         ],
         "xaxis": "x",
         "y": [
          1
         ],
         "yaxis": "y"
        },
        {
         "customdata": [
          [
           "O Pharol (SP) "
          ]
         ],
         "hovertemplate": "Acervo=%{customdata[0]}<br>Ano=%{x}<br>quant_oco_ano=%{y}<extra></extra>",
         "legendgroup": "O Pharol (SP) ",
         "line": {
          "color": "#636efa",
          "dash": "solid"
         },
         "marker": {
          "symbol": "circle"
         },
         "mode": "markers+lines",
         "name": "O Pharol (SP) ",
         "orientation": "v",
         "showlegend": true,
         "type": "scatter",
         "x": [
          1901
         ],
         "xaxis": "x",
         "y": [
          1
         ],
         "yaxis": "y"
        },
        {
         "customdata": [
          [
           "Diario do Maranhão (MA) "
          ],
          [
           "Diario do Maranhão (MA) "
          ]
         ],
         "hovertemplate": "Acervo=%{customdata[0]}<br>Ano=%{x}<br>quant_oco_ano=%{y}<extra></extra>",
         "legendgroup": "Diario do Maranhão (MA) ",
         "line": {
          "color": "#EF553B",
          "dash": "solid"
         },
         "marker": {
          "symbol": "circle"
         },
         "mode": "markers+lines",
         "name": "Diario do Maranhão (MA) ",
         "orientation": "v",
         "showlegend": true,
         "type": "scatter",
         "x": [
          1902,
          1909
         ],
         "xaxis": "x",
         "y": [
          1,
          1
         ],
         "yaxis": "y"
        },
        {
         "customdata": [
          [
           "O Commercio de São Paulo (SP) "
          ]
         ],
         "hovertemplate": "Acervo=%{customdata[0]}<br>Ano=%{x}<br>quant_oco_ano=%{y}<extra></extra>",
         "legendgroup": "O Commercio de São Paulo (SP) ",
         "line": {
          "color": "#00cc96",
          "dash": "solid"
         },
         "marker": {
          "symbol": "circle"
         },
         "mode": "markers+lines",
         "name": "O Commercio de São Paulo (SP) ",
         "orientation": "v",
         "showlegend": true,
         "type": "scatter",
         "x": [
          1902
         ],
         "xaxis": "x",
         "y": [
          1
         ],
         "yaxis": "y"
        },
        {
         "customdata": [
          [
           "A Provincia : Orgão do Partido Liberal (..."
          ]
         ],
         "hovertemplate": "Acervo=%{customdata[0]}<br>Ano=%{x}<br>quant_oco_ano=%{y}<extra></extra>",
         "legendgroup": "A Provincia : Orgão do Partido Liberal (...",
         "line": {
          "color": "#ab63fa",
          "dash": "solid"
         },
         "marker": {
          "symbol": "circle"
         },
         "mode": "markers+lines",
         "name": "A Provincia : Orgão do Partido Liberal (...",
         "orientation": "v",
         "showlegend": true,
         "type": "scatter",
         "x": [
          1902
         ],
         "xaxis": "x",
         "y": [
          1
         ],
         "yaxis": "y"
        },
        {
         "customdata": [
          [
           "A Republica : orgão do Partido Republica..."
          ]
         ],
         "hovertemplate": "Acervo=%{customdata[0]}<br>Ano=%{x}<br>quant_oco_ano=%{y}<extra></extra>",
         "legendgroup": "A Republica : orgão do Partido Republica...",
         "line": {
          "color": "#FFA15A",
          "dash": "solid"
         },
         "marker": {
          "symbol": "circle"
         },
         "mode": "markers+lines",
         "name": "A Republica : orgão do Partido Republica...",
         "orientation": "v",
         "showlegend": true,
         "type": "scatter",
         "x": [
          1902
         ],
         "xaxis": "x",
         "y": [
          1
         ],
         "yaxis": "y"
        },
        {
         "customdata": [
          [
           "Pacotilha (MA) "
          ],
          [
           "Pacotilha (MA) "
          ],
          [
           "Pacotilha (MA) "
          ]
         ],
         "hovertemplate": "Acervo=%{customdata[0]}<br>Ano=%{x}<br>quant_oco_ano=%{y}<extra></extra>",
         "legendgroup": "Pacotilha (MA) ",
         "line": {
          "color": "#19d3f3",
          "dash": "solid"
         },
         "marker": {
          "symbol": "circle"
         },
         "mode": "markers+lines",
         "name": "Pacotilha (MA) ",
         "orientation": "v",
         "showlegend": true,
         "type": "scatter",
         "x": [
          1904,
          1907,
          1913
         ],
         "xaxis": "x",
         "y": [
          1,
          2,
          1
         ],
         "yaxis": "y"
        },
        {
         "customdata": [
          [
           "Correio da Manhã (RJ) "
          ],
          [
           "Correio da Manhã (RJ) "
          ]
         ],
         "hovertemplate": "Acervo=%{customdata[0]}<br>Ano=%{x}<br>quant_oco_ano=%{y}<extra></extra>",
         "legendgroup": "Correio da Manhã (RJ) ",
         "line": {
          "color": "#FF6692",
          "dash": "solid"
         },
         "marker": {
          "symbol": "circle"
         },
         "mode": "markers+lines",
         "name": "Correio da Manhã (RJ) ",
         "orientation": "v",
         "showlegend": true,
         "type": "scatter",
         "x": [
          1905,
          1930
         ],
         "xaxis": "x",
         "y": [
          1,
          1
         ],
         "yaxis": "y"
        },
        {
         "customdata": [
          [
           "A Federação : Orgam do Partido Republica..."
          ],
          [
           "A Federação : Orgam do Partido Republica..."
          ],
          [
           "A Federação : Orgam do Partido Republica..."
          ]
         ],
         "hovertemplate": "Acervo=%{customdata[0]}<br>Ano=%{x}<br>quant_oco_ano=%{y}<extra></extra>",
         "legendgroup": "A Federação : Orgam do Partido Republica...",
         "line": {
          "color": "#B6E880",
          "dash": "solid"
         },
         "marker": {
          "symbol": "circle"
         },
         "mode": "markers+lines",
         "name": "A Federação : Orgam do Partido Republica...",
         "orientation": "v",
         "showlegend": true,
         "type": "scatter",
         "x": [
          1907,
          1911,
          1927
         ],
         "xaxis": "x",
         "y": [
          1,
          1,
          1
         ],
         "yaxis": "y"
        },
        {
         "customdata": [
          [
           "O Fluminense (RJ) "
          ]
         ],
         "hovertemplate": "Acervo=%{customdata[0]}<br>Ano=%{x}<br>quant_oco_ano=%{y}<extra></extra>",
         "legendgroup": "O Fluminense (RJ) ",
         "line": {
          "color": "#FF97FF",
          "dash": "solid"
         },
         "marker": {
          "symbol": "circle"
         },
         "mode": "markers+lines",
         "name": "O Fluminense (RJ) ",
         "orientation": "v",
         "showlegend": true,
         "type": "scatter",
         "x": [
          1907
         ],
         "xaxis": "x",
         "y": [
          1
         ],
         "yaxis": "y"
        },
        {
         "customdata": [
          [
           "Jornal do Commercio (AM) "
          ]
         ],
         "hovertemplate": "Acervo=%{customdata[0]}<br>Ano=%{x}<br>quant_oco_ano=%{y}<extra></extra>",
         "legendgroup": "Jornal do Commercio (AM) ",
         "line": {
          "color": "#FECB52",
          "dash": "solid"
         },
         "marker": {
          "symbol": "circle"
         },
         "mode": "markers+lines",
         "name": "Jornal do Commercio (AM) ",
         "orientation": "v",
         "showlegend": true,
         "type": "scatter",
         "x": [
          1908
         ],
         "xaxis": "x",
         "y": [
          1
         ],
         "yaxis": "y"
        },
        {
         "customdata": [
          [
           "A Tribuna (SP)  e 1939"
          ],
          [
           "A Tribuna (SP)  e 1939"
          ]
         ],
         "hovertemplate": "Acervo=%{customdata[0]}<br>Ano=%{x}<br>quant_oco_ano=%{y}<extra></extra>",
         "legendgroup": "A Tribuna (SP)  e 1939",
         "line": {
          "color": "#636efa",
          "dash": "solid"
         },
         "marker": {
          "symbol": "circle"
         },
         "mode": "markers+lines",
         "name": "A Tribuna (SP)  e 1939",
         "orientation": "v",
         "showlegend": true,
         "type": "scatter",
         "x": [
          1908,
          1909
         ],
         "xaxis": "x",
         "y": [
          1,
          1
         ],
         "yaxis": "y"
        },
        {
         "customdata": [
          [
           "Gutenberg : Orgão da Associação Typograp..."
          ]
         ],
         "hovertemplate": "Acervo=%{customdata[0]}<br>Ano=%{x}<br>quant_oco_ano=%{y}<extra></extra>",
         "legendgroup": "Gutenberg : Orgão da Associação Typograp...",
         "line": {
          "color": "#EF553B",
          "dash": "solid"
         },
         "marker": {
          "symbol": "circle"
         },
         "mode": "markers+lines",
         "name": "Gutenberg : Orgão da Associação Typograp...",
         "orientation": "v",
         "showlegend": true,
         "type": "scatter",
         "x": [
          1909
         ],
         "xaxis": "x",
         "y": [
          1
         ],
         "yaxis": "y"
        },
        {
         "customdata": [
          [
           "Fon Fon : Semanario Alegre  Politico  Cr..."
          ]
         ],
         "hovertemplate": "Acervo=%{customdata[0]}<br>Ano=%{x}<br>quant_oco_ano=%{y}<extra></extra>",
         "legendgroup": "Fon Fon : Semanario Alegre  Politico  Cr...",
         "line": {
          "color": "#00cc96",
          "dash": "solid"
         },
         "marker": {
          "symbol": "circle"
         },
         "mode": "markers+lines",
         "name": "Fon Fon : Semanario Alegre  Politico  Cr...",
         "orientation": "v",
         "showlegend": true,
         "type": "scatter",
         "x": [
          1910
         ],
         "xaxis": "x",
         "y": [
          1
         ],
         "yaxis": "y"
        },
        {
         "customdata": [
          [
           "Pequeno Jornal : Jornal Pequeno (PE) "
          ],
          [
           "Pequeno Jornal : Jornal Pequeno (PE) "
          ]
         ],
         "hovertemplate": "Acervo=%{customdata[0]}<br>Ano=%{x}<br>quant_oco_ano=%{y}<extra></extra>",
         "legendgroup": "Pequeno Jornal : Jornal Pequeno (PE) ",
         "line": {
          "color": "#ab63fa",
          "dash": "solid"
         },
         "marker": {
          "symbol": "circle"
         },
         "mode": "markers+lines",
         "name": "Pequeno Jornal : Jornal Pequeno (PE) ",
         "orientation": "v",
         "showlegend": true,
         "type": "scatter",
         "x": [
          1911,
          1931
         ],
         "xaxis": "x",
         "y": [
          2,
          1
         ],
         "yaxis": "y"
        },
        {
         "customdata": [
          [
           "Ramo de Acacia (PR) "
          ]
         ],
         "hovertemplate": "Acervo=%{customdata[0]}<br>Ano=%{x}<br>quant_oco_ano=%{y}<extra></extra>",
         "legendgroup": "Ramo de Acacia (PR) ",
         "line": {
          "color": "#FFA15A",
          "dash": "solid"
         },
         "marker": {
          "symbol": "circle"
         },
         "mode": "markers+lines",
         "name": "Ramo de Acacia (PR) ",
         "orientation": "v",
         "showlegend": true,
         "type": "scatter",
         "x": [
          1911
         ],
         "xaxis": "x",
         "y": [
          1
         ],
         "yaxis": "y"
        },
        {
         "customdata": [
          [
           "Revista Americana (RJ) "
          ]
         ],
         "hovertemplate": "Acervo=%{customdata[0]}<br>Ano=%{x}<br>quant_oco_ano=%{y}<extra></extra>",
         "legendgroup": "Revista Americana (RJ) ",
         "line": {
          "color": "#19d3f3",
          "dash": "solid"
         },
         "marker": {
          "symbol": "circle"
         },
         "mode": "markers+lines",
         "name": "Revista Americana (RJ) ",
         "orientation": "v",
         "showlegend": true,
         "type": "scatter",
         "x": [
          1912
         ],
         "xaxis": "x",
         "y": [
          1
         ],
         "yaxis": "y"
        },
        {
         "customdata": [
          [
           "Annaes da Camara dos Deputados (RJ) "
          ]
         ],
         "hovertemplate": "Acervo=%{customdata[0]}<br>Ano=%{x}<br>quant_oco_ano=%{y}<extra></extra>",
         "legendgroup": "Annaes da Camara dos Deputados (RJ) ",
         "line": {
          "color": "#FF6692",
          "dash": "solid"
         },
         "marker": {
          "symbol": "circle"
         },
         "mode": "markers+lines",
         "name": "Annaes da Camara dos Deputados (RJ) ",
         "orientation": "v",
         "showlegend": true,
         "type": "scatter",
         "x": [
          1913
         ],
         "xaxis": "x",
         "y": [
          4
         ],
         "yaxis": "y"
        },
        {
         "customdata": [
          [
           "Myrto e Acacia : Orgam do Instituto neo-..."
          ]
         ],
         "hovertemplate": "Acervo=%{customdata[0]}<br>Ano=%{x}<br>quant_oco_ano=%{y}<extra></extra>",
         "legendgroup": "Myrto e Acacia : Orgam do Instituto neo-...",
         "line": {
          "color": "#B6E880",
          "dash": "solid"
         },
         "marker": {
          "symbol": "circle"
         },
         "mode": "markers+lines",
         "name": "Myrto e Acacia : Orgam do Instituto neo-...",
         "orientation": "v",
         "showlegend": true,
         "type": "scatter",
         "x": [
          1916
         ],
         "xaxis": "x",
         "y": [
          1
         ],
         "yaxis": "y"
        },
        {
         "customdata": [
          [
           "Mascara (RS) "
          ]
         ],
         "hovertemplate": "Acervo=%{customdata[0]}<br>Ano=%{x}<br>quant_oco_ano=%{y}<extra></extra>",
         "legendgroup": "Mascara (RS) ",
         "line": {
          "color": "#FF97FF",
          "dash": "solid"
         },
         "marker": {
          "symbol": "circle"
         },
         "mode": "markers+lines",
         "name": "Mascara (RS) ",
         "orientation": "v",
         "showlegend": true,
         "type": "scatter",
         "x": [
          1919
         ],
         "xaxis": "x",
         "y": [
          2
         ],
         "yaxis": "y"
        },
        {
         "customdata": [
          [
           "Máscara (RS) "
          ]
         ],
         "hovertemplate": "Acervo=%{customdata[0]}<br>Ano=%{x}<br>quant_oco_ano=%{y}<extra></extra>",
         "legendgroup": "Máscara (RS) ",
         "line": {
          "color": "#FECB52",
          "dash": "solid"
         },
         "marker": {
          "symbol": "circle"
         },
         "mode": "markers+lines",
         "name": "Máscara (RS) ",
         "orientation": "v",
         "showlegend": true,
         "type": "scatter",
         "x": [
          1919
         ],
         "xaxis": "x",
         "y": [
          2
         ],
         "yaxis": "y"
        },
        {
         "customdata": [
          [
           "A Provincia (PE) "
          ]
         ],
         "hovertemplate": "Acervo=%{customdata[0]}<br>Ano=%{x}<br>quant_oco_ano=%{y}<extra></extra>",
         "legendgroup": "A Provincia (PE) ",
         "line": {
          "color": "#636efa",
          "dash": "solid"
         },
         "marker": {
          "symbol": "circle"
         },
         "mode": "markers+lines",
         "name": "A Provincia (PE) ",
         "orientation": "v",
         "showlegend": true,
         "type": "scatter",
         "x": [
          1920
         ],
         "xaxis": "x",
         "y": [
          2
         ],
         "yaxis": "y"
        },
        {
         "customdata": [
          [
           "Almofadaka (AM) "
          ]
         ],
         "hovertemplate": "Acervo=%{customdata[0]}<br>Ano=%{x}<br>quant_oco_ano=%{y}<extra></extra>",
         "legendgroup": "Almofadaka (AM) ",
         "line": {
          "color": "#EF553B",
          "dash": "solid"
         },
         "marker": {
          "symbol": "circle"
         },
         "mode": "markers+lines",
         "name": "Almofadaka (AM) ",
         "orientation": "v",
         "showlegend": true,
         "type": "scatter",
         "x": [
          1922
         ],
         "xaxis": "x",
         "y": [
          1
         ],
         "yaxis": "y"
        },
        {
         "customdata": [
          [
           "O Jornal (MA) "
          ]
         ],
         "hovertemplate": "Acervo=%{customdata[0]}<br>Ano=%{x}<br>quant_oco_ano=%{y}<extra></extra>",
         "legendgroup": "O Jornal (MA) ",
         "line": {
          "color": "#00cc96",
          "dash": "solid"
         },
         "marker": {
          "symbol": "circle"
         },
         "mode": "markers+lines",
         "name": "O Jornal (MA) ",
         "orientation": "v",
         "showlegend": true,
         "type": "scatter",
         "x": [
          1922
         ],
         "xaxis": "x",
         "y": [
          1
         ],
         "yaxis": "y"
        },
        {
         "customdata": [
          [
           "O Imparcial (RJ) "
          ]
         ],
         "hovertemplate": "Acervo=%{customdata[0]}<br>Ano=%{x}<br>quant_oco_ano=%{y}<extra></extra>",
         "legendgroup": "O Imparcial (RJ) ",
         "line": {
          "color": "#ab63fa",
          "dash": "solid"
         },
         "marker": {
          "symbol": "circle"
         },
         "mode": "markers+lines",
         "name": "O Imparcial (RJ) ",
         "orientation": "v",
         "showlegend": true,
         "type": "scatter",
         "x": [
          1925
         ],
         "xaxis": "x",
         "y": [
          1
         ],
         "yaxis": "y"
        },
        {
         "customdata": [
          [
           "Diario de Pernambuco (PE) "
          ],
          [
           "Diario de Pernambuco (PE) "
          ]
         ],
         "hovertemplate": "Acervo=%{customdata[0]}<br>Ano=%{x}<br>quant_oco_ano=%{y}<extra></extra>",
         "legendgroup": "Diario de Pernambuco (PE) ",
         "line": {
          "color": "#FFA15A",
          "dash": "solid"
         },
         "marker": {
          "symbol": "circle"
         },
         "mode": "markers+lines",
         "name": "Diario de Pernambuco (PE) ",
         "orientation": "v",
         "showlegend": true,
         "type": "scatter",
         "x": [
          1926,
          1934
         ],
         "xaxis": "x",
         "y": [
          1,
          1
         ],
         "yaxis": "y"
        },
        {
         "customdata": [
          [
           "Revista da Semana (RJ) "
          ]
         ],
         "hovertemplate": "Acervo=%{customdata[0]}<br>Ano=%{x}<br>quant_oco_ano=%{y}<extra></extra>",
         "legendgroup": "Revista da Semana (RJ) ",
         "line": {
          "color": "#19d3f3",
          "dash": "solid"
         },
         "marker": {
          "symbol": "circle"
         },
         "mode": "markers+lines",
         "name": "Revista da Semana (RJ) ",
         "orientation": "v",
         "showlegend": true,
         "type": "scatter",
         "x": [
          1927
         ],
         "xaxis": "x",
         "y": [
          1
         ],
         "yaxis": "y"
        },
        {
         "customdata": [
          [
           "A Cruz : Orgão da Parochia de S. João Ba..."
          ]
         ],
         "hovertemplate": "Acervo=%{customdata[0]}<br>Ano=%{x}<br>quant_oco_ano=%{y}<extra></extra>",
         "legendgroup": "A Cruz : Orgão da Parochia de S. João Ba...",
         "line": {
          "color": "#FF6692",
          "dash": "solid"
         },
         "marker": {
          "symbol": "circle"
         },
         "mode": "markers+lines",
         "name": "A Cruz : Orgão da Parochia de S. João Ba...",
         "orientation": "v",
         "showlegend": true,
         "type": "scatter",
         "x": [
          1930
         ],
         "xaxis": "x",
         "y": [
          1
         ],
         "yaxis": "y"
        },
        {
         "customdata": [
          [
           "Lusitania : Revista Illustrada de actual..."
          ]
         ],
         "hovertemplate": "Acervo=%{customdata[0]}<br>Ano=%{x}<br>quant_oco_ano=%{y}<extra></extra>",
         "legendgroup": "Lusitania : Revista Illustrada de actual...",
         "line": {
          "color": "#B6E880",
          "dash": "solid"
         },
         "marker": {
          "symbol": "circle"
         },
         "mode": "markers+lines",
         "name": "Lusitania : Revista Illustrada de actual...",
         "orientation": "v",
         "showlegend": true,
         "type": "scatter",
         "x": [
          1930
         ],
         "xaxis": "x",
         "y": [
          1
         ],
         "yaxis": "y"
        },
        {
         "customdata": [
          [
           "Diario Carioca (RJ) "
          ]
         ],
         "hovertemplate": "Acervo=%{customdata[0]}<br>Ano=%{x}<br>quant_oco_ano=%{y}<extra></extra>",
         "legendgroup": "Diario Carioca (RJ) ",
         "line": {
          "color": "#FF97FF",
          "dash": "solid"
         },
         "marker": {
          "symbol": "circle"
         },
         "mode": "markers+lines",
         "name": "Diario Carioca (RJ) ",
         "orientation": "v",
         "showlegend": true,
         "type": "scatter",
         "x": [
          1931
         ],
         "xaxis": "x",
         "y": [
          1
         ],
         "yaxis": "y"
        },
        {
         "customdata": [
          [
           "Diario de Noticias (RJ) "
          ],
          [
           "Diario de Noticias (RJ) "
          ]
         ],
         "hovertemplate": "Acervo=%{customdata[0]}<br>Ano=%{x}<br>quant_oco_ano=%{y}<extra></extra>",
         "legendgroup": "Diario de Noticias (RJ) ",
         "line": {
          "color": "#FECB52",
          "dash": "solid"
         },
         "marker": {
          "symbol": "circle"
         },
         "mode": "markers+lines",
         "name": "Diario de Noticias (RJ) ",
         "orientation": "v",
         "showlegend": true,
         "type": "scatter",
         "x": [
          1931,
          1940
         ],
         "xaxis": "x",
         "y": [
          1,
          1
         ],
         "yaxis": "y"
        },
        {
         "customdata": [
          [
           "O Jornal (RJ) "
          ]
         ],
         "hovertemplate": "Acervo=%{customdata[0]}<br>Ano=%{x}<br>quant_oco_ano=%{y}<extra></extra>",
         "legendgroup": "O Jornal (RJ) ",
         "line": {
          "color": "#636efa",
          "dash": "solid"
         },
         "marker": {
          "symbol": "circle"
         },
         "mode": "markers+lines",
         "name": "O Jornal (RJ) ",
         "orientation": "v",
         "showlegend": true,
         "type": "scatter",
         "x": [
          1931
         ],
         "xaxis": "x",
         "y": [
          1
         ],
         "yaxis": "y"
        },
        {
         "customdata": [
          [
           "Vida Capichaba (ES) "
          ]
         ],
         "hovertemplate": "Acervo=%{customdata[0]}<br>Ano=%{x}<br>quant_oco_ano=%{y}<extra></extra>",
         "legendgroup": "Vida Capichaba (ES) ",
         "line": {
          "color": "#EF553B",
          "dash": "solid"
         },
         "marker": {
          "symbol": "circle"
         },
         "mode": "markers+lines",
         "name": "Vida Capichaba (ES) ",
         "orientation": "v",
         "showlegend": true,
         "type": "scatter",
         "x": [
          1934
         ],
         "xaxis": "x",
         "y": [
          1
         ],
         "yaxis": "y"
        },
        {
         "customdata": [
          [
           "Diário da Manhã (PE) "
          ]
         ],
         "hovertemplate": "Acervo=%{customdata[0]}<br>Ano=%{x}<br>quant_oco_ano=%{y}<extra></extra>",
         "legendgroup": "Diário da Manhã (PE) ",
         "line": {
          "color": "#00cc96",
          "dash": "solid"
         },
         "marker": {
          "symbol": "circle"
         },
         "mode": "markers+lines",
         "name": "Diário da Manhã (PE) ",
         "orientation": "v",
         "showlegend": true,
         "type": "scatter",
         "x": [
          1937
         ],
         "xaxis": "x",
         "y": [
          1
         ],
         "yaxis": "y"
        },
        {
         "customdata": [
          [
           "Tribuna da Imprensa (RJ) "
          ]
         ],
         "hovertemplate": "Acervo=%{customdata[0]}<br>Ano=%{x}<br>quant_oco_ano=%{y}<extra></extra>",
         "legendgroup": "Tribuna da Imprensa (RJ) ",
         "line": {
          "color": "#ab63fa",
          "dash": "solid"
         },
         "marker": {
          "symbol": "circle"
         },
         "mode": "markers+lines",
         "name": "Tribuna da Imprensa (RJ) ",
         "orientation": "v",
         "showlegend": true,
         "type": "scatter",
         "x": [
          1954
         ],
         "xaxis": "x",
         "y": [
          1
         ],
         "yaxis": "y"
        }
       ],
       "layout": {
        "autosize": true,
        "height": 1000,
        "hovermode": "closest",
        "legend": {
         "orientation": "v",
         "title": {
          "text": "Acervo"
         },
         "tracegroupgap": 0
        },
        "showlegend": true,
        "template": {
         "data": {
          "bar": [
           {
            "error_x": {
             "color": "#2a3f5f"
            },
            "error_y": {
             "color": "#2a3f5f"
            },
            "marker": {
             "line": {
              "color": "#E5ECF6",
              "width": 0.5
             },
             "pattern": {
              "fillmode": "overlay",
              "size": 10,
              "solidity": 0.2
             }
            },
            "type": "bar"
           }
          ],
          "barpolar": [
           {
            "marker": {
             "line": {
              "color": "#E5ECF6",
              "width": 0.5
             },
             "pattern": {
              "fillmode": "overlay",
              "size": 10,
              "solidity": 0.2
             }
            },
            "type": "barpolar"
           }
          ],
          "carpet": [
           {
            "aaxis": {
             "endlinecolor": "#2a3f5f",
             "gridcolor": "white",
             "linecolor": "white",
             "minorgridcolor": "white",
             "startlinecolor": "#2a3f5f"
            },
            "baxis": {
             "endlinecolor": "#2a3f5f",
             "gridcolor": "white",
             "linecolor": "white",
             "minorgridcolor": "white",
             "startlinecolor": "#2a3f5f"
            },
            "type": "carpet"
           }
          ],
          "choropleth": [
           {
            "colorbar": {
             "outlinewidth": 0,
             "ticks": ""
            },
            "type": "choropleth"
           }
          ],
          "contour": [
           {
            "colorbar": {
             "outlinewidth": 0,
             "ticks": ""
            },
            "colorscale": [
             [
              0,
              "#0d0887"
             ],
             [
              0.1111111111111111,
              "#46039f"
             ],
             [
              0.2222222222222222,
              "#7201a8"
             ],
             [
              0.3333333333333333,
              "#9c179e"
             ],
             [
              0.4444444444444444,
              "#bd3786"
             ],
             [
              0.5555555555555556,
              "#d8576b"
             ],
             [
              0.6666666666666666,
              "#ed7953"
             ],
             [
              0.7777777777777778,
              "#fb9f3a"
             ],
             [
              0.8888888888888888,
              "#fdca26"
             ],
             [
              1,
              "#f0f921"
             ]
            ],
            "type": "contour"
           }
          ],
          "contourcarpet": [
           {
            "colorbar": {
             "outlinewidth": 0,
             "ticks": ""
            },
            "type": "contourcarpet"
           }
          ],
          "heatmap": [
           {
            "colorbar": {
             "outlinewidth": 0,
             "ticks": ""
            },
            "colorscale": [
             [
              0,
              "#0d0887"
             ],
             [
              0.1111111111111111,
              "#46039f"
             ],
             [
              0.2222222222222222,
              "#7201a8"
             ],
             [
              0.3333333333333333,
              "#9c179e"
             ],
             [
              0.4444444444444444,
              "#bd3786"
             ],
             [
              0.5555555555555556,
              "#d8576b"
             ],
             [
              0.6666666666666666,
              "#ed7953"
             ],
             [
              0.7777777777777778,
              "#fb9f3a"
             ],
             [
              0.8888888888888888,
              "#fdca26"
             ],
             [
              1,
              "#f0f921"
             ]
            ],
            "type": "heatmap"
           }
          ],
          "heatmapgl": [
           {
            "colorbar": {
             "outlinewidth": 0,
             "ticks": ""
            },
            "colorscale": [
             [
              0,
              "#0d0887"
             ],
             [
              0.1111111111111111,
              "#46039f"
             ],
             [
              0.2222222222222222,
              "#7201a8"
             ],
             [
              0.3333333333333333,
              "#9c179e"
             ],
             [
              0.4444444444444444,
              "#bd3786"
             ],
             [
              0.5555555555555556,
              "#d8576b"
             ],
             [
              0.6666666666666666,
              "#ed7953"
             ],
             [
              0.7777777777777778,
              "#fb9f3a"
             ],
             [
              0.8888888888888888,
              "#fdca26"
             ],
             [
              1,
              "#f0f921"
             ]
            ],
            "type": "heatmapgl"
           }
          ],
          "histogram": [
           {
            "marker": {
             "pattern": {
              "fillmode": "overlay",
              "size": 10,
              "solidity": 0.2
             }
            },
            "type": "histogram"
           }
          ],
          "histogram2d": [
           {
            "colorbar": {
             "outlinewidth": 0,
             "ticks": ""
            },
            "colorscale": [
             [
              0,
              "#0d0887"
             ],
             [
              0.1111111111111111,
              "#46039f"
             ],
             [
              0.2222222222222222,
              "#7201a8"
             ],
             [
              0.3333333333333333,
              "#9c179e"
             ],
             [
              0.4444444444444444,
              "#bd3786"
             ],
             [
              0.5555555555555556,
              "#d8576b"
             ],
             [
              0.6666666666666666,
              "#ed7953"
             ],
             [
              0.7777777777777778,
              "#fb9f3a"
             ],
             [
              0.8888888888888888,
              "#fdca26"
             ],
             [
              1,
              "#f0f921"
             ]
            ],
            "type": "histogram2d"
           }
          ],
          "histogram2dcontour": [
           {
            "colorbar": {
             "outlinewidth": 0,
             "ticks": ""
            },
            "colorscale": [
             [
              0,
              "#0d0887"
             ],
             [
              0.1111111111111111,
              "#46039f"
             ],
             [
              0.2222222222222222,
              "#7201a8"
             ],
             [
              0.3333333333333333,
              "#9c179e"
             ],
             [
              0.4444444444444444,
              "#bd3786"
             ],
             [
              0.5555555555555556,
              "#d8576b"
             ],
             [
              0.6666666666666666,
              "#ed7953"
             ],
             [
              0.7777777777777778,
              "#fb9f3a"
             ],
             [
              0.8888888888888888,
              "#fdca26"
             ],
             [
              1,
              "#f0f921"
             ]
            ],
            "type": "histogram2dcontour"
           }
          ],
          "mesh3d": [
           {
            "colorbar": {
             "outlinewidth": 0,
             "ticks": ""
            },
            "type": "mesh3d"
           }
          ],
          "parcoords": [
           {
            "line": {
             "colorbar": {
              "outlinewidth": 0,
              "ticks": ""
             }
            },
            "type": "parcoords"
           }
          ],
          "pie": [
           {
            "automargin": true,
            "type": "pie"
           }
          ],
          "scatter": [
           {
            "fillpattern": {
             "fillmode": "overlay",
             "size": 10,
             "solidity": 0.2
            },
            "type": "scatter"
           }
          ],
          "scatter3d": [
           {
            "line": {
             "colorbar": {
              "outlinewidth": 0,
              "ticks": ""
             }
            },
            "marker": {
             "colorbar": {
              "outlinewidth": 0,
              "ticks": ""
             }
            },
            "type": "scatter3d"
           }
          ],
          "scattercarpet": [
           {
            "marker": {
             "colorbar": {
              "outlinewidth": 0,
              "ticks": ""
             }
            },
            "type": "scattercarpet"
           }
          ],
          "scattergeo": [
           {
            "marker": {
             "colorbar": {
              "outlinewidth": 0,
              "ticks": ""
             }
            },
            "type": "scattergeo"
           }
          ],
          "scattergl": [
           {
            "marker": {
             "colorbar": {
              "outlinewidth": 0,
              "ticks": ""
             }
            },
            "type": "scattergl"
           }
          ],
          "scattermapbox": [
           {
            "marker": {
             "colorbar": {
              "outlinewidth": 0,
              "ticks": ""
             }
            },
            "type": "scattermapbox"
           }
          ],
          "scatterpolar": [
           {
            "marker": {
             "colorbar": {
              "outlinewidth": 0,
              "ticks": ""
             }
            },
            "type": "scatterpolar"
           }
          ],
          "scatterpolargl": [
           {
            "marker": {
             "colorbar": {
              "outlinewidth": 0,
              "ticks": ""
             }
            },
            "type": "scatterpolargl"
           }
          ],
          "scatterternary": [
           {
            "marker": {
             "colorbar": {
              "outlinewidth": 0,
              "ticks": ""
             }
            },
            "type": "scatterternary"
           }
          ],
          "surface": [
           {
            "colorbar": {
             "outlinewidth": 0,
             "ticks": ""
            },
            "colorscale": [
             [
              0,
              "#0d0887"
             ],
             [
              0.1111111111111111,
              "#46039f"
             ],
             [
              0.2222222222222222,
              "#7201a8"
             ],
             [
              0.3333333333333333,
              "#9c179e"
             ],
             [
              0.4444444444444444,
              "#bd3786"
             ],
             [
              0.5555555555555556,
              "#d8576b"
             ],
             [
              0.6666666666666666,
              "#ed7953"
             ],
             [
              0.7777777777777778,
              "#fb9f3a"
             ],
             [
              0.8888888888888888,
              "#fdca26"
             ],
             [
              1,
              "#f0f921"
             ]
            ],
            "type": "surface"
           }
          ],
          "table": [
           {
            "cells": {
             "fill": {
              "color": "#EBF0F8"
             },
             "line": {
              "color": "white"
             }
            },
            "header": {
             "fill": {
              "color": "#C8D4E3"
             },
             "line": {
              "color": "white"
             }
            },
            "type": "table"
           }
          ]
         },
         "layout": {
          "annotationdefaults": {
           "arrowcolor": "#2a3f5f",
           "arrowhead": 0,
           "arrowwidth": 1
          },
          "autotypenumbers": "strict",
          "coloraxis": {
           "colorbar": {
            "outlinewidth": 0,
            "ticks": ""
           }
          },
          "colorscale": {
           "diverging": [
            [
             0,
             "#8e0152"
            ],
            [
             0.1,
             "#c51b7d"
            ],
            [
             0.2,
             "#de77ae"
            ],
            [
             0.3,
             "#f1b6da"
            ],
            [
             0.4,
             "#fde0ef"
            ],
            [
             0.5,
             "#f7f7f7"
            ],
            [
             0.6,
             "#e6f5d0"
            ],
            [
             0.7,
             "#b8e186"
            ],
            [
             0.8,
             "#7fbc41"
            ],
            [
             0.9,
             "#4d9221"
            ],
            [
             1,
             "#276419"
            ]
           ],
           "sequential": [
            [
             0,
             "#0d0887"
            ],
            [
             0.1111111111111111,
             "#46039f"
            ],
            [
             0.2222222222222222,
             "#7201a8"
            ],
            [
             0.3333333333333333,
             "#9c179e"
            ],
            [
             0.4444444444444444,
             "#bd3786"
            ],
            [
             0.5555555555555556,
             "#d8576b"
            ],
            [
             0.6666666666666666,
             "#ed7953"
            ],
            [
             0.7777777777777778,
             "#fb9f3a"
            ],
            [
             0.8888888888888888,
             "#fdca26"
            ],
            [
             1,
             "#f0f921"
            ]
           ],
           "sequentialminus": [
            [
             0,
             "#0d0887"
            ],
            [
             0.1111111111111111,
             "#46039f"
            ],
            [
             0.2222222222222222,
             "#7201a8"
            ],
            [
             0.3333333333333333,
             "#9c179e"
            ],
            [
             0.4444444444444444,
             "#bd3786"
            ],
            [
             0.5555555555555556,
             "#d8576b"
            ],
            [
             0.6666666666666666,
             "#ed7953"
            ],
            [
             0.7777777777777778,
             "#fb9f3a"
            ],
            [
             0.8888888888888888,
             "#fdca26"
            ],
            [
             1,
             "#f0f921"
            ]
           ]
          },
          "colorway": [
           "#636efa",
           "#EF553B",
           "#00cc96",
           "#ab63fa",
           "#FFA15A",
           "#19d3f3",
           "#FF6692",
           "#B6E880",
           "#FF97FF",
           "#FECB52"
          ],
          "font": {
           "color": "#2a3f5f"
          },
          "geo": {
           "bgcolor": "white",
           "lakecolor": "white",
           "landcolor": "#E5ECF6",
           "showlakes": true,
           "showland": true,
           "subunitcolor": "white"
          },
          "hoverlabel": {
           "align": "left"
          },
          "hovermode": "closest",
          "mapbox": {
           "style": "light"
          },
          "paper_bgcolor": "white",
          "plot_bgcolor": "#E5ECF6",
          "polar": {
           "angularaxis": {
            "gridcolor": "white",
            "linecolor": "white",
            "ticks": ""
           },
           "bgcolor": "#E5ECF6",
           "radialaxis": {
            "gridcolor": "white",
            "linecolor": "white",
            "ticks": ""
           }
          },
          "scene": {
           "xaxis": {
            "backgroundcolor": "#E5ECF6",
            "gridcolor": "white",
            "gridwidth": 2,
            "linecolor": "white",
            "showbackground": true,
            "ticks": "",
            "zerolinecolor": "white"
           },
           "yaxis": {
            "backgroundcolor": "#E5ECF6",
            "gridcolor": "white",
            "gridwidth": 2,
            "linecolor": "white",
            "showbackground": true,
            "ticks": "",
            "zerolinecolor": "white"
           },
           "zaxis": {
            "backgroundcolor": "#E5ECF6",
            "gridcolor": "white",
            "gridwidth": 2,
            "linecolor": "white",
            "showbackground": true,
            "ticks": "",
            "zerolinecolor": "white"
           }
          },
          "shapedefaults": {
           "line": {
            "color": "#2a3f5f"
           }
          },
          "ternary": {
           "aaxis": {
            "gridcolor": "white",
            "linecolor": "white",
            "ticks": ""
           },
           "baxis": {
            "gridcolor": "white",
            "linecolor": "white",
            "ticks": ""
           },
           "bgcolor": "#E5ECF6",
           "caxis": {
            "gridcolor": "white",
            "linecolor": "white",
            "ticks": ""
           }
          },
          "title": {
           "x": 0.05
          },
          "xaxis": {
           "automargin": true,
           "gridcolor": "white",
           "linecolor": "white",
           "ticks": "",
           "title": {
            "standoff": 15
           },
           "zerolinecolor": "white",
           "zerolinewidth": 2
          },
          "yaxis": {
           "automargin": true,
           "gridcolor": "white",
           "linecolor": "white",
           "ticks": "",
           "title": {
            "standoff": 15
           },
           "zerolinecolor": "white",
           "zerolinewidth": 2
          }
         }
        },
        "title": {
         "font": {
          "size": 20
         },
         "pad": {
          "b": 0,
          "l": 300,
          "r": 0,
          "t": 0
         },
         "text": "CLEMENCE ROYER NA HDB - Ano X Acervo"
        },
        "width": 1200,
        "xaxis": {
         "anchor": "y",
         "domain": [
          0,
          1
         ],
         "title": {
          "text": "Anos"
         }
        },
        "yaxis": {
         "anchor": "x",
         "domain": [
          0,
          1
         ],
         "title": {
          "text": "Total de Ocorrências"
         }
        }
       }
      }
     },
     "metadata": {},
     "output_type": "display_data"
    }
   ],
   "source": [
    "###############################################################################\n",
    "# Graph 4: Gráfico de linha de Ocorrências por Ano em cada Acervo\n",
    "###############################################################################\n",
    "#line plot with plotly express using the count of the number of times the 'Acervo' was repeated between 1901 and 1940\n",
    "fig = px.line(df_ano_acervo, x='Ano', y='quant_oco_ano', color='Acervo', height=1000, width=1200,\n",
    "                 hover_data=[df_ano_acervo['Ano'], df_ano_acervo['Acervo'], df_ano_acervo['quant_oco_ano']],\n",
    "                 title=f'{output_file} - Ano X Acervo',\n",
    "                 markers=True,\n",
    "                 )\n",
    "# config the layout\n",
    "fig.update_layout(\n",
    "    autosize=True,\n",
    "    hovermode=\"closest\",\n",
    "    legend=dict(orientation=\"v\"),\n",
    "    showlegend=True,\n",
    "    xaxis=dict(title=\"Anos\"),\n",
    "    yaxis=dict(title=\"Total de Ocorrências\"),\n",
    "    title_font_size=20,\n",
    "    title_pad=dict(l=300, r=0, t=0, b=0),\n",
    ")\n",
    "fig.show()\n",
    "#save the figure as a html and png file\n",
    "fig.write_html(f'{output_file}_line_anos.html')\n",
    "fig.write_image(f'{output_file}_line_anos.png')"
   ]
  },
  {
   "cell_type": "code",
   "execution_count": 37,
   "metadata": {},
   "outputs": [
    {
     "data": {
      "application/vnd.plotly.v1+json": {
       "config": {
        "plotlyServerURL": "https://plot.ly"
       },
       "data": [
        {
         "alignmentgroup": "True",
         "hovertemplate": "Ano=%{marker.color}<br>Quantidade=%{y}<extra></extra>",
         "legendgroup": "",
         "marker": {
          "color": [
           1877,
           1881,
           1886,
           1887,
           1888,
           1890,
           1892,
           1893,
           1894,
           1896,
           1897,
           1898,
           1899,
           1900,
           1901,
           1902,
           1904,
           1905,
           1907,
           1908,
           1909,
           1910,
           1911,
           1912,
           1913,
           1916,
           1917,
           1919,
           1920,
           1922,
           1923,
           1925,
           1926,
           1927,
           1930,
           1931,
           1932,
           1934,
           1936,
           1937,
           1940,
           1951,
           1952,
           1953,
           1954
          ],
          "coloraxis": "coloraxis",
          "pattern": {
           "shape": ""
          }
         },
         "name": "",
         "offsetgroup": "",
         "orientation": "v",
         "showlegend": false,
         "textposition": "outside",
         "texttemplate": "%{y:.1s}",
         "type": "bar",
         "x": [
          1877,
          1881,
          1886,
          1887,
          1888,
          1890,
          1892,
          1893,
          1894,
          1896,
          1897,
          1898,
          1899,
          1900,
          1901,
          1902,
          1904,
          1905,
          1907,
          1908,
          1909,
          1910,
          1911,
          1912,
          1913,
          1916,
          1917,
          1919,
          1920,
          1922,
          1923,
          1925,
          1926,
          1927,
          1930,
          1931,
          1932,
          1934,
          1936,
          1937,
          1940,
          1951,
          1952,
          1953,
          1954
         ],
         "xaxis": "x",
         "y": [
          1,
          3,
          1,
          2,
          3,
          2,
          1,
          2,
          1,
          1,
          3,
          1,
          1,
          3,
          1,
          5,
          1,
          2,
          4,
          3,
          3,
          1,
          4,
          1,
          5,
          1,
          1,
          4,
          4,
          2,
          1,
          1,
          1,
          2,
          3,
          4,
          1,
          2,
          2,
          1,
          1,
          1,
          1,
          1,
          2
         ],
         "yaxis": "y"
        }
       ],
       "layout": {
        "autosize": true,
        "barmode": "relative",
        "coloraxis": {
         "colorbar": {
          "title": {
           "text": "Ano"
          }
         },
         "colorscale": [
          [
           0,
           "#0d0887"
          ],
          [
           0.1111111111111111,
           "#46039f"
          ],
          [
           0.2222222222222222,
           "#7201a8"
          ],
          [
           0.3333333333333333,
           "#9c179e"
          ],
          [
           0.4444444444444444,
           "#bd3786"
          ],
          [
           0.5555555555555556,
           "#d8576b"
          ],
          [
           0.6666666666666666,
           "#ed7953"
          ],
          [
           0.7777777777777778,
           "#fb9f3a"
          ],
          [
           0.8888888888888888,
           "#fdca26"
          ],
          [
           1,
           "#f0f921"
          ]
         ]
        },
        "height": 1000,
        "hovermode": "closest",
        "legend": {
         "orientation": "v",
         "tracegroupgap": 0
        },
        "showlegend": false,
        "template": {
         "data": {
          "bar": [
           {
            "error_x": {
             "color": "#2a3f5f"
            },
            "error_y": {
             "color": "#2a3f5f"
            },
            "marker": {
             "line": {
              "color": "#E5ECF6",
              "width": 0.5
             },
             "pattern": {
              "fillmode": "overlay",
              "size": 10,
              "solidity": 0.2
             }
            },
            "type": "bar"
           }
          ],
          "barpolar": [
           {
            "marker": {
             "line": {
              "color": "#E5ECF6",
              "width": 0.5
             },
             "pattern": {
              "fillmode": "overlay",
              "size": 10,
              "solidity": 0.2
             }
            },
            "type": "barpolar"
           }
          ],
          "carpet": [
           {
            "aaxis": {
             "endlinecolor": "#2a3f5f",
             "gridcolor": "white",
             "linecolor": "white",
             "minorgridcolor": "white",
             "startlinecolor": "#2a3f5f"
            },
            "baxis": {
             "endlinecolor": "#2a3f5f",
             "gridcolor": "white",
             "linecolor": "white",
             "minorgridcolor": "white",
             "startlinecolor": "#2a3f5f"
            },
            "type": "carpet"
           }
          ],
          "choropleth": [
           {
            "colorbar": {
             "outlinewidth": 0,
             "ticks": ""
            },
            "type": "choropleth"
           }
          ],
          "contour": [
           {
            "colorbar": {
             "outlinewidth": 0,
             "ticks": ""
            },
            "colorscale": [
             [
              0,
              "#0d0887"
             ],
             [
              0.1111111111111111,
              "#46039f"
             ],
             [
              0.2222222222222222,
              "#7201a8"
             ],
             [
              0.3333333333333333,
              "#9c179e"
             ],
             [
              0.4444444444444444,
              "#bd3786"
             ],
             [
              0.5555555555555556,
              "#d8576b"
             ],
             [
              0.6666666666666666,
              "#ed7953"
             ],
             [
              0.7777777777777778,
              "#fb9f3a"
             ],
             [
              0.8888888888888888,
              "#fdca26"
             ],
             [
              1,
              "#f0f921"
             ]
            ],
            "type": "contour"
           }
          ],
          "contourcarpet": [
           {
            "colorbar": {
             "outlinewidth": 0,
             "ticks": ""
            },
            "type": "contourcarpet"
           }
          ],
          "heatmap": [
           {
            "colorbar": {
             "outlinewidth": 0,
             "ticks": ""
            },
            "colorscale": [
             [
              0,
              "#0d0887"
             ],
             [
              0.1111111111111111,
              "#46039f"
             ],
             [
              0.2222222222222222,
              "#7201a8"
             ],
             [
              0.3333333333333333,
              "#9c179e"
             ],
             [
              0.4444444444444444,
              "#bd3786"
             ],
             [
              0.5555555555555556,
              "#d8576b"
             ],
             [
              0.6666666666666666,
              "#ed7953"
             ],
             [
              0.7777777777777778,
              "#fb9f3a"
             ],
             [
              0.8888888888888888,
              "#fdca26"
             ],
             [
              1,
              "#f0f921"
             ]
            ],
            "type": "heatmap"
           }
          ],
          "heatmapgl": [
           {
            "colorbar": {
             "outlinewidth": 0,
             "ticks": ""
            },
            "colorscale": [
             [
              0,
              "#0d0887"
             ],
             [
              0.1111111111111111,
              "#46039f"
             ],
             [
              0.2222222222222222,
              "#7201a8"
             ],
             [
              0.3333333333333333,
              "#9c179e"
             ],
             [
              0.4444444444444444,
              "#bd3786"
             ],
             [
              0.5555555555555556,
              "#d8576b"
             ],
             [
              0.6666666666666666,
              "#ed7953"
             ],
             [
              0.7777777777777778,
              "#fb9f3a"
             ],
             [
              0.8888888888888888,
              "#fdca26"
             ],
             [
              1,
              "#f0f921"
             ]
            ],
            "type": "heatmapgl"
           }
          ],
          "histogram": [
           {
            "marker": {
             "pattern": {
              "fillmode": "overlay",
              "size": 10,
              "solidity": 0.2
             }
            },
            "type": "histogram"
           }
          ],
          "histogram2d": [
           {
            "colorbar": {
             "outlinewidth": 0,
             "ticks": ""
            },
            "colorscale": [
             [
              0,
              "#0d0887"
             ],
             [
              0.1111111111111111,
              "#46039f"
             ],
             [
              0.2222222222222222,
              "#7201a8"
             ],
             [
              0.3333333333333333,
              "#9c179e"
             ],
             [
              0.4444444444444444,
              "#bd3786"
             ],
             [
              0.5555555555555556,
              "#d8576b"
             ],
             [
              0.6666666666666666,
              "#ed7953"
             ],
             [
              0.7777777777777778,
              "#fb9f3a"
             ],
             [
              0.8888888888888888,
              "#fdca26"
             ],
             [
              1,
              "#f0f921"
             ]
            ],
            "type": "histogram2d"
           }
          ],
          "histogram2dcontour": [
           {
            "colorbar": {
             "outlinewidth": 0,
             "ticks": ""
            },
            "colorscale": [
             [
              0,
              "#0d0887"
             ],
             [
              0.1111111111111111,
              "#46039f"
             ],
             [
              0.2222222222222222,
              "#7201a8"
             ],
             [
              0.3333333333333333,
              "#9c179e"
             ],
             [
              0.4444444444444444,
              "#bd3786"
             ],
             [
              0.5555555555555556,
              "#d8576b"
             ],
             [
              0.6666666666666666,
              "#ed7953"
             ],
             [
              0.7777777777777778,
              "#fb9f3a"
             ],
             [
              0.8888888888888888,
              "#fdca26"
             ],
             [
              1,
              "#f0f921"
             ]
            ],
            "type": "histogram2dcontour"
           }
          ],
          "mesh3d": [
           {
            "colorbar": {
             "outlinewidth": 0,
             "ticks": ""
            },
            "type": "mesh3d"
           }
          ],
          "parcoords": [
           {
            "line": {
             "colorbar": {
              "outlinewidth": 0,
              "ticks": ""
             }
            },
            "type": "parcoords"
           }
          ],
          "pie": [
           {
            "automargin": true,
            "type": "pie"
           }
          ],
          "scatter": [
           {
            "fillpattern": {
             "fillmode": "overlay",
             "size": 10,
             "solidity": 0.2
            },
            "type": "scatter"
           }
          ],
          "scatter3d": [
           {
            "line": {
             "colorbar": {
              "outlinewidth": 0,
              "ticks": ""
             }
            },
            "marker": {
             "colorbar": {
              "outlinewidth": 0,
              "ticks": ""
             }
            },
            "type": "scatter3d"
           }
          ],
          "scattercarpet": [
           {
            "marker": {
             "colorbar": {
              "outlinewidth": 0,
              "ticks": ""
             }
            },
            "type": "scattercarpet"
           }
          ],
          "scattergeo": [
           {
            "marker": {
             "colorbar": {
              "outlinewidth": 0,
              "ticks": ""
             }
            },
            "type": "scattergeo"
           }
          ],
          "scattergl": [
           {
            "marker": {
             "colorbar": {
              "outlinewidth": 0,
              "ticks": ""
             }
            },
            "type": "scattergl"
           }
          ],
          "scattermapbox": [
           {
            "marker": {
             "colorbar": {
              "outlinewidth": 0,
              "ticks": ""
             }
            },
            "type": "scattermapbox"
           }
          ],
          "scatterpolar": [
           {
            "marker": {
             "colorbar": {
              "outlinewidth": 0,
              "ticks": ""
             }
            },
            "type": "scatterpolar"
           }
          ],
          "scatterpolargl": [
           {
            "marker": {
             "colorbar": {
              "outlinewidth": 0,
              "ticks": ""
             }
            },
            "type": "scatterpolargl"
           }
          ],
          "scatterternary": [
           {
            "marker": {
             "colorbar": {
              "outlinewidth": 0,
              "ticks": ""
             }
            },
            "type": "scatterternary"
           }
          ],
          "surface": [
           {
            "colorbar": {
             "outlinewidth": 0,
             "ticks": ""
            },
            "colorscale": [
             [
              0,
              "#0d0887"
             ],
             [
              0.1111111111111111,
              "#46039f"
             ],
             [
              0.2222222222222222,
              "#7201a8"
             ],
             [
              0.3333333333333333,
              "#9c179e"
             ],
             [
              0.4444444444444444,
              "#bd3786"
             ],
             [
              0.5555555555555556,
              "#d8576b"
             ],
             [
              0.6666666666666666,
              "#ed7953"
             ],
             [
              0.7777777777777778,
              "#fb9f3a"
             ],
             [
              0.8888888888888888,
              "#fdca26"
             ],
             [
              1,
              "#f0f921"
             ]
            ],
            "type": "surface"
           }
          ],
          "table": [
           {
            "cells": {
             "fill": {
              "color": "#EBF0F8"
             },
             "line": {
              "color": "white"
             }
            },
            "header": {
             "fill": {
              "color": "#C8D4E3"
             },
             "line": {
              "color": "white"
             }
            },
            "type": "table"
           }
          ]
         },
         "layout": {
          "annotationdefaults": {
           "arrowcolor": "#2a3f5f",
           "arrowhead": 0,
           "arrowwidth": 1
          },
          "autotypenumbers": "strict",
          "coloraxis": {
           "colorbar": {
            "outlinewidth": 0,
            "ticks": ""
           }
          },
          "colorscale": {
           "diverging": [
            [
             0,
             "#8e0152"
            ],
            [
             0.1,
             "#c51b7d"
            ],
            [
             0.2,
             "#de77ae"
            ],
            [
             0.3,
             "#f1b6da"
            ],
            [
             0.4,
             "#fde0ef"
            ],
            [
             0.5,
             "#f7f7f7"
            ],
            [
             0.6,
             "#e6f5d0"
            ],
            [
             0.7,
             "#b8e186"
            ],
            [
             0.8,
             "#7fbc41"
            ],
            [
             0.9,
             "#4d9221"
            ],
            [
             1,
             "#276419"
            ]
           ],
           "sequential": [
            [
             0,
             "#0d0887"
            ],
            [
             0.1111111111111111,
             "#46039f"
            ],
            [
             0.2222222222222222,
             "#7201a8"
            ],
            [
             0.3333333333333333,
             "#9c179e"
            ],
            [
             0.4444444444444444,
             "#bd3786"
            ],
            [
             0.5555555555555556,
             "#d8576b"
            ],
            [
             0.6666666666666666,
             "#ed7953"
            ],
            [
             0.7777777777777778,
             "#fb9f3a"
            ],
            [
             0.8888888888888888,
             "#fdca26"
            ],
            [
             1,
             "#f0f921"
            ]
           ],
           "sequentialminus": [
            [
             0,
             "#0d0887"
            ],
            [
             0.1111111111111111,
             "#46039f"
            ],
            [
             0.2222222222222222,
             "#7201a8"
            ],
            [
             0.3333333333333333,
             "#9c179e"
            ],
            [
             0.4444444444444444,
             "#bd3786"
            ],
            [
             0.5555555555555556,
             "#d8576b"
            ],
            [
             0.6666666666666666,
             "#ed7953"
            ],
            [
             0.7777777777777778,
             "#fb9f3a"
            ],
            [
             0.8888888888888888,
             "#fdca26"
            ],
            [
             1,
             "#f0f921"
            ]
           ]
          },
          "colorway": [
           "#636efa",
           "#EF553B",
           "#00cc96",
           "#ab63fa",
           "#FFA15A",
           "#19d3f3",
           "#FF6692",
           "#B6E880",
           "#FF97FF",
           "#FECB52"
          ],
          "font": {
           "color": "#2a3f5f"
          },
          "geo": {
           "bgcolor": "white",
           "lakecolor": "white",
           "landcolor": "#E5ECF6",
           "showlakes": true,
           "showland": true,
           "subunitcolor": "white"
          },
          "hoverlabel": {
           "align": "left"
          },
          "hovermode": "closest",
          "mapbox": {
           "style": "light"
          },
          "paper_bgcolor": "white",
          "plot_bgcolor": "#E5ECF6",
          "polar": {
           "angularaxis": {
            "gridcolor": "white",
            "linecolor": "white",
            "ticks": ""
           },
           "bgcolor": "#E5ECF6",
           "radialaxis": {
            "gridcolor": "white",
            "linecolor": "white",
            "ticks": ""
           }
          },
          "scene": {
           "xaxis": {
            "backgroundcolor": "#E5ECF6",
            "gridcolor": "white",
            "gridwidth": 2,
            "linecolor": "white",
            "showbackground": true,
            "ticks": "",
            "zerolinecolor": "white"
           },
           "yaxis": {
            "backgroundcolor": "#E5ECF6",
            "gridcolor": "white",
            "gridwidth": 2,
            "linecolor": "white",
            "showbackground": true,
            "ticks": "",
            "zerolinecolor": "white"
           },
           "zaxis": {
            "backgroundcolor": "#E5ECF6",
            "gridcolor": "white",
            "gridwidth": 2,
            "linecolor": "white",
            "showbackground": true,
            "ticks": "",
            "zerolinecolor": "white"
           }
          },
          "shapedefaults": {
           "line": {
            "color": "#2a3f5f"
           }
          },
          "ternary": {
           "aaxis": {
            "gridcolor": "white",
            "linecolor": "white",
            "ticks": ""
           },
           "baxis": {
            "gridcolor": "white",
            "linecolor": "white",
            "ticks": ""
           },
           "bgcolor": "#E5ECF6",
           "caxis": {
            "gridcolor": "white",
            "linecolor": "white",
            "ticks": ""
           }
          },
          "title": {
           "x": 0.05
          },
          "xaxis": {
           "automargin": true,
           "gridcolor": "white",
           "linecolor": "white",
           "ticks": "",
           "title": {
            "standoff": 15
           },
           "zerolinecolor": "white",
           "zerolinewidth": 2
          },
          "yaxis": {
           "automargin": true,
           "gridcolor": "white",
           "linecolor": "white",
           "ticks": "",
           "title": {
            "standoff": 15
           },
           "zerolinecolor": "white",
           "zerolinewidth": 2
          }
         }
        },
        "title": {
         "font": {
          "size": 20
         },
         "pad": {
          "b": 0,
          "l": 300,
          "r": 0,
          "t": 0
         },
         "text": "CLEMENCE ROYER NA HDB - Ano X Quantidade"
        },
        "width": 1200,
        "xaxis": {
         "anchor": "y",
         "domain": [
          0,
          1
         ],
         "nticks": 20,
         "tickangle": 60,
         "tickfont": {
          "size": 10
         },
         "ticklen": 10,
         "ticks": "outside",
         "tickwidth": 1,
         "title": {
          "standoff": 25,
          "text": "Anos"
         }
        },
        "yaxis": {
         "anchor": "x",
         "domain": [
          0,
          1
         ],
         "tickfont": {
          "size": 10
         },
         "ticklen": 5,
         "ticks": "outside",
         "tickwidth": 1,
         "title": {
          "text": "Quantidade de Ocorrências"
         }
        }
       }
      }
     },
     "metadata": {},
     "output_type": "display_data"
    }
   ],
   "source": [
    "###############################################################################\n",
    "# Graph 5: Gráfico de barra de Ocorrências por Ano\n",
    "###############################################################################\n",
    "# create a bar plot with plotly express using the count of the number of time each year was repeted as in df_years\n",
    "fig = px.bar(df_years, x='Ano', y='Quantidade', color='Ano', height=1000, width=1200,\n",
    "                    hover_data=[df_years['Ano'], df_years['Quantidade']],\n",
    "                    title=f'{output_file} - Ano X Quantidade',\n",
    "                    )\n",
    "fig.update_traces(textposition='outside', texttemplate='%{y:.1s}')\n",
    "# config the layout\n",
    "fig.update_layout(\n",
    "    autosize=True,\n",
    "    hovermode=\"closest\",\n",
    "    legend=dict(orientation=\"v\"),\n",
    "    showlegend=False,\n",
    "    xaxis=dict(title=\"Anos\"),\n",
    "    yaxis=dict(title=\"Quantidade de Ocorrências\"),\n",
    "    title_font_size=20,\n",
    "    title_pad=dict(l=300, r=0, t=0, b=0),\n",
    ")\n",
    "fig.update_xaxes(\n",
    "        tickangle = 60,\n",
    "        title_standoff = 25,\n",
    "        nticks=20, tickfont_size=10, \n",
    "        ticks=\"outside\", tickwidth=1,\n",
    "        ticklen=10,\n",
    "        )\n",
    "fig.update_yaxes(\n",
    "        tickfont_size=10,\n",
    "        ticks=\"outside\", tickwidth=1,\n",
    "        ticklen=5,\n",
    "        )\n",
    "fig.show()\n",
    "#save the figure as a html and png file\n",
    "fig.write_html(f'{output_file}_bar_anos.html')\n",
    "fig.write_image(f'{output_file}_bar_anos.png')"
   ]
  },
  {
   "cell_type": "code",
   "execution_count": 38,
   "metadata": {},
   "outputs": [],
   "source": [
    "##############################################################################\n",
    "# function to get the sum of 'quant_oco_ano' in each decade\n",
    "def get_sum_decade(df, ano_inicial, ano_final):\n",
    "    return df.query(f'Ano >= {ano_inicial} and Ano <= {ano_final}')['quant_oco_ano'].sum()\n",
    "# Creates a dictionary with beggining and end of each decade\n",
    "# decades_dic = {'decade_beggining': 'decade_end'} 1850: 1859, 1860:1869, \n",
    "decades_dic = {1870:1879, 1880:1889, 1890:1899, 1900:1909, 1910:1919, 1920:1929, 1930:1939, 1940:1949, 1950:1959}\n",
    "# iterate over decades_dic passing in the key and value to function get_sum_decade\n",
    "decades = {key: get_sum_decade(df_ano_acervo, key, value) for key, value in decades_dic.items()}\n",
    "# create a dataframe from decades dict\n",
    "df6 = pd.DataFrame.from_dict(decades, orient='index')\n",
    "df6.reset_index(inplace=True)\n",
    "df6.columns = ['Década', 'quant_oco_ano']"
   ]
  },
  {
   "cell_type": "code",
   "execution_count": 39,
   "metadata": {},
   "outputs": [
    {
     "data": {
      "application/vnd.plotly.v1+json": {
       "config": {
        "plotlyServerURL": "https://plot.ly"
       },
       "data": [
        {
         "alignmentgroup": "True",
         "hovertemplate": "Década=%{marker.color}<br>quant_oco_ano=%{y}<extra></extra>",
         "legendgroup": "",
         "marker": {
          "color": [
           1870,
           1880,
           1890,
           1900,
           1910,
           1920,
           1930,
           1940,
           1950
          ],
          "coloraxis": "coloraxis",
          "pattern": {
           "shape": ""
          }
         },
         "name": "",
         "offsetgroup": "",
         "orientation": "v",
         "showlegend": false,
         "textposition": "auto",
         "type": "bar",
         "x": [
          1870,
          1880,
          1890,
          1900,
          1910,
          1920,
          1930,
          1940,
          1950
         ],
         "xaxis": "x",
         "y": [
          3,
          9,
          12,
          22,
          17,
          11,
          13,
          1,
          5
         ],
         "yaxis": "y"
        }
       ],
       "layout": {
        "autosize": true,
        "barmode": "relative",
        "coloraxis": {
         "colorbar": {
          "title": {
           "text": "Década"
          }
         },
         "colorscale": [
          [
           0,
           "#0d0887"
          ],
          [
           0.1111111111111111,
           "#46039f"
          ],
          [
           0.2222222222222222,
           "#7201a8"
          ],
          [
           0.3333333333333333,
           "#9c179e"
          ],
          [
           0.4444444444444444,
           "#bd3786"
          ],
          [
           0.5555555555555556,
           "#d8576b"
          ],
          [
           0.6666666666666666,
           "#ed7953"
          ],
          [
           0.7777777777777778,
           "#fb9f3a"
          ],
          [
           0.8888888888888888,
           "#fdca26"
          ],
          [
           1,
           "#f0f921"
          ]
         ]
        },
        "height": 500,
        "hovermode": "closest",
        "legend": {
         "orientation": "v",
         "tracegroupgap": 0
        },
        "showlegend": false,
        "template": {
         "data": {
          "bar": [
           {
            "error_x": {
             "color": "#2a3f5f"
            },
            "error_y": {
             "color": "#2a3f5f"
            },
            "marker": {
             "line": {
              "color": "#E5ECF6",
              "width": 0.5
             },
             "pattern": {
              "fillmode": "overlay",
              "size": 10,
              "solidity": 0.2
             }
            },
            "type": "bar"
           }
          ],
          "barpolar": [
           {
            "marker": {
             "line": {
              "color": "#E5ECF6",
              "width": 0.5
             },
             "pattern": {
              "fillmode": "overlay",
              "size": 10,
              "solidity": 0.2
             }
            },
            "type": "barpolar"
           }
          ],
          "carpet": [
           {
            "aaxis": {
             "endlinecolor": "#2a3f5f",
             "gridcolor": "white",
             "linecolor": "white",
             "minorgridcolor": "white",
             "startlinecolor": "#2a3f5f"
            },
            "baxis": {
             "endlinecolor": "#2a3f5f",
             "gridcolor": "white",
             "linecolor": "white",
             "minorgridcolor": "white",
             "startlinecolor": "#2a3f5f"
            },
            "type": "carpet"
           }
          ],
          "choropleth": [
           {
            "colorbar": {
             "outlinewidth": 0,
             "ticks": ""
            },
            "type": "choropleth"
           }
          ],
          "contour": [
           {
            "colorbar": {
             "outlinewidth": 0,
             "ticks": ""
            },
            "colorscale": [
             [
              0,
              "#0d0887"
             ],
             [
              0.1111111111111111,
              "#46039f"
             ],
             [
              0.2222222222222222,
              "#7201a8"
             ],
             [
              0.3333333333333333,
              "#9c179e"
             ],
             [
              0.4444444444444444,
              "#bd3786"
             ],
             [
              0.5555555555555556,
              "#d8576b"
             ],
             [
              0.6666666666666666,
              "#ed7953"
             ],
             [
              0.7777777777777778,
              "#fb9f3a"
             ],
             [
              0.8888888888888888,
              "#fdca26"
             ],
             [
              1,
              "#f0f921"
             ]
            ],
            "type": "contour"
           }
          ],
          "contourcarpet": [
           {
            "colorbar": {
             "outlinewidth": 0,
             "ticks": ""
            },
            "type": "contourcarpet"
           }
          ],
          "heatmap": [
           {
            "colorbar": {
             "outlinewidth": 0,
             "ticks": ""
            },
            "colorscale": [
             [
              0,
              "#0d0887"
             ],
             [
              0.1111111111111111,
              "#46039f"
             ],
             [
              0.2222222222222222,
              "#7201a8"
             ],
             [
              0.3333333333333333,
              "#9c179e"
             ],
             [
              0.4444444444444444,
              "#bd3786"
             ],
             [
              0.5555555555555556,
              "#d8576b"
             ],
             [
              0.6666666666666666,
              "#ed7953"
             ],
             [
              0.7777777777777778,
              "#fb9f3a"
             ],
             [
              0.8888888888888888,
              "#fdca26"
             ],
             [
              1,
              "#f0f921"
             ]
            ],
            "type": "heatmap"
           }
          ],
          "heatmapgl": [
           {
            "colorbar": {
             "outlinewidth": 0,
             "ticks": ""
            },
            "colorscale": [
             [
              0,
              "#0d0887"
             ],
             [
              0.1111111111111111,
              "#46039f"
             ],
             [
              0.2222222222222222,
              "#7201a8"
             ],
             [
              0.3333333333333333,
              "#9c179e"
             ],
             [
              0.4444444444444444,
              "#bd3786"
             ],
             [
              0.5555555555555556,
              "#d8576b"
             ],
             [
              0.6666666666666666,
              "#ed7953"
             ],
             [
              0.7777777777777778,
              "#fb9f3a"
             ],
             [
              0.8888888888888888,
              "#fdca26"
             ],
             [
              1,
              "#f0f921"
             ]
            ],
            "type": "heatmapgl"
           }
          ],
          "histogram": [
           {
            "marker": {
             "pattern": {
              "fillmode": "overlay",
              "size": 10,
              "solidity": 0.2
             }
            },
            "type": "histogram"
           }
          ],
          "histogram2d": [
           {
            "colorbar": {
             "outlinewidth": 0,
             "ticks": ""
            },
            "colorscale": [
             [
              0,
              "#0d0887"
             ],
             [
              0.1111111111111111,
              "#46039f"
             ],
             [
              0.2222222222222222,
              "#7201a8"
             ],
             [
              0.3333333333333333,
              "#9c179e"
             ],
             [
              0.4444444444444444,
              "#bd3786"
             ],
             [
              0.5555555555555556,
              "#d8576b"
             ],
             [
              0.6666666666666666,
              "#ed7953"
             ],
             [
              0.7777777777777778,
              "#fb9f3a"
             ],
             [
              0.8888888888888888,
              "#fdca26"
             ],
             [
              1,
              "#f0f921"
             ]
            ],
            "type": "histogram2d"
           }
          ],
          "histogram2dcontour": [
           {
            "colorbar": {
             "outlinewidth": 0,
             "ticks": ""
            },
            "colorscale": [
             [
              0,
              "#0d0887"
             ],
             [
              0.1111111111111111,
              "#46039f"
             ],
             [
              0.2222222222222222,
              "#7201a8"
             ],
             [
              0.3333333333333333,
              "#9c179e"
             ],
             [
              0.4444444444444444,
              "#bd3786"
             ],
             [
              0.5555555555555556,
              "#d8576b"
             ],
             [
              0.6666666666666666,
              "#ed7953"
             ],
             [
              0.7777777777777778,
              "#fb9f3a"
             ],
             [
              0.8888888888888888,
              "#fdca26"
             ],
             [
              1,
              "#f0f921"
             ]
            ],
            "type": "histogram2dcontour"
           }
          ],
          "mesh3d": [
           {
            "colorbar": {
             "outlinewidth": 0,
             "ticks": ""
            },
            "type": "mesh3d"
           }
          ],
          "parcoords": [
           {
            "line": {
             "colorbar": {
              "outlinewidth": 0,
              "ticks": ""
             }
            },
            "type": "parcoords"
           }
          ],
          "pie": [
           {
            "automargin": true,
            "type": "pie"
           }
          ],
          "scatter": [
           {
            "fillpattern": {
             "fillmode": "overlay",
             "size": 10,
             "solidity": 0.2
            },
            "type": "scatter"
           }
          ],
          "scatter3d": [
           {
            "line": {
             "colorbar": {
              "outlinewidth": 0,
              "ticks": ""
             }
            },
            "marker": {
             "colorbar": {
              "outlinewidth": 0,
              "ticks": ""
             }
            },
            "type": "scatter3d"
           }
          ],
          "scattercarpet": [
           {
            "marker": {
             "colorbar": {
              "outlinewidth": 0,
              "ticks": ""
             }
            },
            "type": "scattercarpet"
           }
          ],
          "scattergeo": [
           {
            "marker": {
             "colorbar": {
              "outlinewidth": 0,
              "ticks": ""
             }
            },
            "type": "scattergeo"
           }
          ],
          "scattergl": [
           {
            "marker": {
             "colorbar": {
              "outlinewidth": 0,
              "ticks": ""
             }
            },
            "type": "scattergl"
           }
          ],
          "scattermapbox": [
           {
            "marker": {
             "colorbar": {
              "outlinewidth": 0,
              "ticks": ""
             }
            },
            "type": "scattermapbox"
           }
          ],
          "scatterpolar": [
           {
            "marker": {
             "colorbar": {
              "outlinewidth": 0,
              "ticks": ""
             }
            },
            "type": "scatterpolar"
           }
          ],
          "scatterpolargl": [
           {
            "marker": {
             "colorbar": {
              "outlinewidth": 0,
              "ticks": ""
             }
            },
            "type": "scatterpolargl"
           }
          ],
          "scatterternary": [
           {
            "marker": {
             "colorbar": {
              "outlinewidth": 0,
              "ticks": ""
             }
            },
            "type": "scatterternary"
           }
          ],
          "surface": [
           {
            "colorbar": {
             "outlinewidth": 0,
             "ticks": ""
            },
            "colorscale": [
             [
              0,
              "#0d0887"
             ],
             [
              0.1111111111111111,
              "#46039f"
             ],
             [
              0.2222222222222222,
              "#7201a8"
             ],
             [
              0.3333333333333333,
              "#9c179e"
             ],
             [
              0.4444444444444444,
              "#bd3786"
             ],
             [
              0.5555555555555556,
              "#d8576b"
             ],
             [
              0.6666666666666666,
              "#ed7953"
             ],
             [
              0.7777777777777778,
              "#fb9f3a"
             ],
             [
              0.8888888888888888,
              "#fdca26"
             ],
             [
              1,
              "#f0f921"
             ]
            ],
            "type": "surface"
           }
          ],
          "table": [
           {
            "cells": {
             "fill": {
              "color": "#EBF0F8"
             },
             "line": {
              "color": "white"
             }
            },
            "header": {
             "fill": {
              "color": "#C8D4E3"
             },
             "line": {
              "color": "white"
             }
            },
            "type": "table"
           }
          ]
         },
         "layout": {
          "annotationdefaults": {
           "arrowcolor": "#2a3f5f",
           "arrowhead": 0,
           "arrowwidth": 1
          },
          "autotypenumbers": "strict",
          "coloraxis": {
           "colorbar": {
            "outlinewidth": 0,
            "ticks": ""
           }
          },
          "colorscale": {
           "diverging": [
            [
             0,
             "#8e0152"
            ],
            [
             0.1,
             "#c51b7d"
            ],
            [
             0.2,
             "#de77ae"
            ],
            [
             0.3,
             "#f1b6da"
            ],
            [
             0.4,
             "#fde0ef"
            ],
            [
             0.5,
             "#f7f7f7"
            ],
            [
             0.6,
             "#e6f5d0"
            ],
            [
             0.7,
             "#b8e186"
            ],
            [
             0.8,
             "#7fbc41"
            ],
            [
             0.9,
             "#4d9221"
            ],
            [
             1,
             "#276419"
            ]
           ],
           "sequential": [
            [
             0,
             "#0d0887"
            ],
            [
             0.1111111111111111,
             "#46039f"
            ],
            [
             0.2222222222222222,
             "#7201a8"
            ],
            [
             0.3333333333333333,
             "#9c179e"
            ],
            [
             0.4444444444444444,
             "#bd3786"
            ],
            [
             0.5555555555555556,
             "#d8576b"
            ],
            [
             0.6666666666666666,
             "#ed7953"
            ],
            [
             0.7777777777777778,
             "#fb9f3a"
            ],
            [
             0.8888888888888888,
             "#fdca26"
            ],
            [
             1,
             "#f0f921"
            ]
           ],
           "sequentialminus": [
            [
             0,
             "#0d0887"
            ],
            [
             0.1111111111111111,
             "#46039f"
            ],
            [
             0.2222222222222222,
             "#7201a8"
            ],
            [
             0.3333333333333333,
             "#9c179e"
            ],
            [
             0.4444444444444444,
             "#bd3786"
            ],
            [
             0.5555555555555556,
             "#d8576b"
            ],
            [
             0.6666666666666666,
             "#ed7953"
            ],
            [
             0.7777777777777778,
             "#fb9f3a"
            ],
            [
             0.8888888888888888,
             "#fdca26"
            ],
            [
             1,
             "#f0f921"
            ]
           ]
          },
          "colorway": [
           "#636efa",
           "#EF553B",
           "#00cc96",
           "#ab63fa",
           "#FFA15A",
           "#19d3f3",
           "#FF6692",
           "#B6E880",
           "#FF97FF",
           "#FECB52"
          ],
          "font": {
           "color": "#2a3f5f"
          },
          "geo": {
           "bgcolor": "white",
           "lakecolor": "white",
           "landcolor": "#E5ECF6",
           "showlakes": true,
           "showland": true,
           "subunitcolor": "white"
          },
          "hoverlabel": {
           "align": "left"
          },
          "hovermode": "closest",
          "mapbox": {
           "style": "light"
          },
          "paper_bgcolor": "white",
          "plot_bgcolor": "#E5ECF6",
          "polar": {
           "angularaxis": {
            "gridcolor": "white",
            "linecolor": "white",
            "ticks": ""
           },
           "bgcolor": "#E5ECF6",
           "radialaxis": {
            "gridcolor": "white",
            "linecolor": "white",
            "ticks": ""
           }
          },
          "scene": {
           "xaxis": {
            "backgroundcolor": "#E5ECF6",
            "gridcolor": "white",
            "gridwidth": 2,
            "linecolor": "white",
            "showbackground": true,
            "ticks": "",
            "zerolinecolor": "white"
           },
           "yaxis": {
            "backgroundcolor": "#E5ECF6",
            "gridcolor": "white",
            "gridwidth": 2,
            "linecolor": "white",
            "showbackground": true,
            "ticks": "",
            "zerolinecolor": "white"
           },
           "zaxis": {
            "backgroundcolor": "#E5ECF6",
            "gridcolor": "white",
            "gridwidth": 2,
            "linecolor": "white",
            "showbackground": true,
            "ticks": "",
            "zerolinecolor": "white"
           }
          },
          "shapedefaults": {
           "line": {
            "color": "#2a3f5f"
           }
          },
          "ternary": {
           "aaxis": {
            "gridcolor": "white",
            "linecolor": "white",
            "ticks": ""
           },
           "baxis": {
            "gridcolor": "white",
            "linecolor": "white",
            "ticks": ""
           },
           "bgcolor": "#E5ECF6",
           "caxis": {
            "gridcolor": "white",
            "linecolor": "white",
            "ticks": ""
           }
          },
          "title": {
           "x": 0.05
          },
          "xaxis": {
           "automargin": true,
           "gridcolor": "white",
           "linecolor": "white",
           "ticks": "",
           "title": {
            "standoff": 15
           },
           "zerolinecolor": "white",
           "zerolinewidth": 2
          },
          "yaxis": {
           "automargin": true,
           "gridcolor": "white",
           "linecolor": "white",
           "ticks": "",
           "title": {
            "standoff": 15
           },
           "zerolinecolor": "white",
           "zerolinewidth": 2
          }
         }
        },
        "title": {
         "font": {
          "size": 16
         },
         "pad": {
          "b": 0,
          "l": 50,
          "r": 0,
          "t": 0
         },
         "text": "CLEMENCE ROYER NA HDB - Década X Ocorrências"
        },
        "width": 500,
        "xaxis": {
         "anchor": "y",
         "domain": [
          0,
          1
         ],
         "nticks": 20,
         "tickangle": 60,
         "tickfont": {
          "size": 10
         },
         "ticklen": 5,
         "ticks": "outside",
         "tickwidth": 1,
         "title": {
          "standoff": 25,
          "text": "Quantidade de ocorrências"
         }
        },
        "yaxis": {
         "anchor": "x",
         "domain": [
          0,
          1
         ],
         "tickfont": {
          "size": 10
         },
         "ticklen": 5,
         "ticks": "outside",
         "tickwidth": 1,
         "title": {
          "text": "Décadas"
         }
        }
       }
      }
     },
     "metadata": {},
     "output_type": "display_data"
    }
   ],
   "source": [
    "# create a bar chart with the df6 dataframe\n",
    "fig = px.bar(df6, x='Década', y='quant_oco_ano', color= 'Década', height=500, width=500,\n",
    "                 hover_data=[df6['Década'], df6['quant_oco_ano']],\n",
    "                 title=f'{output_file} - Década X Ocorrências',\n",
    "                 )\n",
    "\n",
    "fig.update_layout(\n",
    "    autosize=True,\n",
    "    hovermode=\"closest\",\n",
    "    legend=dict(orientation=\"v\"),\n",
    "    showlegend=False,\n",
    "    xaxis=dict(title=\"Quantidade de ocorrências\"),\n",
    "    yaxis=dict(title=\"Décadas\"),\n",
    "    title_font_size=16,\n",
    "    title_pad=dict(l=50, r=0, t=0, b=0),\n",
    ")\n",
    "# update xaxes\n",
    "fig.update_xaxes(\n",
    "        tickangle = 60,\n",
    "        title_standoff = 25,\n",
    "        nticks=20, tickfont_size=10,\n",
    "        ticks=\"outside\", tickwidth=1,\n",
    "        ticklen=5,\n",
    "        )\n",
    "fig.update_yaxes(\n",
    "        tickfont_size=10,\n",
    "        ticks=\"outside\", tickwidth=1,\n",
    "        ticklen=5,\n",
    "        )\n",
    "fig.show()\n",
    "#save the figure as a html and png file\n",
    "fig.write_html(f'{output_file}_decades_bar.html')\n",
    "fig.write_image(f'{output_file}_decades_bar.png')\n"
   ]
  }
 ],
 "metadata": {
  "kernelspec": {
   "display_name": "Python 3.10.6 64-bit",
   "language": "python",
   "name": "python3"
  },
  "language_info": {
   "codemirror_mode": {
    "name": "ipython",
    "version": 3
   },
   "file_extension": ".py",
   "mimetype": "text/x-python",
   "name": "python",
   "nbconvert_exporter": "python",
   "pygments_lexer": "ipython3",
   "version": "3.10.6"
  },
  "orig_nbformat": 4,
  "vscode": {
   "interpreter": {
    "hash": "916dbcbb3f70747c44a77c7bcd40155683ae19c65e1c03b4aa3499c5328201f1"
   }
  }
 },
 "nbformat": 4,
 "nbformat_minor": 2
}
